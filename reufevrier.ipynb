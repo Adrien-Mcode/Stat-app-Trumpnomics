{
 "cells": [
  {
   "cell_type": "markdown",
   "metadata": {},
   "source": [
    "Présentation de la base de données\n"
   ]
  },
  {
   "cell_type": "markdown",
   "metadata": {},
   "source": [
    "Nous avons exporté les données de l'OCDE dans une base de données que nous avons reformatée, afin d'avoir une indexation multiple au niveau des colonnes : un premier niveau pour les pays et ensuite pour chaque pays les différents indicateurs choisis. Nous avons aussi ajouté des indicateurs concernant les inégalités, à savoir le top 50% du revenu et le top 10% du revenu. Néanmoins nous nous posons quelques questions concernant ces indicateurrs. 1) Le coefficient de Gini est disponible mais le calcul n'est fait que par année (car il nous semble qu'il varie peu). Faut-il alors qu'on le calcule à la main pour chaque trimestre, l'utiliser tel quel (par annnée), ou ne pas l'utiliser du tout? 2) Est-il important de savoir si la part des revenus est bruts ou non, dans le mesure où l'on cherche à évaluer l'impact des politiques fiscales de Trump?"
   ]
  },
  {
   "cell_type": "code",
   "execution_count": 55,
   "metadata": {},
   "outputs": [],
   "source": [
    "import csv"
   ]
  },
  {
   "cell_type": "code",
   "execution_count": 93,
   "metadata": {},
   "outputs": [],
   "source": [
    "import pandas as pd\n",
    "\n",
    "ocde_df = pd.read_csv(r\"https://raw.githubusercontent.com/Adrien-Mcode/Stat-app-Trumpnomics/main/Tableaux_csv/ocde2.csv?token=ASA6PWRCJSN5UPTN4K77SYLACU44O\")\n",
    "\n",
    "ocde_df.rename(columns={'Unnamed: 0':'Variables'}, inplace=True)\n",
    "\n",
    "ind_tuple = list(zip(ocde_df['Pays'], ocde_df['Variables']))\n",
    "new_index = pd.MultiIndex.from_tuples(ind_tuple, names=[\"Pays\", \"Variables\"])\n",
    "\n",
    "tocde = ocde_df.T.copy()\n",
    "tocde.columns = new_index\n",
    "tocde.drop(['Variables', 'Pays'], inplace=True)"
   ]
  },
  {
   "cell_type": "code",
   "execution_count": 112,
   "metadata": {},
   "outputs": [],
   "source": [
    "import csv\n",
    "bottom_50 = pd.read_csv(r\"https://raw.githubusercontent.com/Adrien-Mcode/Stat-app-Trumpnomics/main/Donnees%20inegalite/top_bottom_income/WID_Data_Metadata/bottom_50_income.csv?token=ASA6PWUTFBTHQOQKNCTKW3DACVADK\",\n",
    "                       header = 1,\n",
    "                       sep=';')"
   ]
  },
  {
   "cell_type": "code",
   "execution_count": 115,
   "metadata": {},
   "outputs": [],
   "source": [
    "import csv\n",
    "top_10 =pd.read_csv(r\"https://raw.githubusercontent.com/Adrien-Mcode/Stat-app-Trumpnomics/main/Donnees%20inegalite/top_bottom_income/WID_Data_Metadata/top_10_income.csv?token=ASA6PWRMIM3ZEUEIJW6LKGDACVAMC\",\n",
    "                   header = 1,\n",
    "                   sep=';')"
   ]
  },
  {
   "cell_type": "code",
   "execution_count": 99,
   "metadata": {},
   "outputs": [],
   "source": [
    "df_ocde = pd.read_csv(r\"https://raw.githubusercontent.com/Adrien-Mcode/Stat-app-Trumpnomics/main/Tableaux_csv/ocde2.csv?token=ASA6PWWQBJ522O3JJD4YY73ACU6KA\")"
   ]
  },
  {
   "cell_type": "code",
   "execution_count": 113,
   "metadata": {},
   "outputs": [
    {
     "data": {
      "text/plain": [
       "Index(['Percentile', 'Year',\n",
       "       'sptinc_z_AT\\nPre-tax national income\\nBottom 50% | share | adults | equal split\\nAustria',\n",
       "       'sptinc_z_GB\\nPre-tax national income\\nBottom 50% | share | adults | equal split\\nUnited Kingdom',\n",
       "       'sptinc_z_US\\nPre-tax national income\\nBottom 50% | share | adults | equal split\\nUSA',\n",
       "       'sptinc_z_TR\\nPre-tax national income\\nBottom 50% | share | adults | equal split\\nTurkey',\n",
       "       'sptinc_z_BE\\nPre-tax national income\\nBottom 50% | share | adults | equal split\\nBelgium',\n",
       "       'sptinc_z_CA\\nPre-tax national income\\nBottom 50% | share | adults | equal split\\nCanada',\n",
       "       'sptinc_z_DK\\nPre-tax national income\\nBottom 50% | share | adults | equal split\\nDenmark',\n",
       "       'sptinc_z_FI\\nPre-tax national income\\nBottom 50% | share | adults | equal split\\nFinland',\n",
       "       'sptinc_z_FR\\nPre-tax national income\\nBottom 50% | share | adults | equal split\\nFrance',\n",
       "       'sptinc_z_DE\\nPre-tax national income\\nBottom 50% | share | adults | equal split\\nGermany',\n",
       "       'sptinc_z_GR\\nPre-tax national income\\nBottom 50% | share | adults | equal split\\nGreece',\n",
       "       'sptinc_z_AU\\nPre-tax national income\\nBottom 50% | share | adults | equal split\\nAustralia',\n",
       "       'sptinc_z_IE\\nPre-tax national income\\nBottom 50% | share | adults | equal split\\nIreland',\n",
       "       'sptinc_z_IT\\nPre-tax national income\\nBottom 50% | share | adults | equal split\\nItaly',\n",
       "       'sptinc_z_JP\\nPre-tax national income\\nBottom 50% | share | adults | equal split\\nJapan',\n",
       "       'sptinc_z_LU\\nPre-tax national income\\nBottom 50% | share | adults | equal split\\nLuxembourg',\n",
       "       'sptinc_z_NL\\nPre-tax national income\\nBottom 50% | share | adults | equal split\\nNetherlands',\n",
       "       'sptinc_z_NZ\\nPre-tax national income\\nBottom 50% | share | adults | equal split\\nNew Zealand',\n",
       "       'sptinc_z_NO\\nPre-tax national income\\nBottom 50% | share | adults | equal split\\nNorway',\n",
       "       'sptinc_z_PT\\nPre-tax national income\\nBottom 50% | share | adults | equal split\\nPortugal',\n",
       "       'sptinc_z_ES\\nPre-tax national income\\nBottom 50% | share | adults | equal split\\nSpain',\n",
       "       'sptinc_z_SE\\nPre-tax national income\\nBottom 50% | share | adults | equal split\\nSweden',\n",
       "       'sptinc_z_CH\\nPre-tax national income\\nBottom 50% | share | adults | equal split\\nSwitzerland'],\n",
       "      dtype='object')"
      ]
     },
     "execution_count": 113,
     "metadata": {},
     "output_type": "execute_result"
    }
   ],
   "source": [
    "bottom_50.columns"
   ]
  },
  {
   "cell_type": "code",
   "execution_count": 116,
   "metadata": {},
   "outputs": [],
   "source": [
    "import pandas as pd\n",
    "import csv\n",
    "\n",
    "\n",
    "pays_ocde = {\"Germany\" :'DEU',\"Australia\" :'AUS',\"Austria\":'AUT',\"Belgium\":'BEL',\n",
    "             \"Canada\":'CAN',\"Denmark\":'DNK',\"Spain\":'ESP',\"Finland\":'FIN',\n",
    "             \"France\":'FRA',\"Greece\":'GRC',\"Ireland\":'IRL',\"Italy\":'ITA',\n",
    "             \"Japan\":'JPN',\"Luxembourg\":'LUX',\"Norway\":'NOR',\"New-Zealand\":'NZL',\n",
    "             \"Netherlands\":'NLD',\"Portugal\":'PRT',\"United Kingdom\":'GBR',\n",
    "             \"Sweden\":'SWE',\"Switzerland\":'CHE',\"Turkey\":'TUR',\"United-States\":'USA'}\n",
    "\n",
    "\n",
    "\n",
    "df_ocde.rename(columns={'Unnamed: 0':'Variables'}, inplace=True)\n",
    "\n",
    "ind_tuple = list(zip(df_ocde['Pays'], df_ocde['Variables']))\n",
    "new_index = pd.MultiIndex.from_tuples(ind_tuple, names=[\"Pays\", \"Variables\"])\n",
    "#mise en place du système de double indice\n",
    "tocde = df_ocde.T.copy()\n",
    "tocde.columns = new_index\n",
    "tocde.drop(['Variables', 'Pays'], inplace=True)\n",
    "#tocde = tocde.drop(['2020-Q1','2020-Q2','2020-Q3','2020-Q4','2021-Q1'])\n",
    "#renommage des colonnes de bottom_50 et top_10\n",
    "bottom_50.columns = ['Variables', 'Year'] + sorted(pays_ocde.keys(), key=str)\n",
    "top_10.columns = ['Variables', 'Year'] + sorted(pays_ocde.keys(), key=str)\n",
    "\n",
    "#on prépare bottom_50 pour la fusion\n",
    "bottom_50 = bottom_50.drop('Variables', axis=1)\n",
    "for i in range (1,3) : \n",
    "    bottom_50 = pd.concat([bottom_50,bottom_50]) \n",
    "    \n",
    "annee = []\n",
    "for j in range (1,5):\n",
    "    for i in range (0,29):\n",
    "        annee.append(str(1991+i)+'-Q'+str(j))\n",
    "bottom_50['Year'] = annee\n",
    "\n",
    "#Mise en place double index pour bottom_50 :\n",
    "bottom_50 = bottom_50.set_index('Year')\n",
    "\n",
    "bottom_50['Variables'] = 'income p0p50'\n",
    "\n",
    "ind_tuple = list(zip(bottom_50.columns, bottom_50['Variables']))\n",
    "\n",
    "new_index = pd.MultiIndex.from_tuples(ind_tuple, names=[\"Pays\", \"Variables\"])\n",
    "\n",
    "bottom_50.columns = new_index\n",
    "\n",
    "bottom_50 = bottom_50.drop(('Variables','income p0p50'), axis = 1)\n",
    "\n",
    "tocde = tocde.merge(right=bottom_50, how='outer',\n",
    "                    left_index=True,\n",
    "                    right_index=True).sort_index(axis = 0).sort_index(axis = 1)\n",
    "\n",
    "#on prépare top_10 pour la fusion :\n",
    "top_10 = top_10.drop('Variables', axis = 1)\n",
    "for i in range (1,3) : \n",
    "    top_10 = pd.concat([top_10,top_10])    \n",
    "    \n",
    "annee = []\n",
    "for j in range (1,5):\n",
    "    for i in range (0,29):\n",
    "        annee.append(str(1991+i)+'-Q'+str(j))\n",
    "top_10['Year'] = annee\n",
    "\n",
    "#Mise en place double index pour top_10 :\n",
    "top_10 = top_10.set_index('Year')\n",
    "\n",
    "top_10['Variables'] = 'income p90p100'\n",
    "\n",
    "ind_tuple = list(zip(top_10.columns, top_10['Variables']))\n",
    "\n",
    "new_index = pd.MultiIndex.from_tuples(ind_tuple, names=[\"Pays\", \"Variables\"])\n",
    "\n",
    "top_10.columns = new_index\n",
    "\n",
    "top_10 = top_10.drop(('Variables','income p90p100'), axis=1)\n",
    "\n",
    "tocde = tocde.merge(right = top_10,\n",
    "                    how='outer',\n",
    "                    left_index=True,\n",
    "                    right_index=True).sort_index(axis = 0).sort_index(axis = 1)\n",
    "\n",
    "qs = tocde.index.str.replace(r'(Q\\d) (\\d+)', r'\\2-\\1')\n",
    "\n",
    "tocde['date'] = pd.PeriodIndex(qs, freq='Q').to_timestamp()\n",
    "\n",
    "\n",
    "tocde = tocde.reindex(index=tocde['date'])\n",
    "tocde = tocde.drop(\"date\", axis=1)"
   ]
  },
  {
   "cell_type": "markdown",
   "metadata": {},
   "source": [
    "Nous allons désormais effectuer des tests de stationnarité sur les différentes variables. Nous appliquons deux tests  : KPSS qui a pour hypothèse nulle H0:\"La série est stationnaire\" et le test AFD dont l'hypothèse nulle est H0 : \"La série est non stationnaire\". NB : nous n'avons pas désaisonnalisé les séries avant d'effectuer les tests car nosu ne savions pas si cela éait nécessaire."
   ]
  },
  {
   "cell_type": "markdown",
   "metadata": {},
   "source": [
    " Dans un premier temps nous nous intéressons au PIB des Etats-Unis. D'abord le test KPSS :"
   ]
  },
  {
   "cell_type": "code",
   "execution_count": 122,
   "metadata": {},
   "outputs": [
    {
     "data": {
      "text/plain": [
       "date\n",
       "1990-01-01    9358.29\n",
       "1990-04-01    9392.25\n",
       "1990-07-01     9398.5\n",
       "1990-10-01    9312.94\n",
       "1991-01-01    9269.37\n",
       "               ...   \n",
       "2018-10-01    18813.9\n",
       "2019-01-01    18950.3\n",
       "2019-04-01    19020.6\n",
       "2019-07-01    19141.7\n",
       "2019-10-01      19254\n",
       "Name: PIB, Length: 120, dtype: object"
      ]
     },
     "execution_count": 122,
     "metadata": {},
     "output_type": "execute_result"
    }
   ],
   "source": [
    "serie1=tocde['USA']['PIB']"
   ]
  },
  {
   "cell_type": "code",
   "execution_count": 123,
   "metadata": {},
   "outputs": [
    {
     "name": "stdout",
     "output_type": "stream",
     "text": [
      "KPSS Statistic: 0.9556147530640225\n",
      "p-value: 0.01\n",
      "num lags: 13\n",
      "Critial Values:\n",
      "   10% : 0.347\n",
      "   5% : 0.463\n",
      "   2.5% : 0.574\n",
      "   1% : 0.739\n",
      "Result: The series is not stationary\n"
     ]
    },
    {
     "name": "stderr",
     "output_type": "stream",
     "text": [
      "C:\\Users\\duran\\anaconda3\\lib\\site-packages\\statsmodels\\tsa\\stattools.py:1661: FutureWarning: The behavior of using lags=None will change in the next release. Currently lags=None is the same as lags='legacy', and so a sample-size lag length is used. After the next release, the default will change to be the same as lags='auto' which uses an automatic lag length selection method. To silence this warning, either use 'auto' or 'legacy'\n",
      "  warn(msg, FutureWarning)\n",
      "C:\\Users\\duran\\anaconda3\\lib\\site-packages\\statsmodels\\tsa\\stattools.py:1685: InterpolationWarning: p-value is smaller than the indicated p-value\n",
      "  warn(\"p-value is smaller than the indicated p-value\", InterpolationWarning)\n"
     ]
    }
   ],
   "source": [
    "from statsmodels.tsa.stattools import kpss\n",
    "def kpss_test(series, **kw):    \n",
    "    statistic, p_value, n_lags, critical_values = kpss(series, **kw)\n",
    "    # Format Output\n",
    "    print(f'KPSS Statistic: {statistic}')\n",
    "    print(f'p-value: {p_value}')\n",
    "    print(f'num lags: {n_lags}')\n",
    "    print('Critial Values:')\n",
    "    for key, value in critical_values.items():\n",
    "        print(f'   {key} : {value}')\n",
    "    print(f'Result: The series is {\"not \" if p_value < 0.05 else \"\"}stationary')\n",
    "\n",
    "kpss_test(serie1)"
   ]
  },
  {
   "cell_type": "markdown",
   "metadata": {},
   "source": [
    "La série n'est pas stationnaire au seuil de 5%, nous allons donc appliquer le test à la série intégrée à l'ordre 1."
   ]
  },
  {
   "cell_type": "code",
   "execution_count": 124,
   "metadata": {},
   "outputs": [
    {
     "name": "stdout",
     "output_type": "stream",
     "text": [
      "KPSS Statistic: 0.08667738001103942\n",
      "p-value: 0.1\n",
      "num lags: 13\n",
      "Critial Values:\n",
      "   10% : 0.347\n",
      "   5% : 0.463\n",
      "   2.5% : 0.574\n",
      "   1% : 0.739\n",
      "Result: The series is stationary\n"
     ]
    },
    {
     "name": "stderr",
     "output_type": "stream",
     "text": [
      "C:\\Users\\duran\\anaconda3\\lib\\site-packages\\statsmodels\\tsa\\stattools.py:1687: InterpolationWarning: p-value is greater than the indicated p-value\n",
      "  warn(\"p-value is greater than the indicated p-value\", InterpolationWarning)\n"
     ]
    }
   ],
   "source": [
    "serie2 = serie1 - serie1.shift().fillna(0)\n",
    "serie2.drop(pd.Timestamp('1990-01-01 00:00:00'), inplace=True)\n",
    "kpss_test(serie2)"
   ]
  },
  {
   "cell_type": "markdown",
   "metadata": {},
   "source": [
    "Maintenant le test AFD"
   ]
  },
  {
   "cell_type": "code",
   "execution_count": 125,
   "metadata": {},
   "outputs": [
    {
     "name": "stdout",
     "output_type": "stream",
     "text": [
      "ADF Statistic: -0.03066086875171472\n",
      "p-value: 0.9559218024233863\n",
      "num lags: 2\n",
      "Critial Values:\n",
      "   1% : -3.487517288664615\n",
      "   5% : -2.8865777180380032\n",
      "   10% : -2.5801239192052012\n",
      "Result: The series is not stationary\n",
      "ADF Statistic: -5.015879029087158\n",
      "p-value: 2.0642028929741757e-05\n",
      "num lags: 1\n",
      "Critial Values:\n",
      "   1% : -3.487517288664615\n",
      "   5% : -2.8865777180380032\n",
      "   10% : -2.5801239192052012\n",
      "Result: The series is stationary\n"
     ]
    }
   ],
   "source": [
    "from statsmodels.tsa.stattools import adfuller\n",
    "def adf_test(series, **kw):    \n",
    "    statistic, p_value, n_lags, nobs, critical_values, icbest = adfuller(series, **kw)\n",
    "    # Format Output\n",
    "    print(f'ADF Statistic: {statistic}')\n",
    "    print(f'p-value: {p_value}')\n",
    "    print(f'num lags: {n_lags}')\n",
    "    print('Critial Values:')\n",
    "    for key, value in critical_values.items():\n",
    "        print(f'   {key} : {value}')\n",
    "    print(f'Result: The series is {\"not \" if p_value > 0.05 else \"\"}stationary')\n",
    "\n",
    "adf_test(serie1)\n",
    "adf_test(serie2)"
   ]
  },
  {
   "cell_type": "markdown",
   "metadata": {},
   "source": [
    "Comme pour le test KPSS, la série intégrée à l'ordre 1 est stationnaire."
   ]
  },
  {
   "cell_type": "code",
   "execution_count": 127,
   "metadata": {},
   "outputs": [
    {
     "ename": "ValueError",
     "evalue": "Could not interpret input 'date'",
     "output_type": "error",
     "traceback": [
      "\u001b[1;31m---------------------------------------------------------------------------\u001b[0m",
      "\u001b[1;31mValueError\u001b[0m                                Traceback (most recent call last)",
      "\u001b[1;32m<ipython-input-127-2e1c8b66dbf3>\u001b[0m in \u001b[0;36m<module>\u001b[1;34m\u001b[0m\n\u001b[0;32m      3\u001b[0m \u001b[1;31m#sns.set_theme(style=\"darkgrid\")\u001b[0m\u001b[1;33m\u001b[0m\u001b[1;33m\u001b[0m\u001b[1;33m\u001b[0m\u001b[0m\n\u001b[0;32m      4\u001b[0m \u001b[1;33m\u001b[0m\u001b[0m\n\u001b[1;32m----> 5\u001b[1;33m \u001b[0mPIB_graph\u001b[0m \u001b[1;33m=\u001b[0m \u001b[0msns\u001b[0m\u001b[1;33m.\u001b[0m\u001b[0mlineplot\u001b[0m\u001b[1;33m(\u001b[0m\u001b[0mdata\u001b[0m\u001b[1;33m=\u001b[0m\u001b[0mserie2\u001b[0m\u001b[1;33m,\u001b[0m \u001b[0mx\u001b[0m\u001b[1;33m=\u001b[0m\u001b[1;34m'date'\u001b[0m\u001b[1;33m,\u001b[0m \u001b[0my\u001b[0m\u001b[1;33m=\u001b[0m\u001b[0mserie2\u001b[0m\u001b[1;33m)\u001b[0m\u001b[1;33m\u001b[0m\u001b[1;33m\u001b[0m\u001b[0m\n\u001b[0m\u001b[0;32m      6\u001b[0m \u001b[0mPIB_graph\u001b[0m\u001b[1;33m.\u001b[0m\u001b[0mset_title\u001b[0m\u001b[1;33m(\u001b[0m\u001b[1;34m\"Évolution stationnarisée du PIB américain depuis 1990\"\u001b[0m\u001b[1;33m)\u001b[0m\u001b[1;33m\u001b[0m\u001b[1;33m\u001b[0m\u001b[0m\n",
      "\u001b[1;32m~\\anaconda3\\lib\\site-packages\\seaborn\\relational.py\u001b[0m in \u001b[0;36mlineplot\u001b[1;34m(x, y, hue, size, style, data, palette, hue_order, hue_norm, sizes, size_order, size_norm, dashes, markers, style_order, units, estimator, ci, n_boot, seed, sort, err_style, err_kws, legend, ax, **kwargs)\u001b[0m\n\u001b[0;32m   1129\u001b[0m         \u001b[0mdashes\u001b[0m\u001b[1;33m=\u001b[0m\u001b[0mdashes\u001b[0m\u001b[1;33m,\u001b[0m \u001b[0mmarkers\u001b[0m\u001b[1;33m=\u001b[0m\u001b[0mmarkers\u001b[0m\u001b[1;33m,\u001b[0m \u001b[0mstyle_order\u001b[0m\u001b[1;33m=\u001b[0m\u001b[0mstyle_order\u001b[0m\u001b[1;33m,\u001b[0m\u001b[1;33m\u001b[0m\u001b[1;33m\u001b[0m\u001b[0m\n\u001b[0;32m   1130\u001b[0m         \u001b[0munits\u001b[0m\u001b[1;33m=\u001b[0m\u001b[0munits\u001b[0m\u001b[1;33m,\u001b[0m \u001b[0mestimator\u001b[0m\u001b[1;33m=\u001b[0m\u001b[0mestimator\u001b[0m\u001b[1;33m,\u001b[0m \u001b[0mci\u001b[0m\u001b[1;33m=\u001b[0m\u001b[0mci\u001b[0m\u001b[1;33m,\u001b[0m \u001b[0mn_boot\u001b[0m\u001b[1;33m=\u001b[0m\u001b[0mn_boot\u001b[0m\u001b[1;33m,\u001b[0m \u001b[0mseed\u001b[0m\u001b[1;33m=\u001b[0m\u001b[0mseed\u001b[0m\u001b[1;33m,\u001b[0m\u001b[1;33m\u001b[0m\u001b[1;33m\u001b[0m\u001b[0m\n\u001b[1;32m-> 1131\u001b[1;33m         \u001b[0msort\u001b[0m\u001b[1;33m=\u001b[0m\u001b[0msort\u001b[0m\u001b[1;33m,\u001b[0m \u001b[0merr_style\u001b[0m\u001b[1;33m=\u001b[0m\u001b[0merr_style\u001b[0m\u001b[1;33m,\u001b[0m \u001b[0merr_kws\u001b[0m\u001b[1;33m=\u001b[0m\u001b[0merr_kws\u001b[0m\u001b[1;33m,\u001b[0m \u001b[0mlegend\u001b[0m\u001b[1;33m=\u001b[0m\u001b[0mlegend\u001b[0m\u001b[1;33m,\u001b[0m\u001b[1;33m\u001b[0m\u001b[1;33m\u001b[0m\u001b[0m\n\u001b[0m\u001b[0;32m   1132\u001b[0m     )\n\u001b[0;32m   1133\u001b[0m \u001b[1;33m\u001b[0m\u001b[0m\n",
      "\u001b[1;32m~\\anaconda3\\lib\\site-packages\\seaborn\\relational.py\u001b[0m in \u001b[0;36m__init__\u001b[1;34m(self, x, y, hue, size, style, data, palette, hue_order, hue_norm, sizes, size_order, size_norm, dashes, markers, style_order, units, estimator, ci, n_boot, seed, sort, err_style, err_kws, legend)\u001b[0m\n\u001b[0;32m    698\u001b[0m \u001b[1;33m\u001b[0m\u001b[0m\n\u001b[0;32m    699\u001b[0m         plot_data = self.establish_variables(\n\u001b[1;32m--> 700\u001b[1;33m             \u001b[0mx\u001b[0m\u001b[1;33m,\u001b[0m \u001b[0my\u001b[0m\u001b[1;33m,\u001b[0m \u001b[0mhue\u001b[0m\u001b[1;33m,\u001b[0m \u001b[0msize\u001b[0m\u001b[1;33m,\u001b[0m \u001b[0mstyle\u001b[0m\u001b[1;33m,\u001b[0m \u001b[0munits\u001b[0m\u001b[1;33m,\u001b[0m \u001b[0mdata\u001b[0m\u001b[1;33m\u001b[0m\u001b[1;33m\u001b[0m\u001b[0m\n\u001b[0m\u001b[0;32m    701\u001b[0m         )\n\u001b[0;32m    702\u001b[0m \u001b[1;33m\u001b[0m\u001b[0m\n",
      "\u001b[1;32m~\\anaconda3\\lib\\site-packages\\seaborn\\relational.py\u001b[0m in \u001b[0;36mestablish_variables\u001b[1;34m(self, x, y, hue, size, style, units, data)\u001b[0m\n\u001b[0;32m    140\u001b[0m                 \u001b[1;32mif\u001b[0m \u001b[0misinstance\u001b[0m\u001b[1;33m(\u001b[0m\u001b[0mvar\u001b[0m\u001b[1;33m,\u001b[0m \u001b[0mstr\u001b[0m\u001b[1;33m)\u001b[0m\u001b[1;33m:\u001b[0m\u001b[1;33m\u001b[0m\u001b[1;33m\u001b[0m\u001b[0m\n\u001b[0;32m    141\u001b[0m                     \u001b[0merr\u001b[0m \u001b[1;33m=\u001b[0m \u001b[1;34m\"Could not interpret input '{}'\"\u001b[0m\u001b[1;33m.\u001b[0m\u001b[0mformat\u001b[0m\u001b[1;33m(\u001b[0m\u001b[0mvar\u001b[0m\u001b[1;33m)\u001b[0m\u001b[1;33m\u001b[0m\u001b[1;33m\u001b[0m\u001b[0m\n\u001b[1;32m--> 142\u001b[1;33m                     \u001b[1;32mraise\u001b[0m \u001b[0mValueError\u001b[0m\u001b[1;33m(\u001b[0m\u001b[0merr\u001b[0m\u001b[1;33m)\u001b[0m\u001b[1;33m\u001b[0m\u001b[1;33m\u001b[0m\u001b[0m\n\u001b[0m\u001b[0;32m    143\u001b[0m \u001b[1;33m\u001b[0m\u001b[0m\n\u001b[0;32m    144\u001b[0m             \u001b[1;31m# Extract variable names\u001b[0m\u001b[1;33m\u001b[0m\u001b[1;33m\u001b[0m\u001b[1;33m\u001b[0m\u001b[0m\n",
      "\u001b[1;31mValueError\u001b[0m: Could not interpret input 'date'"
     ]
    }
   ],
   "source": [
    "import seaborn as sns\n",
    "\n",
    "#sns.set_theme(style=\"darkgrid\")\n",
    "\n",
    "PIB_graph = sns.lineplot(data=serie2, x='date', y=serie2)\n",
    "PIB_graph.set_title(\"Évolution stationnarisée du PIB américain depuis 1990\")"
   ]
  },
  {
   "cell_type": "code",
   "execution_count": null,
   "metadata": {},
   "outputs": [],
   "source": []
  }
 ],
 "metadata": {
  "kernelspec": {
   "display_name": "Python 3",
   "language": "python",
   "name": "python3"
  },
  "language_info": {
   "codemirror_mode": {
    "name": "ipython",
    "version": 3
   },
   "file_extension": ".py",
   "mimetype": "text/x-python",
   "name": "python",
   "nbconvert_exporter": "python",
   "pygments_lexer": "ipython3",
   "version": "3.7.6"
  }
 },
 "nbformat": 4,
 "nbformat_minor": 4
}
