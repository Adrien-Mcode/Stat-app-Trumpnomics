{
 "cells": [
  {
   "cell_type": "markdown",
   "metadata": {},
   "source": [
    "# Présentation de la base de données\n"
   ]
  },
  {
   "cell_type": "markdown",
   "metadata": {},
   "source": [
    "Nous avons exporté les données de l'OCDE dans une base de données que nous avons reformatée, afin d'avoir une indexation multiple au niveau des colonnes : un premier niveau pour les pays et ensuite pour chaque pays les différents indicateurs choisis. Nous avons aussi ajouté des indicateurs concernant les inégalités, à savoir le top 50% du revenu et le top 10% du revenu. Néanmoins nous nous posons quelques questions concernant ces indicateurrs. 1) Le coefficient de Gini est disponible mais le calcul n'est fait que par année (car il nous semble qu'il varie peu). Faut-il alors qu'on le calcule à la main pour chaque trimestre, l'utiliser tel quel (par annnée), ou ne pas l'utiliser du tout? 2) Est-il important de savoir si la part des revenus est bruts ou non, dans le mesure où l'on cherche à évaluer l'impact des politiques fiscales de Trump?"
   ]
  },
  {
   "cell_type": "code",
   "execution_count": 1,
   "metadata": {},
   "outputs": [],
   "source": [
    "import csv"
   ]
  },
  {
   "cell_type": "code",
   "execution_count": 4,
   "metadata": {},
   "outputs": [],
   "source": [
    "import pandas as pd\n",
    "\n",
    "ocde_df = pd.read_csv(r\"https://raw.githubusercontent.com/Adrien-Mcode/Stat-app-Trumpnomics/main/Tableaux_csv/ocde2.csv?token=AO4WFDBKJYJKKXSKE7P3CBLAC3ADO\")\n",
    "\n",
    "ocde_df.rename(columns={'Unnamed: 0':'Variables'}, inplace=True)\n",
    "\n",
    "ind_tuple = list(zip(ocde_df['Pays'], ocde_df['Variables']))\n",
    "new_index = pd.MultiIndex.from_tuples(ind_tuple, names=[\"Pays\", \"Variables\"])\n",
    "\n",
    "tocde = ocde_df.T.copy()\n",
    "tocde.columns = new_index\n",
    "tocde.drop(['Variables', 'Pays'], inplace=True)"
   ]
  },
  {
   "cell_type": "code",
   "execution_count": 12,
   "metadata": {},
   "outputs": [],
   "source": [
    "import csv\n",
    "bottom_50 = pd.read_csv(r\"https://raw.githubusercontent.com/Adrien-Mcode/Stat-app-Trumpnomics/main/Donnees%20inegalite/top_bottom_income/WID_Data_Metadata/bottom_50_income.csv?token=AO4WFDDIRHLFUYS35ASSO2DAC3AR6\",\n",
    "                       header = 1,\n",
    "                       sep=';')"
   ]
  },
  {
   "cell_type": "code",
   "execution_count": 13,
   "metadata": {},
   "outputs": [],
   "source": [
    "import csv\n",
    "top_10 =pd.read_csv(r\"https://raw.githubusercontent.com/Adrien-Mcode/Stat-app-Trumpnomics/main/Donnees%20inegalite/top_bottom_income/WID_Data_Metadata/top_10_income.csv?token=AO4WFDGT2KE43KERO5N22J3AC3AUI\",\n",
    "                   header = 1,\n",
    "                   sep=';')"
   ]
  },
  {
   "cell_type": "code",
   "execution_count": 15,
   "metadata": {},
   "outputs": [],
   "source": [
    "df_ocde = pd.read_csv(r\"https://raw.githubusercontent.com/Adrien-Mcode/Stat-app-Trumpnomics/main/Tableaux_csv/ocde2.csv?token=AO4WFDAOO7I5YWWYHCURAR3AC3A24\")"
   ]
  },
  {
   "cell_type": "code",
   "execution_count": 16,
   "metadata": {},
   "outputs": [],
   "source": [
    "import pandas as pd\n",
    "import csv\n",
    "\n",
    "\n",
    "pays_ocde = {\"Germany\" :'DEU',\"Australia\" :'AUS',\"Austria\":'AUT',\"Belgium\":'BEL',\n",
    "             \"Canada\":'CAN',\"Denmark\":'DNK',\"Spain\":'ESP',\"Finland\":'FIN',\n",
    "             \"France\":'FRA',\"Greece\":'GRC',\"Ireland\":'IRL',\"Italy\":'ITA',\n",
    "             \"Japan\":'JPN',\"Luxembourg\":'LUX',\"Norway\":'NOR',\"New-Zealand\":'NZL',\n",
    "             \"Netherlands\":'NLD',\"Portugal\":'PRT',\"United Kingdom\":'GBR',\n",
    "             \"Sweden\":'SWE',\"Switzerland\":'CHE',\"Turkey\":'TUR',\"United-States\":'USA'}\n",
    "\n",
    "\n",
    "\n",
    "df_ocde.rename(columns={'Unnamed: 0':'Variables'}, inplace=True)\n",
    "\n",
    "ind_tuple = list(zip(df_ocde['Pays'], df_ocde['Variables']))\n",
    "new_index = pd.MultiIndex.from_tuples(ind_tuple, names=[\"Pays\", \"Variables\"])\n",
    "#mise en place du système de double indice\n",
    "tocde = df_ocde.T.copy()\n",
    "tocde.columns = new_index\n",
    "tocde.drop(['Variables', 'Pays'], inplace=True)\n",
    "#tocde = tocde.drop(['2020-Q1','2020-Q2','2020-Q3','2020-Q4','2021-Q1'])\n",
    "#renommage des colonnes de bottom_50 et top_10\n",
    "bottom_50.columns = ['Variables', 'Year'] + sorted(pays_ocde.keys(), key=str)\n",
    "top_10.columns = ['Variables', 'Year'] + sorted(pays_ocde.keys(), key=str)\n",
    "\n",
    "#on prépare bottom_50 pour la fusion\n",
    "bottom_50 = bottom_50.drop('Variables', axis=1)\n",
    "for i in range (1,3) : \n",
    "    bottom_50 = pd.concat([bottom_50,bottom_50]) \n",
    "    \n",
    "annee = []\n",
    "for j in range (1,5):\n",
    "    for i in range (0,29):\n",
    "        annee.append(str(1991+i)+'-Q'+str(j))\n",
    "bottom_50['Year'] = annee\n",
    "\n",
    "#Mise en place double index pour bottom_50 :\n",
    "bottom_50 = bottom_50.set_index('Year')\n",
    "\n",
    "bottom_50['Variables'] = 'income p0p50'\n",
    "\n",
    "ind_tuple = list(zip(bottom_50.columns, bottom_50['Variables']))\n",
    "\n",
    "new_index = pd.MultiIndex.from_tuples(ind_tuple, names=[\"Pays\", \"Variables\"])\n",
    "\n",
    "bottom_50.columns = new_index\n",
    "\n",
    "bottom_50 = bottom_50.drop(('Variables','income p0p50'), axis = 1)\n",
    "\n",
    "tocde = tocde.merge(right=bottom_50, how='outer',\n",
    "                    left_index=True,\n",
    "                    right_index=True).sort_index(axis = 0).sort_index(axis = 1)\n",
    "\n",
    "#on prépare top_10 pour la fusion :\n",
    "top_10 = top_10.drop('Variables', axis = 1)\n",
    "for i in range (1,3) : \n",
    "    top_10 = pd.concat([top_10,top_10])    \n",
    "    \n",
    "annee = []\n",
    "for j in range (1,5):\n",
    "    for i in range (0,29):\n",
    "        annee.append(str(1991+i)+'-Q'+str(j))\n",
    "top_10['Year'] = annee\n",
    "\n",
    "#Mise en place double index pour top_10 :\n",
    "top_10 = top_10.set_index('Year')\n",
    "\n",
    "top_10['Variables'] = 'income p90p100'\n",
    "\n",
    "ind_tuple = list(zip(top_10.columns, top_10['Variables']))\n",
    "\n",
    "new_index = pd.MultiIndex.from_tuples(ind_tuple, names=[\"Pays\", \"Variables\"])\n",
    "\n",
    "top_10.columns = new_index\n",
    "\n",
    "top_10 = top_10.drop(('Variables','income p90p100'), axis=1)\n",
    "\n",
    "tocde = tocde.merge(right = top_10,\n",
    "                    how='outer',\n",
    "                    left_index=True,\n",
    "                    right_index=True).sort_index(axis = 0).sort_index(axis = 1)\n",
    "\n",
    "qs = tocde.index.str.replace(r'(Q\\d) (\\d+)', r'\\2-\\1')\n",
    "\n",
    "tocde['date'] = pd.PeriodIndex(qs, freq='Q').to_timestamp()\n",
    "\n",
    "\n",
    "tocde = tocde.reindex(index=tocde['date'])\n",
    "tocde = tocde.drop(\"date\", axis=1)"
   ]
  },
  {
   "cell_type": "code",
   "execution_count": 17,
   "metadata": {},
   "outputs": [
    {
     "data": {
      "text/html": [
       "<div>\n",
       "<style scoped>\n",
       "    .dataframe tbody tr th:only-of-type {\n",
       "        vertical-align: middle;\n",
       "    }\n",
       "\n",
       "    .dataframe tbody tr th {\n",
       "        vertical-align: top;\n",
       "    }\n",
       "\n",
       "    .dataframe thead tr th {\n",
       "        text-align: left;\n",
       "    }\n",
       "\n",
       "    .dataframe thead tr:last-of-type th {\n",
       "        text-align: right;\n",
       "    }\n",
       "</style>\n",
       "<table border=\"1\" class=\"dataframe\">\n",
       "  <thead>\n",
       "    <tr>\n",
       "      <th>Pays</th>\n",
       "      <th colspan=\"7\" halign=\"left\">AUS</th>\n",
       "      <th colspan=\"3\" halign=\"left\">AUT</th>\n",
       "      <th>...</th>\n",
       "      <th colspan=\"6\" halign=\"left\">USA</th>\n",
       "      <th colspan=\"2\" halign=\"left\">United Kingdom</th>\n",
       "      <th colspan=\"2\" halign=\"left\">United-States</th>\n",
       "    </tr>\n",
       "    <tr>\n",
       "      <th>Variables</th>\n",
       "      <th>Actifs</th>\n",
       "      <th>Chomage</th>\n",
       "      <th>Conso</th>\n",
       "      <th>Emplois</th>\n",
       "      <th>Exports</th>\n",
       "      <th>Formation</th>\n",
       "      <th>PIB</th>\n",
       "      <th>Actifs</th>\n",
       "      <th>Chomage</th>\n",
       "      <th>Conso</th>\n",
       "      <th>...</th>\n",
       "      <th>Chomage</th>\n",
       "      <th>Conso</th>\n",
       "      <th>Emplois</th>\n",
       "      <th>Exports</th>\n",
       "      <th>Formation</th>\n",
       "      <th>PIB</th>\n",
       "      <th>income p0p50</th>\n",
       "      <th>income p90p100</th>\n",
       "      <th>income p0p50</th>\n",
       "      <th>income p90p100</th>\n",
       "    </tr>\n",
       "    <tr>\n",
       "      <th>date</th>\n",
       "      <th></th>\n",
       "      <th></th>\n",
       "      <th></th>\n",
       "      <th></th>\n",
       "      <th></th>\n",
       "      <th></th>\n",
       "      <th></th>\n",
       "      <th></th>\n",
       "      <th></th>\n",
       "      <th></th>\n",
       "      <th></th>\n",
       "      <th></th>\n",
       "      <th></th>\n",
       "      <th></th>\n",
       "      <th></th>\n",
       "      <th></th>\n",
       "      <th></th>\n",
       "      <th></th>\n",
       "      <th></th>\n",
       "      <th></th>\n",
       "      <th></th>\n",
       "    </tr>\n",
       "  </thead>\n",
       "  <tbody>\n",
       "    <tr>\n",
       "      <th>1990-01-01</th>\n",
       "      <td>63.5595</td>\n",
       "      <td>6.23002</td>\n",
       "      <td>108.373</td>\n",
       "      <td>59.5996</td>\n",
       "      <td>26.942</td>\n",
       "      <td>41.272</td>\n",
       "      <td>206.89</td>\n",
       "      <td>NaN</td>\n",
       "      <td>3.15392</td>\n",
       "      <td>NaN</td>\n",
       "      <td>...</td>\n",
       "      <td>5.3</td>\n",
       "      <td>5998.06</td>\n",
       "      <td>63.2</td>\n",
       "      <td>682.3</td>\n",
       "      <td>1695.37</td>\n",
       "      <td>9358.29</td>\n",
       "      <td>NaN</td>\n",
       "      <td>NaN</td>\n",
       "      <td>NaN</td>\n",
       "      <td>NaN</td>\n",
       "    </tr>\n",
       "    <tr>\n",
       "      <th>1990-04-01</th>\n",
       "      <td>63.7865</td>\n",
       "      <td>6.46453</td>\n",
       "      <td>108.965</td>\n",
       "      <td>59.6628</td>\n",
       "      <td>26.986</td>\n",
       "      <td>39.657</td>\n",
       "      <td>207.173</td>\n",
       "      <td>NaN</td>\n",
       "      <td>3.26997</td>\n",
       "      <td>NaN</td>\n",
       "      <td>...</td>\n",
       "      <td>5.33333</td>\n",
       "      <td>6016.33</td>\n",
       "      <td>63</td>\n",
       "      <td>690.785</td>\n",
       "      <td>1668.44</td>\n",
       "      <td>9392.25</td>\n",
       "      <td>NaN</td>\n",
       "      <td>NaN</td>\n",
       "      <td>NaN</td>\n",
       "      <td>NaN</td>\n",
       "    </tr>\n",
       "    <tr>\n",
       "      <th>1990-07-01</th>\n",
       "      <td>63.9287</td>\n",
       "      <td>7.22537</td>\n",
       "      <td>109.106</td>\n",
       "      <td>59.3098</td>\n",
       "      <td>28.052</td>\n",
       "      <td>39.505</td>\n",
       "      <td>205.931</td>\n",
       "      <td>NaN</td>\n",
       "      <td>3.41228</td>\n",
       "      <td>NaN</td>\n",
       "      <td>...</td>\n",
       "      <td>5.7</td>\n",
       "      <td>6040.16</td>\n",
       "      <td>62.6667</td>\n",
       "      <td>696.014</td>\n",
       "      <td>1659.14</td>\n",
       "      <td>9398.5</td>\n",
       "      <td>NaN</td>\n",
       "      <td>NaN</td>\n",
       "      <td>NaN</td>\n",
       "      <td>NaN</td>\n",
       "    </tr>\n",
       "    <tr>\n",
       "      <th>1990-10-01</th>\n",
       "      <td>63.6977</td>\n",
       "      <td>7.86751</td>\n",
       "      <td>108.421</td>\n",
       "      <td>58.6863</td>\n",
       "      <td>28.496</td>\n",
       "      <td>38.098</td>\n",
       "      <td>207.139</td>\n",
       "      <td>NaN</td>\n",
       "      <td>3.23917</td>\n",
       "      <td>NaN</td>\n",
       "      <td>...</td>\n",
       "      <td>6.13333</td>\n",
       "      <td>5994.21</td>\n",
       "      <td>62.3333</td>\n",
       "      <td>702.143</td>\n",
       "      <td>1628.39</td>\n",
       "      <td>9312.94</td>\n",
       "      <td>NaN</td>\n",
       "      <td>NaN</td>\n",
       "      <td>NaN</td>\n",
       "      <td>NaN</td>\n",
       "    </tr>\n",
       "    <tr>\n",
       "      <th>1991-01-01</th>\n",
       "      <td>63.3995</td>\n",
       "      <td>8.73256</td>\n",
       "      <td>108.655</td>\n",
       "      <td>57.8632</td>\n",
       "      <td>29.718</td>\n",
       "      <td>36.525</td>\n",
       "      <td>204.453</td>\n",
       "      <td>NaN</td>\n",
       "      <td>3.38382</td>\n",
       "      <td>NaN</td>\n",
       "      <td>...</td>\n",
       "      <td>6.6</td>\n",
       "      <td>5971.67</td>\n",
       "      <td>61.9</td>\n",
       "      <td>706.434</td>\n",
       "      <td>1587.41</td>\n",
       "      <td>9269.37</td>\n",
       "      <td>0.2823</td>\n",
       "      <td>0.2593</td>\n",
       "      <td>0.2496</td>\n",
       "      <td>0.2931</td>\n",
       "    </tr>\n",
       "    <tr>\n",
       "      <th>...</th>\n",
       "      <td>...</td>\n",
       "      <td>...</td>\n",
       "      <td>...</td>\n",
       "      <td>...</td>\n",
       "      <td>...</td>\n",
       "      <td>...</td>\n",
       "      <td>...</td>\n",
       "      <td>...</td>\n",
       "      <td>...</td>\n",
       "      <td>...</td>\n",
       "      <td>...</td>\n",
       "      <td>...</td>\n",
       "      <td>...</td>\n",
       "      <td>...</td>\n",
       "      <td>...</td>\n",
       "      <td>...</td>\n",
       "      <td>...</td>\n",
       "      <td>...</td>\n",
       "      <td>...</td>\n",
       "      <td>...</td>\n",
       "      <td>...</td>\n",
       "    </tr>\n",
       "    <tr>\n",
       "      <th>2018-10-01</th>\n",
       "      <td>65.629</td>\n",
       "      <td>5.03693</td>\n",
       "      <td>269.315</td>\n",
       "      <td>62.3233</td>\n",
       "      <td>116.359</td>\n",
       "      <td>113.548</td>\n",
       "      <td>486.394</td>\n",
       "      <td>61.4248</td>\n",
       "      <td>4.77307</td>\n",
       "      <td>47.4263</td>\n",
       "      <td>...</td>\n",
       "      <td>3.83333</td>\n",
       "      <td>13033.4</td>\n",
       "      <td>60.5</td>\n",
       "      <td>2548.79</td>\n",
       "      <td>3983.12</td>\n",
       "      <td>18813.9</td>\n",
       "      <td>0.2559</td>\n",
       "      <td>0.2894</td>\n",
       "      <td>0.2368</td>\n",
       "      <td>0.3187</td>\n",
       "    </tr>\n",
       "    <tr>\n",
       "      <th>2019-01-01</th>\n",
       "      <td>65.6701</td>\n",
       "      <td>5.0256</td>\n",
       "      <td>270.33</td>\n",
       "      <td>62.3697</td>\n",
       "      <td>117.741</td>\n",
       "      <td>112.894</td>\n",
       "      <td>488.812</td>\n",
       "      <td>61.5643</td>\n",
       "      <td>4.76479</td>\n",
       "      <td>48.1421</td>\n",
       "      <td>...</td>\n",
       "      <td>3.86667</td>\n",
       "      <td>13093.2</td>\n",
       "      <td>60.7</td>\n",
       "      <td>2560.41</td>\n",
       "      <td>4020.35</td>\n",
       "      <td>18950.3</td>\n",
       "      <td>0.2564</td>\n",
       "      <td>0.2884</td>\n",
       "      <td>0.2367</td>\n",
       "      <td>0.3187</td>\n",
       "    </tr>\n",
       "    <tr>\n",
       "      <th>2019-04-01</th>\n",
       "      <td>65.9566</td>\n",
       "      <td>5.22984</td>\n",
       "      <td>271.244</td>\n",
       "      <td>62.5071</td>\n",
       "      <td>119.861</td>\n",
       "      <td>111.682</td>\n",
       "      <td>491.985</td>\n",
       "      <td>61.4554</td>\n",
       "      <td>4.47055</td>\n",
       "      <td>47.8964</td>\n",
       "      <td>...</td>\n",
       "      <td>3.66667</td>\n",
       "      <td>13212.8</td>\n",
       "      <td>60.6333</td>\n",
       "      <td>2531.42</td>\n",
       "      <td>4029.71</td>\n",
       "      <td>19020.6</td>\n",
       "      <td>0.2564</td>\n",
       "      <td>0.2884</td>\n",
       "      <td>0.2367</td>\n",
       "      <td>0.3187</td>\n",
       "    </tr>\n",
       "    <tr>\n",
       "      <th>2019-07-01</th>\n",
       "      <td>66.0785</td>\n",
       "      <td>5.2299</td>\n",
       "      <td>271.195</td>\n",
       "      <td>62.6227</td>\n",
       "      <td>120.854</td>\n",
       "      <td>112.746</td>\n",
       "      <td>494.974</td>\n",
       "      <td>61.2008</td>\n",
       "      <td>4.37813</td>\n",
       "      <td>47.7142</td>\n",
       "      <td>...</td>\n",
       "      <td>3.6</td>\n",
       "      <td>13301.3</td>\n",
       "      <td>60.8333</td>\n",
       "      <td>2536.56</td>\n",
       "      <td>4054.51</td>\n",
       "      <td>19141.7</td>\n",
       "      <td>0.2564</td>\n",
       "      <td>0.2884</td>\n",
       "      <td>0.2367</td>\n",
       "      <td>0.3187</td>\n",
       "    </tr>\n",
       "    <tr>\n",
       "      <th>2019-10-01</th>\n",
       "      <td>65.9389</td>\n",
       "      <td>5.16322</td>\n",
       "      <td>272.211</td>\n",
       "      <td>62.5343</td>\n",
       "      <td>120.146</td>\n",
       "      <td>112.018</td>\n",
       "      <td>496.921</td>\n",
       "      <td>61.2359</td>\n",
       "      <td>4.33111</td>\n",
       "      <td>47.5393</td>\n",
       "      <td>...</td>\n",
       "      <td>3.6</td>\n",
       "      <td>13353.7</td>\n",
       "      <td>60.9667</td>\n",
       "      <td>2557.85</td>\n",
       "      <td>4075.4</td>\n",
       "      <td>19254</td>\n",
       "      <td>0.2564</td>\n",
       "      <td>0.2884</td>\n",
       "      <td>0.2367</td>\n",
       "      <td>0.3187</td>\n",
       "    </tr>\n",
       "  </tbody>\n",
       "</table>\n",
       "<p>120 rows × 207 columns</p>\n",
       "</div>"
      ],
      "text/plain": [
       "Pays            AUS                                                         \\\n",
       "Variables    Actifs  Chomage    Conso  Emplois  Exports Formation      PIB   \n",
       "date                                                                         \n",
       "1990-01-01  63.5595  6.23002  108.373  59.5996   26.942    41.272   206.89   \n",
       "1990-04-01  63.7865  6.46453  108.965  59.6628   26.986    39.657  207.173   \n",
       "1990-07-01  63.9287  7.22537  109.106  59.3098   28.052    39.505  205.931   \n",
       "1990-10-01  63.6977  7.86751  108.421  58.6863   28.496    38.098  207.139   \n",
       "1991-01-01  63.3995  8.73256  108.655  57.8632   29.718    36.525  204.453   \n",
       "...             ...      ...      ...      ...      ...       ...      ...   \n",
       "2018-10-01   65.629  5.03693  269.315  62.3233  116.359   113.548  486.394   \n",
       "2019-01-01  65.6701   5.0256   270.33  62.3697  117.741   112.894  488.812   \n",
       "2019-04-01  65.9566  5.22984  271.244  62.5071  119.861   111.682  491.985   \n",
       "2019-07-01  66.0785   5.2299  271.195  62.6227  120.854   112.746  494.974   \n",
       "2019-10-01  65.9389  5.16322  272.211  62.5343  120.146   112.018  496.921   \n",
       "\n",
       "Pays            AUT                    ...      USA                    \\\n",
       "Variables    Actifs  Chomage    Conso  ...  Chomage    Conso  Emplois   \n",
       "date                                   ...                              \n",
       "1990-01-01      NaN  3.15392      NaN  ...      5.3  5998.06     63.2   \n",
       "1990-04-01      NaN  3.26997      NaN  ...  5.33333  6016.33       63   \n",
       "1990-07-01      NaN  3.41228      NaN  ...      5.7  6040.16  62.6667   \n",
       "1990-10-01      NaN  3.23917      NaN  ...  6.13333  5994.21  62.3333   \n",
       "1991-01-01      NaN  3.38382      NaN  ...      6.6  5971.67     61.9   \n",
       "...             ...      ...      ...  ...      ...      ...      ...   \n",
       "2018-10-01  61.4248  4.77307  47.4263  ...  3.83333  13033.4     60.5   \n",
       "2019-01-01  61.5643  4.76479  48.1421  ...  3.86667  13093.2     60.7   \n",
       "2019-04-01  61.4554  4.47055  47.8964  ...  3.66667  13212.8  60.6333   \n",
       "2019-07-01  61.2008  4.37813  47.7142  ...      3.6  13301.3  60.8333   \n",
       "2019-10-01  61.2359  4.33111  47.5393  ...      3.6  13353.7  60.9667   \n",
       "\n",
       "Pays                                   United Kingdom                 \\\n",
       "Variables   Exports Formation      PIB   income p0p50 income p90p100   \n",
       "date                                                                   \n",
       "1990-01-01    682.3   1695.37  9358.29            NaN            NaN   \n",
       "1990-04-01  690.785   1668.44  9392.25            NaN            NaN   \n",
       "1990-07-01  696.014   1659.14   9398.5            NaN            NaN   \n",
       "1990-10-01  702.143   1628.39  9312.94            NaN            NaN   \n",
       "1991-01-01  706.434   1587.41  9269.37         0.2823         0.2593   \n",
       "...             ...       ...      ...            ...            ...   \n",
       "2018-10-01  2548.79   3983.12  18813.9         0.2559         0.2894   \n",
       "2019-01-01  2560.41   4020.35  18950.3         0.2564         0.2884   \n",
       "2019-04-01  2531.42   4029.71  19020.6         0.2564         0.2884   \n",
       "2019-07-01  2536.56   4054.51  19141.7         0.2564         0.2884   \n",
       "2019-10-01  2557.85    4075.4    19254         0.2564         0.2884   \n",
       "\n",
       "Pays       United-States                 \n",
       "Variables   income p0p50 income p90p100  \n",
       "date                                     \n",
       "1990-01-01           NaN            NaN  \n",
       "1990-04-01           NaN            NaN  \n",
       "1990-07-01           NaN            NaN  \n",
       "1990-10-01           NaN            NaN  \n",
       "1991-01-01        0.2496         0.2931  \n",
       "...                  ...            ...  \n",
       "2018-10-01        0.2368         0.3187  \n",
       "2019-01-01        0.2367         0.3187  \n",
       "2019-04-01        0.2367         0.3187  \n",
       "2019-07-01        0.2367         0.3187  \n",
       "2019-10-01        0.2367         0.3187  \n",
       "\n",
       "[120 rows x 207 columns]"
      ]
     },
     "execution_count": 17,
     "metadata": {},
     "output_type": "execute_result"
    }
   ],
   "source": [
    "tocde"
   ]
  },
  {
   "cell_type": "markdown",
   "metadata": {},
   "source": [
    "*QUESTION* : Que faut-il faire des valeurs manquantes indiquée par NaN? Les remplacer par 0 fausserait les résultalts"
   ]
  },
  {
   "cell_type": "markdown",
   "metadata": {},
   "source": [
    "Nous allons désormais effectuer des tests de stationnarité sur les différentes variables. Nous appliquons deux tests  : KPSS qui a pour hypothèse nulle H0:\"La série est stationnaire\" et le test AFD dont l'hypothèse nulle est H0 : \"La série est non stationnaire\". NB : nous n'avons pas désaisonnalisé les séries avant d'effectuer les tests car nous ne savions pas si cela éait nécessaire."
   ]
  },
  {
   "cell_type": "markdown",
   "metadata": {},
   "source": [
    " Dans un premier temps nous nous intéressons au PIB des Etats-Unis. D'abord le test KPSS :"
   ]
  },
  {
   "cell_type": "code",
   "execution_count": 18,
   "metadata": {},
   "outputs": [],
   "source": [
    "serie1=tocde['USA']['PIB']"
   ]
  },
  {
   "cell_type": "code",
   "execution_count": 19,
   "metadata": {},
   "outputs": [
    {
     "name": "stdout",
     "output_type": "stream",
     "text": [
      "KPSS Statistic: 0.9556147530640225\n",
      "p-value: 0.01\n",
      "num lags: 13\n",
      "Critial Values:\n",
      "   10% : 0.347\n",
      "   5% : 0.463\n",
      "   2.5% : 0.574\n",
      "   1% : 0.739\n",
      "Result: The series is not stationary\n"
     ]
    },
    {
     "name": "stderr",
     "output_type": "stream",
     "text": [
      "C:\\Users\\adxva\\anaconda3\\lib\\site-packages\\statsmodels\\tsa\\stattools.py:1661: FutureWarning: The behavior of using lags=None will change in the next release. Currently lags=None is the same as lags='legacy', and so a sample-size lag length is used. After the next release, the default will change to be the same as lags='auto' which uses an automatic lag length selection method. To silence this warning, either use 'auto' or 'legacy'\n",
      "  warn(msg, FutureWarning)\n",
      "C:\\Users\\adxva\\anaconda3\\lib\\site-packages\\statsmodels\\tsa\\stattools.py:1685: InterpolationWarning: p-value is smaller than the indicated p-value\n",
      "  warn(\"p-value is smaller than the indicated p-value\", InterpolationWarning)\n"
     ]
    }
   ],
   "source": [
    "from statsmodels.tsa.stattools import kpss\n",
    "def kpss_test(series, **kw):    \n",
    "    statistic, p_value, n_lags, critical_values = kpss(series, **kw)\n",
    "    # Format Output\n",
    "    print(f'KPSS Statistic: {statistic}')\n",
    "    print(f'p-value: {p_value}')\n",
    "    print(f'num lags: {n_lags}')\n",
    "    print('Critial Values:')\n",
    "    for key, value in critical_values.items():\n",
    "        print(f'   {key} : {value}')\n",
    "    print(f'Result: The series is {\"not \" if p_value < 0.05 else \"\"}stationary')\n",
    "\n",
    "kpss_test(serie1)"
   ]
  },
  {
   "cell_type": "markdown",
   "metadata": {},
   "source": [
    "La série n'est pas stationnaire au seuil de 5%, nous allons donc appliquer le test à la série intégrée à l'ordre 1."
   ]
  },
  {
   "cell_type": "code",
   "execution_count": 20,
   "metadata": {},
   "outputs": [
    {
     "name": "stdout",
     "output_type": "stream",
     "text": [
      "KPSS Statistic: 0.08667738001103942\n",
      "p-value: 0.1\n",
      "num lags: 13\n",
      "Critial Values:\n",
      "   10% : 0.347\n",
      "   5% : 0.463\n",
      "   2.5% : 0.574\n",
      "   1% : 0.739\n",
      "Result: The series is stationary\n"
     ]
    },
    {
     "name": "stderr",
     "output_type": "stream",
     "text": [
      "C:\\Users\\adxva\\anaconda3\\lib\\site-packages\\statsmodels\\tsa\\stattools.py:1687: InterpolationWarning: p-value is greater than the indicated p-value\n",
      "  warn(\"p-value is greater than the indicated p-value\", InterpolationWarning)\n"
     ]
    }
   ],
   "source": [
    "serie2 = serie1 - serie1.shift().fillna(0)\n",
    "serie2.drop(pd.Timestamp('1990-01-01 00:00:00'), inplace=True)\n",
    "kpss_test(serie2)"
   ]
  },
  {
   "cell_type": "markdown",
   "metadata": {},
   "source": [
    "La série intégrée à l'ordre 1 est stationnaire selon le test KPSS. Maintenant, effectuons le test ADF."
   ]
  },
  {
   "cell_type": "code",
   "execution_count": 21,
   "metadata": {},
   "outputs": [
    {
     "name": "stdout",
     "output_type": "stream",
     "text": [
      "ADF Statistic: -0.030660868751712356\n",
      "p-value: 0.9559218024233864\n",
      "num lags: 2\n",
      "Critial Values:\n",
      "   1% : -3.487517288664615\n",
      "   5% : -2.8865777180380032\n",
      "   10% : -2.5801239192052012\n",
      "Result: The series is not stationary\n",
      "ADF Statistic: -5.0158790290871575\n",
      "p-value: 2.0642028929741757e-05\n",
      "num lags: 1\n",
      "Critial Values:\n",
      "   1% : -3.487517288664615\n",
      "   5% : -2.8865777180380032\n",
      "   10% : -2.5801239192052012\n",
      "Result: The series is stationary\n"
     ]
    }
   ],
   "source": [
    "from statsmodels.tsa.stattools import adfuller\n",
    "def adf_test(series, **kw):    \n",
    "    statistic, p_value, n_lags, nobs, critical_values, icbest = adfuller(series, **kw)\n",
    "    # Format Output\n",
    "    print(f'ADF Statistic: {statistic}')\n",
    "    print(f'p-value: {p_value}')\n",
    "    print(f'num lags: {n_lags}')\n",
    "    print('Critial Values:')\n",
    "    for key, value in critical_values.items():\n",
    "        print(f'   {key} : {value}')\n",
    "    print(f'Result: The series is {\"not \" if p_value > 0.05 else \"\"}stationary')\n",
    "\n",
    "adf_test(serie1)\n",
    "adf_test(serie2)"
   ]
  },
  {
   "cell_type": "markdown",
   "metadata": {},
   "source": [
    "Comme pour le test KPSS, la série intégrée à l'ordre 1 est stationnaire.\n",
    "Maintenant effectuons les tests sur le chômage"
   ]
  },
  {
   "cell_type": "code",
   "execution_count": 22,
   "metadata": {},
   "outputs": [],
   "source": [
    "serie1=tocde['USA']['Chomage']"
   ]
  },
  {
   "cell_type": "code",
   "execution_count": 23,
   "metadata": {
    "scrolled": true
   },
   "outputs": [
    {
     "name": "stdout",
     "output_type": "stream",
     "text": [
      "KPSS Statistic: 0.09403467015765274\n",
      "p-value: 0.1\n",
      "num lags: 13\n",
      "Critial Values:\n",
      "   10% : 0.347\n",
      "   5% : 0.463\n",
      "   2.5% : 0.574\n",
      "   1% : 0.739\n",
      "Result: The series is stationary\n"
     ]
    },
    {
     "name": "stderr",
     "output_type": "stream",
     "text": [
      "C:\\Users\\adxva\\anaconda3\\lib\\site-packages\\statsmodels\\tsa\\stattools.py:1687: InterpolationWarning: p-value is greater than the indicated p-value\n",
      "  warn(\"p-value is greater than the indicated p-value\", InterpolationWarning)\n"
     ]
    }
   ],
   "source": [
    "kpss_test(serie1)"
   ]
  },
  {
   "cell_type": "code",
   "execution_count": 24,
   "metadata": {},
   "outputs": [
    {
     "name": "stdout",
     "output_type": "stream",
     "text": [
      "ADF Statistic: -2.2576625816702673\n",
      "p-value: 0.18598624704216332\n",
      "num lags: 9\n",
      "Critial Values:\n",
      "   1% : -3.4912451337340342\n",
      "   5% : -2.8881954545454547\n",
      "   10% : -2.5809876033057852\n",
      "Result: The series is not stationary\n"
     ]
    }
   ],
   "source": [
    "adf_test(serie1)"
   ]
  },
  {
   "cell_type": "code",
   "execution_count": 25,
   "metadata": {},
   "outputs": [],
   "source": [
    "serie2 = serie1 - serie1.shift().fillna(0)"
   ]
  },
  {
   "cell_type": "code",
   "execution_count": 26,
   "metadata": {},
   "outputs": [
    {
     "name": "stdout",
     "output_type": "stream",
     "text": [
      "ADF Statistic: -3.2664589070402417\n",
      "p-value: 0.016445973000680323\n",
      "num lags: 7\n",
      "Critial Values:\n",
      "   1% : -3.4901313156261384\n",
      "   5% : -2.8877122815688776\n",
      "   10% : -2.5807296460459184\n",
      "Result: The series is stationary\n"
     ]
    }
   ],
   "source": [
    "adf_test(serie2)"
   ]
  },
  {
   "cell_type": "markdown",
   "metadata": {},
   "source": [
    "La série du chomage des Etats-Unis est stationnaire d'après le test KPSS, nous n'avons pas besoin de l'intégrer à l'ordre 1. Cependant elle n'est pas stationnaire selon le test AFD. Elle est stationnaire selon le test AFD intégrée à l'ordre 1. Maintenant intéressons nous à l'emploi."
   ]
  },
  {
   "cell_type": "code",
   "execution_count": 27,
   "metadata": {},
   "outputs": [],
   "source": [
    "serie1=tocde['USA']['Emplois']"
   ]
  },
  {
   "cell_type": "code",
   "execution_count": 28,
   "metadata": {},
   "outputs": [
    {
     "name": "stdout",
     "output_type": "stream",
     "text": [
      "KPSS Statistic: 0.562377817476475\n",
      "p-value: 0.027617608676469594\n",
      "num lags: 13\n",
      "Critial Values:\n",
      "   10% : 0.347\n",
      "   5% : 0.463\n",
      "   2.5% : 0.574\n",
      "   1% : 0.739\n",
      "Result: The series is not stationary\n"
     ]
    }
   ],
   "source": [
    "kpss_test(serie1)"
   ]
  },
  {
   "cell_type": "code",
   "execution_count": 29,
   "metadata": {},
   "outputs": [
    {
     "name": "stdout",
     "output_type": "stream",
     "text": [
      "KPSS Statistic: 0.34232633403073226\n",
      "p-value: 0.1\n",
      "num lags: 13\n",
      "Critial Values:\n",
      "   10% : 0.347\n",
      "   5% : 0.463\n",
      "   2.5% : 0.574\n",
      "   1% : 0.739\n",
      "Result: The series is stationary\n"
     ]
    },
    {
     "name": "stderr",
     "output_type": "stream",
     "text": [
      "C:\\Users\\adxva\\anaconda3\\lib\\site-packages\\statsmodels\\tsa\\stattools.py:1687: InterpolationWarning: p-value is greater than the indicated p-value\n",
      "  warn(\"p-value is greater than the indicated p-value\", InterpolationWarning)\n"
     ]
    }
   ],
   "source": [
    "serie2 = serie1 - serie1.shift().fillna(0)\n",
    "kpss_test(serie2)"
   ]
  },
  {
   "cell_type": "code",
   "execution_count": 30,
   "metadata": {},
   "outputs": [
    {
     "name": "stdout",
     "output_type": "stream",
     "text": [
      "ADF Statistic: -1.7678060192458849\n",
      "p-value: 0.3965581385738448\n",
      "num lags: 3\n",
      "Critial Values:\n",
      "   1% : -3.4880216384691867\n",
      "   5% : -2.8867966864160075\n",
      "   10% : -2.5802408234244947\n",
      "Result: The series is not stationary\n"
     ]
    }
   ],
   "source": [
    "adf_test(serie1)"
   ]
  },
  {
   "cell_type": "code",
   "execution_count": 31,
   "metadata": {},
   "outputs": [
    {
     "name": "stdout",
     "output_type": "stream",
     "text": [
      "ADF Statistic: -4.378986843724712\n",
      "p-value: 0.00032330793316602985\n",
      "num lags: 2\n",
      "Critial Values:\n",
      "   1% : -3.487517288664615\n",
      "   5% : -2.8865777180380032\n",
      "   10% : -2.5801239192052012\n",
      "Result: The series is stationary\n"
     ]
    }
   ],
   "source": [
    "adf_test(serie2)"
   ]
  },
  {
   "cell_type": "markdown",
   "metadata": {},
   "source": [
    "La série temporelle de l'emploi aux Etats-Unis intégrée à l'ordre 1 est stationnaire selon les test KPSS et AFD."
   ]
  },
  {
   "cell_type": "code",
   "execution_count": 32,
   "metadata": {},
   "outputs": [],
   "source": [
    "serie1=tocde['USA']['Actifs']"
   ]
  },
  {
   "cell_type": "code",
   "execution_count": 33,
   "metadata": {},
   "outputs": [
    {
     "name": "stdout",
     "output_type": "stream",
     "text": [
      "KPSS Statistic: 0.7821858654012013\n",
      "p-value: 0.01\n",
      "num lags: 13\n",
      "Critial Values:\n",
      "   10% : 0.347\n",
      "   5% : 0.463\n",
      "   2.5% : 0.574\n",
      "   1% : 0.739\n",
      "Result: The series is not stationary\n",
      "ADF Statistic: -0.5665598786841389\n",
      "p-value: 0.8783605257395495\n",
      "num lags: 6\n",
      "Critial Values:\n",
      "   1% : -3.489589552580676\n",
      "   5% : -2.887477210140433\n",
      "   10% : -2.580604145195395\n",
      "Result: The series is not stationary\n",
      "KPSS Statistic: 0.3443191824462999\n",
      "p-value: 0.1\n",
      "num lags: 13\n",
      "Critial Values:\n",
      "   10% : 0.347\n",
      "   5% : 0.463\n",
      "   2.5% : 0.574\n",
      "   1% : 0.739\n",
      "Result: The series is stationary\n",
      "ADF Statistic: -3.3176396689354384\n",
      "p-value: 0.014108159521617784\n",
      "num lags: 5\n",
      "Critial Values:\n",
      "   1% : -3.489057523907491\n",
      "   5% : -2.887246327182993\n",
      "   10% : -2.5804808802708528\n",
      "Result: The series is stationary\n"
     ]
    },
    {
     "name": "stderr",
     "output_type": "stream",
     "text": [
      "C:\\Users\\adxva\\anaconda3\\lib\\site-packages\\statsmodels\\tsa\\stattools.py:1685: InterpolationWarning: p-value is smaller than the indicated p-value\n",
      "  warn(\"p-value is smaller than the indicated p-value\", InterpolationWarning)\n",
      "C:\\Users\\adxva\\anaconda3\\lib\\site-packages\\statsmodels\\tsa\\stattools.py:1687: InterpolationWarning: p-value is greater than the indicated p-value\n",
      "  warn(\"p-value is greater than the indicated p-value\", InterpolationWarning)\n"
     ]
    }
   ],
   "source": [
    "kpss_test(serie1)\n",
    "adf_test(serie1)\n",
    "serie2 = serie1 - serie1.shift().fillna(0)\n",
    "kpss_test(serie2)\n",
    "adf_test(serie2)"
   ]
  },
  {
   "cell_type": "markdown",
   "metadata": {},
   "source": [
    "La série temporelle des actifs aux Etats-Unis est stationnaire intégrée à l'ordre 1 selon les tests KPSS et ADF."
   ]
  },
  {
   "cell_type": "code",
   "execution_count": 34,
   "metadata": {},
   "outputs": [],
   "source": [
    "serie1=tocde['USA']['Formation']"
   ]
  },
  {
   "cell_type": "code",
   "execution_count": 35,
   "metadata": {},
   "outputs": [
    {
     "name": "stdout",
     "output_type": "stream",
     "text": [
      "KPSS Statistic: 0.8792935265198131\n",
      "p-value: 0.01\n",
      "num lags: 13\n",
      "Critial Values:\n",
      "   10% : 0.347\n",
      "   5% : 0.463\n",
      "   2.5% : 0.574\n",
      "   1% : 0.739\n",
      "Result: The series is not stationary\n",
      "ADF Statistic: -0.6611884906481107\n",
      "p-value: 0.8565481530480972\n",
      "num lags: 1\n",
      "Critial Values:\n",
      "   1% : -3.4870216863700767\n",
      "   5% : -2.8863625166643136\n",
      "   10% : -2.580009026141913\n",
      "Result: The series is not stationary\n",
      "KPSS Statistic: 0.3092990997033586\n",
      "p-value: 0.1\n",
      "num lags: 13\n",
      "Critial Values:\n",
      "   10% : 0.347\n",
      "   5% : 0.463\n",
      "   2.5% : 0.574\n",
      "   1% : 0.739\n",
      "Result: The series is stationary\n",
      "ADF Statistic: -41.07736735499937\n",
      "p-value: 0.0\n",
      "num lags: 0\n",
      "Critial Values:\n",
      "   1% : -3.4865346059036564\n",
      "   5% : -2.8861509858476264\n",
      "   10% : -2.579896092790057\n",
      "Result: The series is stationary\n"
     ]
    },
    {
     "name": "stderr",
     "output_type": "stream",
     "text": [
      "C:\\Users\\adxva\\anaconda3\\lib\\site-packages\\statsmodels\\tsa\\stattools.py:1685: InterpolationWarning: p-value is smaller than the indicated p-value\n",
      "  warn(\"p-value is smaller than the indicated p-value\", InterpolationWarning)\n",
      "C:\\Users\\adxva\\anaconda3\\lib\\site-packages\\statsmodels\\tsa\\stattools.py:1687: InterpolationWarning: p-value is greater than the indicated p-value\n",
      "  warn(\"p-value is greater than the indicated p-value\", InterpolationWarning)\n"
     ]
    }
   ],
   "source": [
    "kpss_test(serie1)\n",
    "adf_test(serie1)\n",
    "serie2 = serie1 - serie1.shift().fillna(0)\n",
    "kpss_test(serie2)\n",
    "adf_test(serie2)"
   ]
  },
  {
   "cell_type": "markdown",
   "metadata": {},
   "source": [
    "La série temporelle de la formation aux Etats-Unis est stationnaire intégrée à l'ordre 1 selon les tests KPSS et AFD."
   ]
  },
  {
   "cell_type": "code",
   "execution_count": 36,
   "metadata": {},
   "outputs": [
    {
     "name": "stdout",
     "output_type": "stream",
     "text": [
      "KPSS Statistic: 0.9562502354679252\n",
      "p-value: 0.01\n",
      "num lags: 13\n",
      "Critial Values:\n",
      "   10% : 0.347\n",
      "   5% : 0.463\n",
      "   2.5% : 0.574\n",
      "   1% : 0.739\n",
      "Result: The series is not stationary\n",
      "ADF Statistic: -0.5539760704231023\n",
      "p-value: 0.8810461846151012\n",
      "num lags: 4\n",
      "Critial Values:\n",
      "   1% : -3.4885349695076844\n",
      "   5% : -2.887019521656941\n",
      "   10% : -2.5803597920604915\n",
      "Result: The series is not stationary\n",
      "KPSS Statistic: 0.32671263492350594\n",
      "p-value: 0.1\n",
      "num lags: 13\n",
      "Critial Values:\n",
      "   10% : 0.347\n",
      "   5% : 0.463\n",
      "   2.5% : 0.574\n",
      "   1% : 0.739\n",
      "Result: The series is stationary\n",
      "ADF Statistic: -3.279211321694338\n",
      "p-value: 0.015833690928518638\n",
      "num lags: 3\n",
      "Critial Values:\n",
      "   1% : -3.4880216384691867\n",
      "   5% : -2.8867966864160075\n",
      "   10% : -2.5802408234244947\n",
      "Result: The series is stationary\n"
     ]
    },
    {
     "name": "stderr",
     "output_type": "stream",
     "text": [
      "C:\\Users\\adxva\\anaconda3\\lib\\site-packages\\statsmodels\\tsa\\stattools.py:1685: InterpolationWarning: p-value is smaller than the indicated p-value\n",
      "  warn(\"p-value is smaller than the indicated p-value\", InterpolationWarning)\n",
      "C:\\Users\\adxva\\anaconda3\\lib\\site-packages\\statsmodels\\tsa\\stattools.py:1687: InterpolationWarning: p-value is greater than the indicated p-value\n",
      "  warn(\"p-value is greater than the indicated p-value\", InterpolationWarning)\n"
     ]
    }
   ],
   "source": [
    "serie1=tocde['USA']['Conso']\n",
    "kpss_test(serie1)\n",
    "adf_test(serie1)\n",
    "serie2 = serie1 - serie1.shift().fillna(0)\n",
    "kpss_test(serie2)\n",
    "adf_test(serie2)"
   ]
  },
  {
   "cell_type": "code",
   "execution_count": 37,
   "metadata": {},
   "outputs": [
    {
     "name": "stderr",
     "output_type": "stream",
     "text": [
      "C:\\Users\\adxva\\anaconda3\\lib\\site-packages\\statsmodels\\tsa\\stattools.py:1685: InterpolationWarning: p-value is smaller than the indicated p-value\n",
      "  warn(\"p-value is smaller than the indicated p-value\", InterpolationWarning)\n",
      "C:\\Users\\adxva\\anaconda3\\lib\\site-packages\\statsmodels\\tsa\\stattools.py:1687: InterpolationWarning: p-value is greater than the indicated p-value\n",
      "  warn(\"p-value is greater than the indicated p-value\", InterpolationWarning)\n"
     ]
    },
    {
     "name": "stdout",
     "output_type": "stream",
     "text": [
      "KPSS Statistic: 0.9535354665350328\n",
      "p-value: 0.01\n",
      "num lags: 13\n",
      "Critial Values:\n",
      "   10% : 0.347\n",
      "   5% : 0.463\n",
      "   2.5% : 0.574\n",
      "   1% : 0.739\n",
      "Result: The series is not stationary\n",
      "ADF Statistic: -0.4153590512020417\n",
      "p-value: 0.9075026091117948\n",
      "num lags: 1\n",
      "Critial Values:\n",
      "   1% : -3.4870216863700767\n",
      "   5% : -2.8863625166643136\n",
      "   10% : -2.580009026141913\n",
      "Result: The series is not stationary\n",
      "KPSS Statistic: 0.2589481789556083\n",
      "p-value: 0.1\n",
      "num lags: 13\n",
      "Critial Values:\n",
      "   10% : 0.347\n",
      "   5% : 0.463\n",
      "   2.5% : 0.574\n",
      "   1% : 0.739\n",
      "Result: The series is stationary\n",
      "ADF Statistic: -21.80180952915237\n",
      "p-value: 0.0\n",
      "num lags: 0\n",
      "Critial Values:\n",
      "   1% : -3.4865346059036564\n",
      "   5% : -2.8861509858476264\n",
      "   10% : -2.579896092790057\n",
      "Result: The series is stationary\n"
     ]
    }
   ],
   "source": [
    "serie1=tocde['USA']['Exports']\n",
    "kpss_test(serie1)\n",
    "adf_test(serie1)\n",
    "serie2 = serie1 - serie1.shift().fillna(0)\n",
    "kpss_test(serie2)\n",
    "adf_test(serie2)"
   ]
  },
  {
   "cell_type": "markdown",
   "metadata": {},
   "source": [
    "Les séries des exportations et de la consommation aux Etat-Unis sont stationnaires d'ordre 1. "
   ]
  },
  {
   "cell_type": "code",
   "execution_count": 38,
   "metadata": {},
   "outputs": [
    {
     "name": "stdout",
     "output_type": "stream",
     "text": [
      "KPSS Statistic: 0.9463214923897139\n",
      "p-value: 0.01\n",
      "num lags: 13\n",
      "Critial Values:\n",
      "   10% : 0.347\n",
      "   5% : 0.463\n",
      "   2.5% : 0.574\n",
      "   1% : 0.739\n",
      "Result: The series is not stationary\n",
      "ADF Statistic: -0.596492564016717\n",
      "p-value: 0.8717725957184036\n",
      "num lags: 4\n",
      "Critial Values:\n",
      "   1% : -3.4885349695076844\n",
      "   5% : -2.887019521656941\n",
      "   10% : -2.5803597920604915\n",
      "Result: The series is not stationary\n",
      "KPSS Statistic: 0.3247951370975108\n",
      "p-value: 0.1\n",
      "num lags: 13\n",
      "Critial Values:\n",
      "   10% : 0.347\n",
      "   5% : 0.463\n",
      "   2.5% : 0.574\n",
      "   1% : 0.739\n",
      "Result: The series is stationary\n",
      "ADF Statistic: -5.326476050950481\n",
      "p-value: 4.824924943028646e-06\n",
      "num lags: 3\n",
      "Critial Values:\n",
      "   1% : -3.4880216384691867\n",
      "   5% : -2.8867966864160075\n",
      "   10% : -2.5802408234244947\n",
      "Result: The series is stationary\n"
     ]
    },
    {
     "name": "stderr",
     "output_type": "stream",
     "text": [
      "C:\\Users\\adxva\\anaconda3\\lib\\site-packages\\statsmodels\\tsa\\stattools.py:1685: InterpolationWarning: p-value is smaller than the indicated p-value\n",
      "  warn(\"p-value is smaller than the indicated p-value\", InterpolationWarning)\n",
      "C:\\Users\\adxva\\anaconda3\\lib\\site-packages\\statsmodels\\tsa\\stattools.py:1687: InterpolationWarning: p-value is greater than the indicated p-value\n",
      "  warn(\"p-value is greater than the indicated p-value\", InterpolationWarning)\n"
     ]
    }
   ],
   "source": [
    "serie1=tocde['FRA']['Exports']\n",
    "kpss_test(serie1)\n",
    "adf_test(serie1)\n",
    "serie2 = serie1 - serie1.shift().fillna(0)\n",
    "kpss_test(serie2)\n",
    "adf_test(serie2)"
   ]
  },
  {
   "cell_type": "code",
   "execution_count": 39,
   "metadata": {},
   "outputs": [
    {
     "name": "stderr",
     "output_type": "stream",
     "text": [
      "C:\\Users\\adxva\\anaconda3\\lib\\site-packages\\statsmodels\\tsa\\stattools.py:1685: InterpolationWarning: p-value is smaller than the indicated p-value\n",
      "  warn(\"p-value is smaller than the indicated p-value\", InterpolationWarning)\n"
     ]
    },
    {
     "name": "stdout",
     "output_type": "stream",
     "text": [
      "KPSS Statistic: 0.946316714699186\n",
      "p-value: 0.01\n",
      "num lags: 13\n",
      "Critial Values:\n",
      "   10% : 0.347\n",
      "   5% : 0.463\n",
      "   2.5% : 0.574\n",
      "   1% : 0.739\n",
      "Result: The series is not stationary\n",
      "ADF Statistic: -0.7398047709641842\n",
      "p-value: 0.8361681058301744\n",
      "num lags: 3\n",
      "Critial Values:\n",
      "   1% : -3.4880216384691867\n",
      "   5% : -2.8867966864160075\n",
      "   10% : -2.5802408234244947\n",
      "Result: The series is not stationary\n",
      "KPSS Statistic: 0.3431817814545472\n",
      "p-value: 0.1\n",
      "num lags: 13\n",
      "Critial Values:\n",
      "   10% : 0.347\n",
      "   5% : 0.463\n",
      "   2.5% : 0.574\n",
      "   1% : 0.739\n",
      "Result: The series is stationary\n",
      "ADF Statistic: -4.23562528456432\n",
      "p-value: 0.0005731467640234173\n",
      "num lags: 2\n",
      "Critial Values:\n",
      "   1% : -3.487517288664615\n",
      "   5% : -2.8865777180380032\n",
      "   10% : -2.5801239192052012\n",
      "Result: The series is stationary\n"
     ]
    },
    {
     "name": "stderr",
     "output_type": "stream",
     "text": [
      "C:\\Users\\adxva\\anaconda3\\lib\\site-packages\\statsmodels\\tsa\\stattools.py:1687: InterpolationWarning: p-value is greater than the indicated p-value\n",
      "  warn(\"p-value is greater than the indicated p-value\", InterpolationWarning)\n"
     ]
    }
   ],
   "source": [
    "serie1=tocde['FRA']['PIB']\n",
    "kpss_test(serie1)\n",
    "adf_test(serie1)\n",
    "serie2 = serie1 - serie1.shift().fillna(0)\n",
    "kpss_test(serie2)\n",
    "adf_test(serie2)"
   ]
  },
  {
   "cell_type": "code",
   "execution_count": 45,
   "metadata": {},
   "outputs": [
    {
     "data": {
      "text/plain": [
       "date\n",
       "2003-01-01    7.93574\n",
       "2003-04-01    8.09662\n",
       "2003-07-01    8.01927\n",
       "2003-10-01    8.34581\n",
       "2004-01-01    8.52777\n",
       "               ...   \n",
       "2018-10-01    8.76056\n",
       "2019-01-01    8.75797\n",
       "2019-04-01    8.45035\n",
       "2019-07-01    8.43242\n",
       "2019-10-01    8.13304\n",
       "Name: Chomage, Length: 68, dtype: object"
      ]
     },
     "execution_count": 45,
     "metadata": {},
     "output_type": "execute_result"
    }
   ],
   "source": [
    "serie1 = tocde['FRA']['Chomage'].dropna()\n",
    "serie1"
   ]
  },
  {
   "cell_type": "code",
   "execution_count": 46,
   "metadata": {},
   "outputs": [
    {
     "name": "stdout",
     "output_type": "stream",
     "text": [
      "KPSS Statistic: 0.36416619219496654\n",
      "p-value: 0.09260077922630752\n",
      "num lags: 11\n",
      "Critial Values:\n",
      "   10% : 0.347\n",
      "   5% : 0.463\n",
      "   2.5% : 0.574\n",
      "   1% : 0.739\n",
      "Result: The series is stationary\n",
      "ADF Statistic: -1.8443123016565897\n",
      "p-value: 0.358694193001887\n",
      "num lags: 2\n",
      "Critial Values:\n",
      "   1% : -3.5352168748293127\n",
      "   5% : -2.9071540828402367\n",
      "   10% : -2.5911025443786984\n",
      "Result: The series is not stationary\n",
      "KPSS Statistic: 0.36042101817975314\n",
      "p-value: 0.09421507837079605\n",
      "num lags: 11\n",
      "Critial Values:\n",
      "   10% : 0.347\n",
      "   5% : 0.463\n",
      "   2.5% : 0.574\n",
      "   1% : 0.739\n",
      "Result: The series is stationary\n",
      "ADF Statistic: -6.035855886250201\n",
      "p-value: 1.382666977590907e-07\n",
      "num lags: 1\n",
      "Critial Values:\n",
      "   1% : -3.5335601309235605\n",
      "   5% : -2.9064436883991434\n",
      "   10% : -2.590723948576676\n",
      "Result: The series is stationary\n"
     ]
    }
   ],
   "source": [
    "#serie1=tocde['FRA']['Chomage']\n",
    "kpss_test(serie1)\n",
    "adf_test(serie1)\n",
    "serie2 = serie1 - serie1.shift().fillna(0)\n",
    "kpss_test(serie2)\n",
    "adf_test(serie2)"
   ]
  },
  {
   "cell_type": "markdown",
   "metadata": {},
   "source": [
    "Nous avons effectué un certain nombre de tests sur les séries. Parfois, les séries n'était stationnaires qu'à l'ordre 1. Dans ce cas la quelle série devons nous utiliser pour la méthode de contrôle synthétique? La série stationnarisée ou la série originale? "
   ]
  },
  {
   "cell_type": "code",
   "execution_count": null,
   "metadata": {},
   "outputs": [],
   "source": []
  },
  {
   "cell_type": "code",
   "execution_count": null,
   "metadata": {},
   "outputs": [],
   "source": []
  }
 ],
 "metadata": {
  "kernelspec": {
   "display_name": "Python 3",
   "language": "python",
   "name": "python3"
  },
  "language_info": {
   "codemirror_mode": {
    "name": "ipython",
    "version": 3
   },
   "file_extension": ".py",
   "mimetype": "text/x-python",
   "name": "python",
   "nbconvert_exporter": "python",
   "pygments_lexer": "ipython3",
   "version": "3.8.3"
  }
 },
 "nbformat": 4,
 "nbformat_minor": 4
}
