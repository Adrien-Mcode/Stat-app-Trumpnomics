{
 "cells": [
  {
   "cell_type": "code",
   "execution_count": 2,
   "metadata": {},
   "outputs": [
    {
     "name": "stdout",
     "output_type": "stream",
     "text": [
      "Collecting cif\n",
      "  Downloading cif-0.0.6.tar.gz (23 kB)\n",
      "Requirement already satisfied: requests in c:\\users\\duran\\anaconda3\\lib\\site-packages (from cif) (2.22.0)\n",
      "Requirement already satisfied: pandas>=0.24.0 in c:\\users\\duran\\anaconda3\\lib\\site-packages (from cif) (1.0.1)\n",
      "Requirement already satisfied: matplotlib in c:\\users\\duran\\anaconda3\\lib\\site-packages (from cif) (3.1.3)\n",
      "Requirement already satisfied: statsmodels>=0.11.0 in c:\\users\\duran\\anaconda3\\lib\\site-packages (from cif) (0.11.0)\n",
      "Requirement already satisfied: urllib3!=1.25.0,!=1.25.1,<1.26,>=1.21.1 in c:\\users\\duran\\anaconda3\\lib\\site-packages (from requests->cif) (1.25.8)\n",
      "Requirement already satisfied: certifi>=2017.4.17 in c:\\users\\duran\\anaconda3\\lib\\site-packages (from requests->cif) (2019.11.28)\n",
      "Requirement already satisfied: chardet<3.1.0,>=3.0.2 in c:\\users\\duran\\anaconda3\\lib\\site-packages (from requests->cif) (3.0.4)\n",
      "Requirement already satisfied: idna<2.9,>=2.5 in c:\\users\\duran\\anaconda3\\lib\\site-packages (from requests->cif) (2.8)\n",
      "Requirement already satisfied: pytz>=2017.2 in c:\\users\\duran\\anaconda3\\lib\\site-packages (from pandas>=0.24.0->cif) (2019.3)\n",
      "Requirement already satisfied: numpy>=1.13.3 in c:\\users\\duran\\anaconda3\\lib\\site-packages (from pandas>=0.24.0->cif) (1.18.1)\n",
      "Requirement already satisfied: python-dateutil>=2.6.1 in c:\\users\\duran\\anaconda3\\lib\\site-packages (from pandas>=0.24.0->cif) (2.8.1)\n",
      "Requirement already satisfied: kiwisolver>=1.0.1 in c:\\users\\duran\\anaconda3\\lib\\site-packages (from matplotlib->cif) (1.1.0)\n",
      "Requirement already satisfied: pyparsing!=2.0.4,!=2.1.2,!=2.1.6,>=2.0.1 in c:\\users\\duran\\anaconda3\\lib\\site-packages (from matplotlib->cif) (2.4.6)\n",
      "Requirement already satisfied: cycler>=0.10 in c:\\users\\duran\\anaconda3\\lib\\site-packages (from matplotlib->cif) (0.10.0)\n",
      "Requirement already satisfied: scipy>=1.0 in c:\\users\\duran\\anaconda3\\lib\\site-packages (from statsmodels>=0.11.0->cif) (1.4.1)\n",
      "Requirement already satisfied: patsy>=0.5 in c:\\users\\duran\\anaconda3\\lib\\site-packages (from statsmodels>=0.11.0->cif) (0.5.1)\n",
      "Requirement already satisfied: six>=1.5 in c:\\users\\duran\\anaconda3\\lib\\site-packages (from python-dateutil>=2.6.1->pandas>=0.24.0->cif) (1.14.0)\n",
      "Requirement already satisfied: setuptools in c:\\users\\duran\\anaconda3\\lib\\site-packages (from kiwisolver>=1.0.1->matplotlib->cif) (45.2.0.post20200210)\n",
      "Building wheels for collected packages: cif\n",
      "  Building wheel for cif (setup.py): started\n",
      "  Building wheel for cif (setup.py): finished with status 'done'\n",
      "  Created wheel for cif: filename=cif-0.0.6-py3-none-any.whl size=23270 sha256=94defcd55779e16d71583adbc8658956055ad4d40ff76fd841b4429a9ab52ba0\n",
      "  Stored in directory: c:\\users\\duran\\appdata\\local\\pip\\cache\\wheels\\7e\\da\\1c\\69a1b0e13a01d2fc454f38158666a794ba8a94746c985fe1b7\n",
      "Successfully built cif\n",
      "Installing collected packages: cif\n",
      "Successfully installed cif-0.0.6\n"
     ]
    }
   ],
   "source": [
    "!pip install cif"
   ]
  },
  {
   "cell_type": "code",
   "execution_count": 3,
   "metadata": {},
   "outputs": [],
   "source": [
    "from cif import cif\n",
    "import math\n",
    "import pandas as pd\n",
    "import matplotlib.pyplot as plt\n",
    "import numpy as np\n",
    "import statsmodels.api as sm"
   ]
  },
  {
   "cell_type": "code",
   "execution_count": 5,
   "metadata": {},
   "outputs": [
    {
     "name": "stdout",
     "output_type": "stream",
     "text": [
      "Requesting URL http://stats.oecd.org/SDMX-JSON/data/MEI/DEU...Q/all\n",
      "Data downloaded from https://stats.oecd.org/SDMX-JSON/data/MEI/DEU...Q/all?startTime=1990-Q1&endTime=2019-Q4&dimensionAtObservation=AllDimensions\n",
      "Requesting URL http://stats.oecd.org/SDMX-JSON/data/MEI/AUS...Q/all\n",
      "Data downloaded from https://stats.oecd.org/SDMX-JSON/data/MEI/AUS...Q/all?startTime=1990-Q1&endTime=2019-Q4&dimensionAtObservation=AllDimensions\n",
      "Requesting URL http://stats.oecd.org/SDMX-JSON/data/MEI/AUT...Q/all\n",
      "Data downloaded from https://stats.oecd.org/SDMX-JSON/data/MEI/AUT...Q/all?startTime=1990-Q1&endTime=2019-Q4&dimensionAtObservation=AllDimensions\n",
      "Requesting URL http://stats.oecd.org/SDMX-JSON/data/MEI/BEL...Q/all\n",
      "Data downloaded from https://stats.oecd.org/SDMX-JSON/data/MEI/BEL...Q/all?startTime=1990-Q1&endTime=2019-Q4&dimensionAtObservation=AllDimensions\n",
      "Requesting URL http://stats.oecd.org/SDMX-JSON/data/MEI/CAN...Q/all\n",
      "Data downloaded from https://stats.oecd.org/SDMX-JSON/data/MEI/CAN...Q/all?startTime=1990-Q1&endTime=2019-Q4&dimensionAtObservation=AllDimensions\n",
      "Requesting URL http://stats.oecd.org/SDMX-JSON/data/MEI/DNK...Q/all\n",
      "Data downloaded from https://stats.oecd.org/SDMX-JSON/data/MEI/DNK...Q/all?startTime=1990-Q1&endTime=2019-Q4&dimensionAtObservation=AllDimensions\n",
      "Requesting URL http://stats.oecd.org/SDMX-JSON/data/MEI/ESP...Q/all\n",
      "Data downloaded from https://stats.oecd.org/SDMX-JSON/data/MEI/ESP...Q/all?startTime=1990-Q1&endTime=2019-Q4&dimensionAtObservation=AllDimensions\n",
      "Requesting URL http://stats.oecd.org/SDMX-JSON/data/MEI/FIN...Q/all\n",
      "Data downloaded from https://stats.oecd.org/SDMX-JSON/data/MEI/FIN...Q/all?startTime=1990-Q1&endTime=2019-Q4&dimensionAtObservation=AllDimensions\n",
      "Requesting URL http://stats.oecd.org/SDMX-JSON/data/MEI/FRA...Q/all\n",
      "Data downloaded from https://stats.oecd.org/SDMX-JSON/data/MEI/FRA...Q/all?startTime=1990-Q1&endTime=2019-Q4&dimensionAtObservation=AllDimensions\n",
      "Requesting URL http://stats.oecd.org/SDMX-JSON/data/MEI/GRC...Q/all\n",
      "Data downloaded from https://stats.oecd.org/SDMX-JSON/data/MEI/GRC...Q/all?startTime=1990-Q1&endTime=2019-Q4&dimensionAtObservation=AllDimensions\n",
      "Requesting URL http://stats.oecd.org/SDMX-JSON/data/MEI/IRL...Q/all\n",
      "Data downloaded from https://stats.oecd.org/SDMX-JSON/data/MEI/IRL...Q/all?startTime=1990-Q1&endTime=2019-Q4&dimensionAtObservation=AllDimensions\n",
      "Requesting URL http://stats.oecd.org/SDMX-JSON/data/MEI/ITA...Q/all\n",
      "Data downloaded from https://stats.oecd.org/SDMX-JSON/data/MEI/ITA...Q/all?startTime=1990-Q1&endTime=2019-Q4&dimensionAtObservation=AllDimensions\n",
      "Requesting URL http://stats.oecd.org/SDMX-JSON/data/MEI/JPN...Q/all\n",
      "Data downloaded from https://stats.oecd.org/SDMX-JSON/data/MEI/JPN...Q/all?startTime=1990-Q1&endTime=2019-Q4&dimensionAtObservation=AllDimensions\n",
      "Requesting URL http://stats.oecd.org/SDMX-JSON/data/MEI/LUX...Q/all\n",
      "Data downloaded from https://stats.oecd.org/SDMX-JSON/data/MEI/LUX...Q/all?startTime=1990-Q1&endTime=2019-Q4&dimensionAtObservation=AllDimensions\n",
      "Requesting URL http://stats.oecd.org/SDMX-JSON/data/MEI/NOR...Q/all\n",
      "Data downloaded from https://stats.oecd.org/SDMX-JSON/data/MEI/NOR...Q/all?startTime=1990-Q1&endTime=2019-Q4&dimensionAtObservation=AllDimensions\n",
      "Requesting URL http://stats.oecd.org/SDMX-JSON/data/MEI/NZL...Q/all\n",
      "Data downloaded from https://stats.oecd.org/SDMX-JSON/data/MEI/NZL...Q/all?startTime=1990-Q1&endTime=2019-Q4&dimensionAtObservation=AllDimensions\n",
      "Requesting URL http://stats.oecd.org/SDMX-JSON/data/MEI/NLD...Q/all\n",
      "Data downloaded from https://stats.oecd.org/SDMX-JSON/data/MEI/NLD...Q/all?startTime=1990-Q1&endTime=2019-Q4&dimensionAtObservation=AllDimensions\n",
      "Requesting URL http://stats.oecd.org/SDMX-JSON/data/MEI/PRT...Q/all\n",
      "Data downloaded from https://stats.oecd.org/SDMX-JSON/data/MEI/PRT...Q/all?startTime=1990-Q1&endTime=2019-Q4&dimensionAtObservation=AllDimensions\n",
      "Requesting URL http://stats.oecd.org/SDMX-JSON/data/MEI/GBR...Q/all\n",
      "Data downloaded from https://stats.oecd.org/SDMX-JSON/data/MEI/GBR...Q/all?startTime=1990-Q1&endTime=2019-Q4&dimensionAtObservation=AllDimensions\n",
      "Requesting URL http://stats.oecd.org/SDMX-JSON/data/MEI/SWE...Q/all\n",
      "Data downloaded from https://stats.oecd.org/SDMX-JSON/data/MEI/SWE...Q/all?startTime=1990-Q1&endTime=2019-Q4&dimensionAtObservation=AllDimensions\n",
      "Requesting URL http://stats.oecd.org/SDMX-JSON/data/MEI/CHE...Q/all\n",
      "Data downloaded from https://stats.oecd.org/SDMX-JSON/data/MEI/CHE...Q/all?startTime=1990-Q1&endTime=2019-Q4&dimensionAtObservation=AllDimensions\n",
      "Requesting URL http://stats.oecd.org/SDMX-JSON/data/MEI/TUR...Q/all\n",
      "Data downloaded from https://stats.oecd.org/SDMX-JSON/data/MEI/TUR...Q/all?startTime=1990-Q1&endTime=2019-Q4&dimensionAtObservation=AllDimensions\n",
      "Requesting URL http://stats.oecd.org/SDMX-JSON/data/MEI/USA...Q/all\n",
      "Data downloaded from https://stats.oecd.org/SDMX-JSON/data/MEI/USA...Q/all?startTime=1990-Q1&endTime=2019-Q4&dimensionAtObservation=AllDimensions\n"
     ]
    }
   ],
   "source": [
    "headers = ['PIB', 'Emplois', 'Actifs', 'Chomage', 'Conso', 'Formation', 'Exports']\n",
    "ocde_df = pd.DataFrame(columns = headers.append('Pays'))\n",
    "\n",
    "liste_var = ['NAEXKP01', 'LREMTTTT', 'LRACTTTT', 'LRUNTTTT', 'NAEXKP02', 'NAEXKP04', 'NAEXKP06']\n",
    "\n",
    "\n",
    "\n",
    "pays_OCDE = ['DEU','AUS','AUT','BEL','CAN','DNK','ESP','FIN','FRA','GRC','IRL','ITA',\n",
    "             'JPN','LUX','NOR','NZL','NLD','PRT','GBR','SWE','CHE','TUR','USA']\n",
    "\n",
    "for country in pays_OCDE:\n",
    "    # On importe de l'OCDE les données :\n",
    "    country_df = cif.createOneCountryDataFrameFromOECD('{0}'.format(country),\n",
    "                                                       'MEI', frequency='Q',\n",
    "                                                       startDate='1990-Q1',\n",
    "                                                      endDate=\"2019-Q4\")[0]\n",
    "    \n",
    "    #On récupère les colonnes:\n",
    "    d = {col:var_df for col, var_df in zip(headers, [country_df['{0}'.format(var)][\"STSA\"] for var in liste_var])}\n",
    "    country_bon_df = pd.DataFrame(d)\n",
    "    \n",
    "    qs = country_bon_df.index.str.replace(r'(Q\\d) (\\d+)', r'\\2-\\1')\n",
    "    country_bon_df = country_bon_df.T\n",
    "    country_bon_df.columns = qs\n",
    "    #country_bon_df['date'] = pd.PeriodIndex(qs, freq='Q').to_timestamp()\n",
    "    #country_bon_df = country_bon_df.reindex(index=country_bon_df['date'])\n",
    "    #country_bon_df = country_bon_df.drop(\"date\", axis=1)\n",
    "    country_bon_df['Pays'] = country\n",
    "    ocde_df = pd.concat([ocde_df, country_bon_df], axis=0)"
   ]
  },
  {
   "cell_type": "code",
   "execution_count": 8,
   "metadata": {
    "scrolled": true
   },
   "outputs": [],
   "source": [
    "ocde_df.to_csv(r\"C:\\Users\\duran\\Desktop\\ocde.csv\", index=False)"
   ]
  },
  {
   "cell_type": "code",
   "execution_count": null,
   "metadata": {},
   "outputs": [],
   "source": []
  }
 ],
 "metadata": {
  "kernelspec": {
   "display_name": "Python 3",
   "language": "python",
   "name": "python3"
  },
  "language_info": {
   "codemirror_mode": {
    "name": "ipython",
    "version": 3
   },
   "file_extension": ".py",
   "mimetype": "text/x-python",
   "name": "python",
   "nbconvert_exporter": "python",
   "pygments_lexer": "ipython3",
   "version": "3.7.6"
  }
 },
 "nbformat": 4,
 "nbformat_minor": 4
}
