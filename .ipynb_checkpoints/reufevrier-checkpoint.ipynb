{
 "cells": [
  {
   "cell_type": "markdown",
   "metadata": {},
   "source": [
    "# Présentation de la base de données & Tests de stationnarité\n"
   ]
  },
  {
   "cell_type": "markdown",
   "metadata": {},
   "source": [
    "Nous avons exporté les données de l'OCDE dans une base de données que nous avons reformatée, afin d'avoir une indexation multiple au niveau des colonnes : un premier niveau pour les pays et ensuite pour chaque pays les différents indicateurs choisis. Nous avons aussi ajouté des indicateurs concernant les inégalités, à savoir le top 50% du revenu et le top 10% du revenu. Néanmoins nous nous posons quelques questions concernant ces indicateurrs. 1) Le coefficient de Gini est disponible mais le calcul n'est fait que par année (car il nous semble qu'il varie peu). Faut-il alors qu'on le calcule à la main pour chaque trimestre, l'utiliser tel quel (par annnée), ou ne pas l'utiliser du tout? 2) Est-il important de savoir si la part des revenus est bruts ou non, dans le mesure où l'on cherche à évaluer l'impact des politiques fiscales de Trump?"
   ]
  },
  {
   "cell_type": "markdown",
   "metadata": {},
   "source": [
    "# Partie 1 : Création d'une base de données synthétique pour l'OCDE"
   ]
  },
  {
   "cell_type": "code",
   "execution_count": 1,
   "metadata": {},
   "outputs": [],
   "source": [
    "import pandas as pd"
   ]
  },
  {
   "cell_type": "code",
   "execution_count": 37,
   "metadata": {},
   "outputs": [],
   "source": [
    "bottom_50 = pd.read_csv(\"bottom_50_income.csv\",\n",
    "                       header = 1,\n",
    "                       sep=';')"
   ]
  },
  {
   "cell_type": "code",
   "execution_count": 38,
   "metadata": {},
   "outputs": [],
   "source": [
    "top_10 =pd.read_csv(r\"top_10_income.csv\",\n",
    "                   header = 1,\n",
    "                   sep=';')"
   ]
  },
  {
   "cell_type": "code",
   "execution_count": 39,
   "metadata": {},
   "outputs": [],
   "source": [
    "pays_ocde = {\"Germany\" :'DEU',\"Australia\" :'AUS',\"Austria\":'AUT',\"Belgium\":'BEL',\n",
    "             \"Canada\":'CAN',\"Denmark\":'DNK',\"Spain\":'ESP',\"Finland\":'FIN',\n",
    "             \"France\":'FRA',\"Greece\":'GRC',\"Ireland\":'IRL',\"Italy\":'ITA',\n",
    "             \"Japan\":'JPN',\"Luxembourg\":'LUX',\"Norway\":'NOR',\"New-Zealand\":'NZL',\n",
    "             \"Netherlands\":'NLD',\"Portugal\":'PRT',\"United Kingdom\":'GBR',\n",
    "             \"Sweden\":'SWE',\"Switzerland\":'CHE',\"Turkey\":'TUR',\"United-States\":'USA'}\n",
    "\n",
    "\n",
    "df_ocde = pd.read_csv(r\"ocde_df\")\n",
    "\n",
    "df_ocde.rename(columns={'Unnamed: 0':'Variables'}, inplace=True)\n",
    "\n",
    "ind_tuple = list(zip(df_ocde['Pays'], df_ocde['Variables']))\n",
    "new_index = pd.MultiIndex.from_tuples(ind_tuple, names=[\"Pays\", \"Variables\"])\n",
    "\n",
    "# Mise en place du système de double indice\n",
    "\n",
    "tocde = df_ocde.T.copy()\n",
    "tocde.columns = new_index\n",
    "tocde.drop(['Variables', 'Pays'], inplace=True)\n",
    "\n",
    "# tocde = tocde.drop(['2020-Q1','2020-Q2','2020-Q3','2020-Q4','2021-Q1'])\n",
    "# On renomme les colonnes de bottom_50 et top_10\n",
    "\n",
    "bottom_50.columns = ['Variables', 'Year'] + sorted(pays_ocde.keys(), key=str)\n",
    "top_10.columns = ['Variables', 'Year'] + sorted(pays_ocde.keys(), key=str)\n",
    "\n",
    "# On prépare bottom_50 pour la fusion\n",
    "\n",
    "bottom_50 = bottom_50.drop('Variables', axis=1)\n",
    "for i in range (1,3) : \n",
    "    bottom_50 = pd.concat([bottom_50,bottom_50]) \n",
    "    \n",
    "annee = []\n",
    "for j in range (1,5):\n",
    "    for i in range (0,29):\n",
    "        annee.append(str(1991+i)+'-Q'+str(j))\n",
    "bottom_50['Year'] = annee\n",
    "\n",
    "# Mise en place double index pour bottom_50 \n",
    "\n",
    "bottom_50 = bottom_50.set_index('Year')\n",
    "\n",
    "bottom_50['Variables'] = 'income p0p50'\n",
    "\n",
    "ind_tuple = list(zip(bottom_50.columns, bottom_50['Variables']))\n",
    "new_index = pd.MultiIndex.from_tuples(ind_tuple, names=[\"Pays\", \"Variables\"])\n",
    "bottom_50.columns = new_index\n",
    "\n",
    "bottom_50 = bottom_50.drop(('Variables','income p0p50'), axis = 1)\n",
    "\n",
    "tocde = tocde.merge(right=bottom_50, how='outer',\n",
    "                    left_index=True,\n",
    "                    right_index=True).sort_index(axis = 0).sort_index(axis = 1)\n",
    "\n",
    "# On prépare top_10 pour la fusion\n",
    "\n",
    "top_10 = top_10.drop('Variables', axis = 1)\n",
    "for i in range (1,3) : \n",
    "    top_10 = pd.concat([top_10,top_10])    \n",
    "    \n",
    "annee = []\n",
    "for j in range (1,5):\n",
    "    for i in range (0,29):\n",
    "        annee.append(str(1991+i)+'-Q'+str(j))\n",
    "top_10['Year'] = annee\n",
    "\n",
    "# Mise en place double index pour top_10 :\n",
    "top_10 = top_10.set_index('Year')\n",
    "\n",
    "top_10['Variables'] = 'income p90p100'\n",
    "\n",
    "ind_tuple = list(zip(top_10.columns, top_10['Variables']))\n",
    "\n",
    "new_index = pd.MultiIndex.from_tuples(ind_tuple, names=[\"Pays\", \"Variables\"])\n",
    "\n",
    "top_10.columns = new_index\n",
    "\n",
    "top_10 = top_10.drop(('Variables','income p90p100'), axis=1)\n",
    "\n",
    "tocde = tocde.merge(right = top_10,\n",
    "                    how='outer',\n",
    "                    left_index=True,\n",
    "                    right_index=True).sort_index(axis = 0).sort_index(axis = 1)\n",
    "\n",
    "qs = tocde.index.str.replace(r'(Q\\d) (\\d+)', r'\\2-\\1')\n",
    "\n",
    "tocde['date'] = pd.PeriodIndex(qs, freq='Q').to_timestamp()\n",
    "\n",
    "\n",
    "tocde = tocde.reindex(index=tocde['date'])\n",
    "tocde = tocde.drop(\"date\", axis=1)\n",
    "tocde.drop(list(pd.date_range('20200101', periods=5, freq='QS-JAN')), inplace=True)"
   ]
  },
  {
   "cell_type": "code",
   "execution_count": 40,
   "metadata": {
    "scrolled": true
   },
   "outputs": [
    {
     "data": {
      "text/html": [
       "<div>\n",
       "<style scoped>\n",
       "    .dataframe tbody tr th:only-of-type {\n",
       "        vertical-align: middle;\n",
       "    }\n",
       "\n",
       "    .dataframe tbody tr th {\n",
       "        vertical-align: top;\n",
       "    }\n",
       "\n",
       "    .dataframe thead tr th {\n",
       "        text-align: left;\n",
       "    }\n",
       "\n",
       "    .dataframe thead tr:last-of-type th {\n",
       "        text-align: right;\n",
       "    }\n",
       "</style>\n",
       "<table border=\"1\" class=\"dataframe\">\n",
       "  <thead>\n",
       "    <tr>\n",
       "      <th>Pays</th>\n",
       "      <th colspan=\"9\" halign=\"left\">Australia</th>\n",
       "      <th>Austria</th>\n",
       "      <th>...</th>\n",
       "      <th>United Kingdom</th>\n",
       "      <th colspan=\"9\" halign=\"left\">United-States</th>\n",
       "    </tr>\n",
       "    <tr>\n",
       "      <th>Variables</th>\n",
       "      <th>Actifs</th>\n",
       "      <th>Chomage</th>\n",
       "      <th>Conso</th>\n",
       "      <th>Emplois</th>\n",
       "      <th>Exports</th>\n",
       "      <th>Formation</th>\n",
       "      <th>PIB</th>\n",
       "      <th>income p0p50</th>\n",
       "      <th>income p90p100</th>\n",
       "      <th>Actifs</th>\n",
       "      <th>...</th>\n",
       "      <th>income p90p100</th>\n",
       "      <th>Actifs</th>\n",
       "      <th>Chomage</th>\n",
       "      <th>Conso</th>\n",
       "      <th>Emplois</th>\n",
       "      <th>Exports</th>\n",
       "      <th>Formation</th>\n",
       "      <th>PIB</th>\n",
       "      <th>income p0p50</th>\n",
       "      <th>income p90p100</th>\n",
       "    </tr>\n",
       "    <tr>\n",
       "      <th>date</th>\n",
       "      <th></th>\n",
       "      <th></th>\n",
       "      <th></th>\n",
       "      <th></th>\n",
       "      <th></th>\n",
       "      <th></th>\n",
       "      <th></th>\n",
       "      <th></th>\n",
       "      <th></th>\n",
       "      <th></th>\n",
       "      <th></th>\n",
       "      <th></th>\n",
       "      <th></th>\n",
       "      <th></th>\n",
       "      <th></th>\n",
       "      <th></th>\n",
       "      <th></th>\n",
       "      <th></th>\n",
       "      <th></th>\n",
       "      <th></th>\n",
       "      <th></th>\n",
       "    </tr>\n",
       "  </thead>\n",
       "  <tbody>\n",
       "    <tr>\n",
       "      <th>1990-01-01</th>\n",
       "      <td>63.5595</td>\n",
       "      <td>6.23002</td>\n",
       "      <td>108.373</td>\n",
       "      <td>59.5996</td>\n",
       "      <td>26.942</td>\n",
       "      <td>41.272</td>\n",
       "      <td>206.89</td>\n",
       "      <td>NaN</td>\n",
       "      <td>NaN</td>\n",
       "      <td>NaN</td>\n",
       "      <td>...</td>\n",
       "      <td>NaN</td>\n",
       "      <td>66.7333</td>\n",
       "      <td>5.3</td>\n",
       "      <td>5998.06</td>\n",
       "      <td>63.2</td>\n",
       "      <td>682.3</td>\n",
       "      <td>1695.37</td>\n",
       "      <td>9358.29</td>\n",
       "      <td>NaN</td>\n",
       "      <td>NaN</td>\n",
       "    </tr>\n",
       "    <tr>\n",
       "      <th>1990-04-01</th>\n",
       "      <td>63.7865</td>\n",
       "      <td>6.46453</td>\n",
       "      <td>108.965</td>\n",
       "      <td>59.6628</td>\n",
       "      <td>26.986</td>\n",
       "      <td>39.657</td>\n",
       "      <td>207.173</td>\n",
       "      <td>NaN</td>\n",
       "      <td>NaN</td>\n",
       "      <td>NaN</td>\n",
       "      <td>...</td>\n",
       "      <td>NaN</td>\n",
       "      <td>66.5333</td>\n",
       "      <td>5.33333</td>\n",
       "      <td>6016.33</td>\n",
       "      <td>63</td>\n",
       "      <td>690.785</td>\n",
       "      <td>1668.44</td>\n",
       "      <td>9392.25</td>\n",
       "      <td>NaN</td>\n",
       "      <td>NaN</td>\n",
       "    </tr>\n",
       "    <tr>\n",
       "      <th>1990-07-01</th>\n",
       "      <td>63.9287</td>\n",
       "      <td>7.22537</td>\n",
       "      <td>109.106</td>\n",
       "      <td>59.3098</td>\n",
       "      <td>28.052</td>\n",
       "      <td>39.505</td>\n",
       "      <td>205.931</td>\n",
       "      <td>NaN</td>\n",
       "      <td>NaN</td>\n",
       "      <td>NaN</td>\n",
       "      <td>...</td>\n",
       "      <td>NaN</td>\n",
       "      <td>66.4667</td>\n",
       "      <td>5.7</td>\n",
       "      <td>6040.16</td>\n",
       "      <td>62.6667</td>\n",
       "      <td>696.014</td>\n",
       "      <td>1659.14</td>\n",
       "      <td>9398.5</td>\n",
       "      <td>NaN</td>\n",
       "      <td>NaN</td>\n",
       "    </tr>\n",
       "    <tr>\n",
       "      <th>1990-10-01</th>\n",
       "      <td>63.6977</td>\n",
       "      <td>7.86751</td>\n",
       "      <td>108.421</td>\n",
       "      <td>58.6863</td>\n",
       "      <td>28.496</td>\n",
       "      <td>38.098</td>\n",
       "      <td>207.139</td>\n",
       "      <td>NaN</td>\n",
       "      <td>NaN</td>\n",
       "      <td>NaN</td>\n",
       "      <td>...</td>\n",
       "      <td>NaN</td>\n",
       "      <td>66.4</td>\n",
       "      <td>6.13333</td>\n",
       "      <td>5994.21</td>\n",
       "      <td>62.3333</td>\n",
       "      <td>702.143</td>\n",
       "      <td>1628.39</td>\n",
       "      <td>9312.94</td>\n",
       "      <td>NaN</td>\n",
       "      <td>NaN</td>\n",
       "    </tr>\n",
       "    <tr>\n",
       "      <th>1991-01-01</th>\n",
       "      <td>63.3995</td>\n",
       "      <td>8.73256</td>\n",
       "      <td>108.655</td>\n",
       "      <td>57.8632</td>\n",
       "      <td>29.718</td>\n",
       "      <td>36.525</td>\n",
       "      <td>204.453</td>\n",
       "      <td>0.2323</td>\n",
       "      <td>0.3281</td>\n",
       "      <td>NaN</td>\n",
       "      <td>...</td>\n",
       "      <td>0.2593</td>\n",
       "      <td>66.2333</td>\n",
       "      <td>6.6</td>\n",
       "      <td>5971.67</td>\n",
       "      <td>61.9</td>\n",
       "      <td>706.434</td>\n",
       "      <td>1587.41</td>\n",
       "      <td>9269.37</td>\n",
       "      <td>0.2496</td>\n",
       "      <td>0.2931</td>\n",
       "    </tr>\n",
       "    <tr>\n",
       "      <th>...</th>\n",
       "      <td>...</td>\n",
       "      <td>...</td>\n",
       "      <td>...</td>\n",
       "      <td>...</td>\n",
       "      <td>...</td>\n",
       "      <td>...</td>\n",
       "      <td>...</td>\n",
       "      <td>...</td>\n",
       "      <td>...</td>\n",
       "      <td>...</td>\n",
       "      <td>...</td>\n",
       "      <td>...</td>\n",
       "      <td>...</td>\n",
       "      <td>...</td>\n",
       "      <td>...</td>\n",
       "      <td>...</td>\n",
       "      <td>...</td>\n",
       "      <td>...</td>\n",
       "      <td>...</td>\n",
       "      <td>...</td>\n",
       "      <td>...</td>\n",
       "    </tr>\n",
       "    <tr>\n",
       "      <th>2018-10-01</th>\n",
       "      <td>65.629</td>\n",
       "      <td>5.03693</td>\n",
       "      <td>269.315</td>\n",
       "      <td>62.3233</td>\n",
       "      <td>116.359</td>\n",
       "      <td>113.548</td>\n",
       "      <td>486.394</td>\n",
       "      <td>0.2451</td>\n",
       "      <td>0.3189</td>\n",
       "      <td>61.4248</td>\n",
       "      <td>...</td>\n",
       "      <td>0.2894</td>\n",
       "      <td>62.9</td>\n",
       "      <td>3.83333</td>\n",
       "      <td>13033.4</td>\n",
       "      <td>60.5</td>\n",
       "      <td>2548.79</td>\n",
       "      <td>3983.12</td>\n",
       "      <td>18813.9</td>\n",
       "      <td>0.2368</td>\n",
       "      <td>0.3187</td>\n",
       "    </tr>\n",
       "    <tr>\n",
       "      <th>2019-01-01</th>\n",
       "      <td>65.6701</td>\n",
       "      <td>5.0256</td>\n",
       "      <td>270.33</td>\n",
       "      <td>62.3697</td>\n",
       "      <td>117.741</td>\n",
       "      <td>112.894</td>\n",
       "      <td>488.812</td>\n",
       "      <td>0.2448</td>\n",
       "      <td>0.3196</td>\n",
       "      <td>61.5643</td>\n",
       "      <td>...</td>\n",
       "      <td>0.2884</td>\n",
       "      <td>63.1</td>\n",
       "      <td>3.86667</td>\n",
       "      <td>13093.2</td>\n",
       "      <td>60.7</td>\n",
       "      <td>2560.41</td>\n",
       "      <td>4020.35</td>\n",
       "      <td>18950.3</td>\n",
       "      <td>0.2367</td>\n",
       "      <td>0.3187</td>\n",
       "    </tr>\n",
       "    <tr>\n",
       "      <th>2019-04-01</th>\n",
       "      <td>65.9566</td>\n",
       "      <td>5.22984</td>\n",
       "      <td>271.244</td>\n",
       "      <td>62.5071</td>\n",
       "      <td>119.861</td>\n",
       "      <td>111.682</td>\n",
       "      <td>491.985</td>\n",
       "      <td>0.2448</td>\n",
       "      <td>0.3196</td>\n",
       "      <td>61.4554</td>\n",
       "      <td>...</td>\n",
       "      <td>0.2884</td>\n",
       "      <td>62.9</td>\n",
       "      <td>3.66667</td>\n",
       "      <td>13212.8</td>\n",
       "      <td>60.6333</td>\n",
       "      <td>2531.42</td>\n",
       "      <td>4029.71</td>\n",
       "      <td>19020.6</td>\n",
       "      <td>0.2367</td>\n",
       "      <td>0.3187</td>\n",
       "    </tr>\n",
       "    <tr>\n",
       "      <th>2019-07-01</th>\n",
       "      <td>66.0785</td>\n",
       "      <td>5.2299</td>\n",
       "      <td>271.195</td>\n",
       "      <td>62.6227</td>\n",
       "      <td>120.854</td>\n",
       "      <td>112.746</td>\n",
       "      <td>494.974</td>\n",
       "      <td>0.2448</td>\n",
       "      <td>0.3196</td>\n",
       "      <td>61.2008</td>\n",
       "      <td>...</td>\n",
       "      <td>0.2884</td>\n",
       "      <td>63.1333</td>\n",
       "      <td>3.6</td>\n",
       "      <td>13301.3</td>\n",
       "      <td>60.8333</td>\n",
       "      <td>2536.56</td>\n",
       "      <td>4054.51</td>\n",
       "      <td>19141.7</td>\n",
       "      <td>0.2367</td>\n",
       "      <td>0.3187</td>\n",
       "    </tr>\n",
       "    <tr>\n",
       "      <th>2019-10-01</th>\n",
       "      <td>65.9389</td>\n",
       "      <td>5.16322</td>\n",
       "      <td>272.211</td>\n",
       "      <td>62.5343</td>\n",
       "      <td>120.146</td>\n",
       "      <td>112.018</td>\n",
       "      <td>496.921</td>\n",
       "      <td>0.2448</td>\n",
       "      <td>0.3196</td>\n",
       "      <td>61.2359</td>\n",
       "      <td>...</td>\n",
       "      <td>0.2884</td>\n",
       "      <td>63.2333</td>\n",
       "      <td>3.6</td>\n",
       "      <td>13353.7</td>\n",
       "      <td>60.9667</td>\n",
       "      <td>2557.85</td>\n",
       "      <td>4075.4</td>\n",
       "      <td>19254</td>\n",
       "      <td>0.2367</td>\n",
       "      <td>0.3187</td>\n",
       "    </tr>\n",
       "  </tbody>\n",
       "</table>\n",
       "<p>120 rows × 207 columns</p>\n",
       "</div>"
      ],
      "text/plain": [
       "Pays       Australia                                                         \\\n",
       "Variables     Actifs  Chomage    Conso  Emplois  Exports Formation      PIB   \n",
       "date                                                                          \n",
       "1990-01-01   63.5595  6.23002  108.373  59.5996   26.942    41.272   206.89   \n",
       "1990-04-01   63.7865  6.46453  108.965  59.6628   26.986    39.657  207.173   \n",
       "1990-07-01   63.9287  7.22537  109.106  59.3098   28.052    39.505  205.931   \n",
       "1990-10-01   63.6977  7.86751  108.421  58.6863   28.496    38.098  207.139   \n",
       "1991-01-01   63.3995  8.73256  108.655  57.8632   29.718    36.525  204.453   \n",
       "...              ...      ...      ...      ...      ...       ...      ...   \n",
       "2018-10-01    65.629  5.03693  269.315  62.3233  116.359   113.548  486.394   \n",
       "2019-01-01   65.6701   5.0256   270.33  62.3697  117.741   112.894  488.812   \n",
       "2019-04-01   65.9566  5.22984  271.244  62.5071  119.861   111.682  491.985   \n",
       "2019-07-01   66.0785   5.2299  271.195  62.6227  120.854   112.746  494.974   \n",
       "2019-10-01   65.9389  5.16322  272.211  62.5343  120.146   112.018  496.921   \n",
       "\n",
       "Pays                                    Austria  ... United Kingdom  \\\n",
       "Variables  income p0p50 income p90p100   Actifs  ... income p90p100   \n",
       "date                                             ...                  \n",
       "1990-01-01          NaN            NaN      NaN  ...            NaN   \n",
       "1990-04-01          NaN            NaN      NaN  ...            NaN   \n",
       "1990-07-01          NaN            NaN      NaN  ...            NaN   \n",
       "1990-10-01          NaN            NaN      NaN  ...            NaN   \n",
       "1991-01-01       0.2323         0.3281      NaN  ...         0.2593   \n",
       "...                 ...            ...      ...  ...            ...   \n",
       "2018-10-01       0.2451         0.3189  61.4248  ...         0.2894   \n",
       "2019-01-01       0.2448         0.3196  61.5643  ...         0.2884   \n",
       "2019-04-01       0.2448         0.3196  61.4554  ...         0.2884   \n",
       "2019-07-01       0.2448         0.3196  61.2008  ...         0.2884   \n",
       "2019-10-01       0.2448         0.3196  61.2359  ...         0.2884   \n",
       "\n",
       "Pays       United-States                                                \\\n",
       "Variables         Actifs  Chomage    Conso  Emplois  Exports Formation   \n",
       "date                                                                     \n",
       "1990-01-01       66.7333      5.3  5998.06     63.2    682.3   1695.37   \n",
       "1990-04-01       66.5333  5.33333  6016.33       63  690.785   1668.44   \n",
       "1990-07-01       66.4667      5.7  6040.16  62.6667  696.014   1659.14   \n",
       "1990-10-01          66.4  6.13333  5994.21  62.3333  702.143   1628.39   \n",
       "1991-01-01       66.2333      6.6  5971.67     61.9  706.434   1587.41   \n",
       "...                  ...      ...      ...      ...      ...       ...   \n",
       "2018-10-01          62.9  3.83333  13033.4     60.5  2548.79   3983.12   \n",
       "2019-01-01          63.1  3.86667  13093.2     60.7  2560.41   4020.35   \n",
       "2019-04-01          62.9  3.66667  13212.8  60.6333  2531.42   4029.71   \n",
       "2019-07-01       63.1333      3.6  13301.3  60.8333  2536.56   4054.51   \n",
       "2019-10-01       63.2333      3.6  13353.7  60.9667  2557.85    4075.4   \n",
       "\n",
       "Pays                                             \n",
       "Variables       PIB income p0p50 income p90p100  \n",
       "date                                             \n",
       "1990-01-01  9358.29          NaN            NaN  \n",
       "1990-04-01  9392.25          NaN            NaN  \n",
       "1990-07-01   9398.5          NaN            NaN  \n",
       "1990-10-01  9312.94          NaN            NaN  \n",
       "1991-01-01  9269.37       0.2496         0.2931  \n",
       "...             ...          ...            ...  \n",
       "2018-10-01  18813.9       0.2368         0.3187  \n",
       "2019-01-01  18950.3       0.2367         0.3187  \n",
       "2019-04-01  19020.6       0.2367         0.3187  \n",
       "2019-07-01  19141.7       0.2367         0.3187  \n",
       "2019-10-01    19254       0.2367         0.3187  \n",
       "\n",
       "[120 rows x 207 columns]"
      ]
     },
     "execution_count": 40,
     "metadata": {},
     "output_type": "execute_result"
    }
   ],
   "source": [
    "tocde"
   ]
  },
  {
   "cell_type": "markdown",
   "metadata": {},
   "source": [
    "*QUESTION* : Que faut-il faire des valeurs manquantes indiquée par NaN? Les remplacer par 0 fausserait les résultalts"
   ]
  },
  {
   "cell_type": "markdown",
   "metadata": {},
   "source": [
    "Nous allons désormais effectuer des tests de stationnarité sur les différentes variables. Nous appliquons deux tests  : KPSS qui a pour hypothèse nulle H0:\"La série est stationnaire\" et le test AFD dont l'hypothèse nulle est H0 : \"La série est non stationnaire\". NB : nous n'avons pas désaisonnalisé les séries avant d'effectuer les tests car nous ne savions pas si cela éait nécessaire."
   ]
  },
  {
   "cell_type": "markdown",
   "metadata": {},
   "source": [
    "# Partie 2 : Tests de stationnarité sur différentes séries temporelles"
   ]
  },
  {
   "cell_type": "markdown",
   "metadata": {},
   "source": [
    "Dans un premier temps nous nous intéressons au PIB des Etats-Unis, puis aux autres séries issues du même pays. Nous nous intéresserons par la suite à quelques données issues d'autres pays de l'OCDE. \n",
    "\n",
    "Nous effectuons à chaque fois et alternativement deux tests : **KPSS** et **ADF** (Augmented Dickey-Fuller)"
   ]
  },
  {
   "cell_type": "code",
   "execution_count": 24,
   "metadata": {},
   "outputs": [],
   "source": [
    "from statsmodels.tsa.stattools import kpss\n",
    "from statsmodels.tsa.stattools import adfuller"
   ]
  },
  {
   "cell_type": "code",
   "execution_count": 73,
   "metadata": {},
   "outputs": [],
   "source": [
    "def kpss_test(series, **kw):    \n",
    "    statistic, p_value, n_lags, critical_values = kpss(series, **kw)\n",
    "    \n",
    "    # Format Output\n",
    "    print(f'KPSS Statistic: {statistic}')\n",
    "    print(f'p-value: {p_value}')\n",
    "    print(f'num lags: {n_lags}')\n",
    "    print('Critial Values:')\n",
    "    for key, value in critical_values.items():\n",
    "        print(f'   {key} : {value}')\n",
    "    print(f'Result: The series is {\"not \" if p_value < 0.05 else \"\"}stationary')\n",
    "    \n",
    "def adf_test(series, **kw):    \n",
    "    statistic, p_value, n_lags, nobs, critical_values, icbest = adfuller(series, **kw)\n",
    "    # Format Output\n",
    "    print(f'ADF Statistic: {statistic}')\n",
    "    print(f'p-value: {p_value}')\n",
    "    print(f'num lags: {n_lags}')\n",
    "    print('Critial Values:')\n",
    "    for key, value in critical_values.items():\n",
    "        print(f'   {key} : {value}')\n",
    "    print(f'Result: The series is {\"not \" if p_value > 0.05 else \"\"}stationary')"
   ]
  },
  {
   "cell_type": "code",
   "execution_count": 89,
   "metadata": {},
   "outputs": [
    {
     "name": "stdout",
     "output_type": "stream",
     "text": [
      "KPSS Statistic: 0.9556147530640225\n",
      "p-value: 0.01\n",
      "num lags: 13\n",
      "Critial Values:\n",
      "   10% : 0.347\n",
      "   5% : 0.463\n",
      "   2.5% : 0.574\n",
      "   1% : 0.739\n",
      "Result: The series is not stationary\n"
     ]
    },
    {
     "name": "stderr",
     "output_type": "stream",
     "text": [
      "C:\\Users\\Asus\\anaconda3\\lib\\site-packages\\statsmodels\\tsa\\stattools.py:1843: FutureWarning: The behavior of using nlags=None will change in release 0.13.Currently nlags=None is the same as nlags=\"legacy\", and so a sample-size lag length is used. After the next release, the default will change to be the same as nlags=\"auto\" which uses an automatic lag length selection method. To silence this warning, either use \"auto\" or \"legacy\"\n",
      "  warnings.warn(msg, FutureWarning)\n",
      "C:\\Users\\Asus\\anaconda3\\lib\\site-packages\\statsmodels\\tsa\\stattools.py:1874: InterpolationWarning: The test statistic is outside of the range of p-values available in the\n",
      "look-up table. The actual p-value is smaller than the p-value returned.\n",
      "\n",
      "  warnings.warn(warn_msg.format(direction=\"smaller\"), InterpolationWarning)\n"
     ]
    }
   ],
   "source": [
    "serie1=tocde['United-States']['PIB']\n",
    "kpss_test(serie1)"
   ]
  },
  {
   "cell_type": "markdown",
   "metadata": {},
   "source": [
    "La série n'est pas stationnaire au seuil de 5%, nous allons donc appliquer le test à la série intégrée à l'ordre 1."
   ]
  },
  {
   "cell_type": "code",
   "execution_count": 90,
   "metadata": {},
   "outputs": [
    {
     "name": "stdout",
     "output_type": "stream",
     "text": [
      "KPSS Statistic: 0.08667738001103942\n",
      "p-value: 0.1\n",
      "num lags: 13\n",
      "Critial Values:\n",
      "   10% : 0.347\n",
      "   5% : 0.463\n",
      "   2.5% : 0.574\n",
      "   1% : 0.739\n",
      "Result: The series is stationary\n"
     ]
    },
    {
     "name": "stderr",
     "output_type": "stream",
     "text": [
      "C:\\Users\\Asus\\anaconda3\\lib\\site-packages\\statsmodels\\tsa\\stattools.py:1876: InterpolationWarning: The test statistic is outside of the range of p-values available in the\n",
      "look-up table. The actual p-value is greater than the p-value returned.\n",
      "\n",
      "  warnings.warn(warn_msg.format(direction=\"greater\"), InterpolationWarning)\n"
     ]
    }
   ],
   "source": [
    "serie2 = serie1 - serie1.shift()\n",
    "serie2.dropna(inplace=True)\n",
    "kpss_test(serie2)"
   ]
  },
  {
   "cell_type": "code",
   "execution_count": 94,
   "metadata": {},
   "outputs": [
    {
     "data": {
      "image/png": "[encoded data removed]",
      "text/plain": [
       "<Figure size 864x504 with 1 Axes>"
      ]
     },
     "metadata": {},
     "output_type": "display_data"
    }
   ],
   "source": [
    "import matplotlib.pyplot as plt \n",
    "\n",
    "fig = plt.figure(figsize=(12, 7))\n",
    "ax = fig.add_subplot(111)\n",
    "\n",
    "serie2.plot(linewidth=3)\n",
    "\n",
    "plt.title(\"Evolution stationnarisée du PIB Américain\")\n",
    "plt.show() "
   ]
  },
  {
   "cell_type": "markdown",
   "metadata": {},
   "source": [
    "La série intégrée à l'ordre 1 est stationnaire selon le test KPSS. Maintenant, effectuons le test ADF."
   ]
  },
  {
   "cell_type": "code",
   "execution_count": 76,
   "metadata": {},
   "outputs": [
    {
     "name": "stdout",
     "output_type": "stream",
     "text": [
      "ADF Statistic: -0.03066086875171673\n",
      "p-value: 0.9559218024233861\n",
      "num lags: 2\n",
      "Critial Values:\n",
      "   1% : -3.487517288664615\n",
      "   5% : -2.8865777180380032\n",
      "   10% : -2.5801239192052012\n",
      "Result: The series is not stationary\n",
      "ADF Statistic: -5.015879029087158\n",
      "p-value: 2.0642028929741757e-05\n",
      "num lags: 1\n",
      "Critial Values:\n",
      "   1% : -3.487517288664615\n",
      "   5% : -2.8865777180380032\n",
      "   10% : -2.5801239192052012\n",
      "Result: The series is stationary\n"
     ]
    }
   ],
   "source": [
    "adf_test(serie1)\n",
    "adf_test(serie2)"
   ]
  },
  {
   "cell_type": "markdown",
   "metadata": {},
   "source": [
    "Comme pour le test KPSS, la série intégrée à l'ordre 1 est stationnaire.\n",
    "Maintenant effectuons les tests sur le chômage"
   ]
  },
  {
   "cell_type": "code",
   "execution_count": 47,
   "metadata": {},
   "outputs": [],
   "source": [
    "serie1=tocde['United-States']['Chomage']"
   ]
  },
  {
   "cell_type": "code",
   "execution_count": 48,
   "metadata": {
    "scrolled": true
   },
   "outputs": [
    {
     "name": "stdout",
     "output_type": "stream",
     "text": [
      "KPSS Statistic: 0.09403467015765274\n",
      "p-value: 0.1\n",
      "num lags: 13\n",
      "Critial Values:\n",
      "   10% : 0.347\n",
      "   5% : 0.463\n",
      "   2.5% : 0.574\n",
      "   1% : 0.739\n",
      "Result: The series is stationary\n"
     ]
    },
    {
     "name": "stderr",
     "output_type": "stream",
     "text": [
      "C:\\Users\\Asus\\anaconda3\\lib\\site-packages\\statsmodels\\tsa\\stattools.py:1843: FutureWarning: The behavior of using nlags=None will change in release 0.13.Currently nlags=None is the same as nlags=\"legacy\", and so a sample-size lag length is used. After the next release, the default will change to be the same as nlags=\"auto\" which uses an automatic lag length selection method. To silence this warning, either use \"auto\" or \"legacy\"\n",
      "  warnings.warn(msg, FutureWarning)\n",
      "C:\\Users\\Asus\\anaconda3\\lib\\site-packages\\statsmodels\\tsa\\stattools.py:1876: InterpolationWarning: The test statistic is outside of the range of p-values available in the\n",
      "look-up table. The actual p-value is greater than the p-value returned.\n",
      "\n",
      "  warnings.warn(warn_msg.format(direction=\"greater\"), InterpolationWarning)\n"
     ]
    }
   ],
   "source": [
    "kpss_test(serie1)"
   ]
  },
  {
   "cell_type": "code",
   "execution_count": 49,
   "metadata": {},
   "outputs": [
    {
     "name": "stdout",
     "output_type": "stream",
     "text": [
      "ADF Statistic: -2.2576625816702687\n",
      "p-value: 0.18598624704216288\n",
      "num lags: 9\n",
      "Critial Values:\n",
      "   1% : -3.4912451337340342\n",
      "   5% : -2.8881954545454547\n",
      "   10% : -2.5809876033057852\n",
      "Result: The series is not stationary\n"
     ]
    }
   ],
   "source": [
    "adf_test(serie1)"
   ]
  },
  {
   "cell_type": "code",
   "execution_count": 50,
   "metadata": {},
   "outputs": [],
   "source": [
    "serie2 = serie1 - serie1.shift()\n",
    "serie2.dropna(inplace=True)"
   ]
  },
  {
   "cell_type": "code",
   "execution_count": 51,
   "metadata": {},
   "outputs": [
    {
     "name": "stdout",
     "output_type": "stream",
     "text": [
      "ADF Statistic: -4.072134155061357\n",
      "p-value: 0.0010765005911574184\n",
      "num lags: 7\n",
      "Critial Values:\n",
      "   1% : -3.490683082754047\n",
      "   5% : -2.8879516565798817\n",
      "   10% : -2.5808574442009578\n",
      "Result: The series is stationary\n"
     ]
    }
   ],
   "source": [
    "adf_test(serie2)"
   ]
  },
  {
   "cell_type": "markdown",
   "metadata": {},
   "source": [
    "La série du chomage des Etats-Unis est stationnaire d'après le test KPSS, nous n'avons pas besoin de l'intégrer à l'ordre 1. Cependant elle n'est pas stationnaire selon le test AFD. Elle est stationnaire selon le test AFD intégrée à l'ordre 1. Maintenant intéressons nous à l'emploi."
   ]
  },
  {
   "cell_type": "code",
   "execution_count": 52,
   "metadata": {},
   "outputs": [],
   "source": [
    "serie1=tocde['United-States']['Emplois']"
   ]
  },
  {
   "cell_type": "code",
   "execution_count": 53,
   "metadata": {},
   "outputs": [
    {
     "name": "stdout",
     "output_type": "stream",
     "text": [
      "KPSS Statistic: 0.562377817476475\n",
      "p-value: 0.027617608676469594\n",
      "num lags: 13\n",
      "Critial Values:\n",
      "   10% : 0.347\n",
      "   5% : 0.463\n",
      "   2.5% : 0.574\n",
      "   1% : 0.739\n",
      "Result: The series is not stationary\n"
     ]
    },
    {
     "name": "stderr",
     "output_type": "stream",
     "text": [
      "C:\\Users\\Asus\\anaconda3\\lib\\site-packages\\statsmodels\\tsa\\stattools.py:1843: FutureWarning: The behavior of using nlags=None will change in release 0.13.Currently nlags=None is the same as nlags=\"legacy\", and so a sample-size lag length is used. After the next release, the default will change to be the same as nlags=\"auto\" which uses an automatic lag length selection method. To silence this warning, either use \"auto\" or \"legacy\"\n",
      "  warnings.warn(msg, FutureWarning)\n"
     ]
    }
   ],
   "source": [
    "kpss_test(serie1)"
   ]
  },
  {
   "cell_type": "code",
   "execution_count": 54,
   "metadata": {},
   "outputs": [
    {
     "name": "stdout",
     "output_type": "stream",
     "text": [
      "KPSS Statistic: 0.09286187886977079\n",
      "p-value: 0.1\n",
      "num lags: 13\n",
      "Critial Values:\n",
      "   10% : 0.347\n",
      "   5% : 0.463\n",
      "   2.5% : 0.574\n",
      "   1% : 0.739\n",
      "Result: The series is stationary\n"
     ]
    },
    {
     "name": "stderr",
     "output_type": "stream",
     "text": [
      "C:\\Users\\Asus\\anaconda3\\lib\\site-packages\\statsmodels\\tsa\\stattools.py:1876: InterpolationWarning: The test statistic is outside of the range of p-values available in the\n",
      "look-up table. The actual p-value is greater than the p-value returned.\n",
      "\n",
      "  warnings.warn(warn_msg.format(direction=\"greater\"), InterpolationWarning)\n"
     ]
    }
   ],
   "source": [
    "serie2 = serie1 - serie1.shift()\n",
    "serie2.dropna(inplace=True)\n",
    "kpss_test(serie2)"
   ]
  },
  {
   "cell_type": "code",
   "execution_count": 55,
   "metadata": {},
   "outputs": [
    {
     "name": "stdout",
     "output_type": "stream",
     "text": [
      "ADF Statistic: -1.7678060192458818\n",
      "p-value: 0.3965581385738465\n",
      "num lags: 3\n",
      "Critial Values:\n",
      "   1% : -3.4880216384691867\n",
      "   5% : -2.8867966864160075\n",
      "   10% : -2.5802408234244947\n",
      "Result: The series is not stationary\n"
     ]
    }
   ],
   "source": [
    "adf_test(serie1)"
   ]
  },
  {
   "cell_type": "code",
   "execution_count": 56,
   "metadata": {},
   "outputs": [
    {
     "name": "stdout",
     "output_type": "stream",
     "text": [
      "ADF Statistic: -3.3324256453449883\n",
      "p-value: 0.013489819379773064\n",
      "num lags: 2\n",
      "Critial Values:\n",
      "   1% : -3.4880216384691867\n",
      "   5% : -2.8867966864160075\n",
      "   10% : -2.5802408234244947\n",
      "Result: The series is stationary\n"
     ]
    }
   ],
   "source": [
    "adf_test(serie2)"
   ]
  },
  {
   "cell_type": "markdown",
   "metadata": {},
   "source": [
    "La série temporelle de l'emploi aux Etats-Unis intégrée à l'ordre 1 est stationnaire selon les test KPSS et AFD."
   ]
  },
  {
   "cell_type": "code",
   "execution_count": 57,
   "metadata": {},
   "outputs": [],
   "source": [
    "serie1=tocde['United-States']['Actifs']"
   ]
  },
  {
   "cell_type": "code",
   "execution_count": 60,
   "metadata": {},
   "outputs": [
    {
     "name": "stdout",
     "output_type": "stream",
     "text": [
      "KPSS Statistic: 0.7821858654012013\n",
      "p-value: 0.01\n",
      "num lags: 13\n",
      "Critial Values:\n",
      "   10% : 0.347\n",
      "   5% : 0.463\n",
      "   2.5% : 0.574\n",
      "   1% : 0.739\n",
      "Result: The series is not stationary\n",
      "ADF Statistic: -0.566559878684141\n",
      "p-value: 0.878360525739549\n",
      "num lags: 6\n",
      "Critial Values:\n",
      "   1% : -3.489589552580676\n",
      "   5% : -2.887477210140433\n",
      "   10% : -2.580604145195395\n",
      "Result: The series is not stationary\n",
      "KPSS Statistic: 0.173043221208218\n",
      "p-value: 0.1\n",
      "num lags: 13\n",
      "Critial Values:\n",
      "   10% : 0.347\n",
      "   5% : 0.463\n",
      "   2.5% : 0.574\n",
      "   1% : 0.739\n",
      "Result: The series is stationary\n",
      "ADF Statistic: -2.680784596659418\n",
      "p-value: 0.07742280406617921\n",
      "num lags: 5\n",
      "Critial Values:\n",
      "   1% : -3.489589552580676\n",
      "   5% : -2.887477210140433\n",
      "   10% : -2.580604145195395\n",
      "Result: The series is not stationary\n"
     ]
    },
    {
     "name": "stderr",
     "output_type": "stream",
     "text": [
      "C:\\Users\\Asus\\anaconda3\\lib\\site-packages\\statsmodels\\tsa\\stattools.py:1843: FutureWarning: The behavior of using nlags=None will change in release 0.13.Currently nlags=None is the same as nlags=\"legacy\", and so a sample-size lag length is used. After the next release, the default will change to be the same as nlags=\"auto\" which uses an automatic lag length selection method. To silence this warning, either use \"auto\" or \"legacy\"\n",
      "  warnings.warn(msg, FutureWarning)\n",
      "C:\\Users\\Asus\\anaconda3\\lib\\site-packages\\statsmodels\\tsa\\stattools.py:1874: InterpolationWarning: The test statistic is outside of the range of p-values available in the\n",
      "look-up table. The actual p-value is smaller than the p-value returned.\n",
      "\n",
      "  warnings.warn(warn_msg.format(direction=\"smaller\"), InterpolationWarning)\n",
      "C:\\Users\\Asus\\anaconda3\\lib\\site-packages\\statsmodels\\tsa\\stattools.py:1843: FutureWarning: The behavior of using nlags=None will change in release 0.13.Currently nlags=None is the same as nlags=\"legacy\", and so a sample-size lag length is used. After the next release, the default will change to be the same as nlags=\"auto\" which uses an automatic lag length selection method. To silence this warning, either use \"auto\" or \"legacy\"\n",
      "  warnings.warn(msg, FutureWarning)\n",
      "C:\\Users\\Asus\\anaconda3\\lib\\site-packages\\statsmodels\\tsa\\stattools.py:1876: InterpolationWarning: The test statistic is outside of the range of p-values available in the\n",
      "look-up table. The actual p-value is greater than the p-value returned.\n",
      "\n",
      "  warnings.warn(warn_msg.format(direction=\"greater\"), InterpolationWarning)\n"
     ]
    }
   ],
   "source": [
    "kpss_test(serie1)\n",
    "adf_test(serie1)\n",
    "\n",
    "serie2 = serie1 - serie1.shift()\n",
    "serie2.dropna(inplace=True)\n",
    "\n",
    "kpss_test(serie2)\n",
    "adf_test(serie2)"
   ]
  },
  {
   "cell_type": "markdown",
   "metadata": {},
   "source": [
    "La série temporelle des actifs aux Etats-Unis est stationnaire intégrée à l'ordre 1 selon les tests KPSS et ADF."
   ]
  },
  {
   "cell_type": "code",
   "execution_count": 61,
   "metadata": {},
   "outputs": [],
   "source": [
    "serie1=tocde['United-States']['Formation']"
   ]
  },
  {
   "cell_type": "code",
   "execution_count": 62,
   "metadata": {},
   "outputs": [
    {
     "name": "stdout",
     "output_type": "stream",
     "text": [
      "KPSS Statistic: 0.8792935265198131\n",
      "p-value: 0.01\n",
      "num lags: 13\n",
      "Critial Values:\n",
      "   10% : 0.347\n",
      "   5% : 0.463\n",
      "   2.5% : 0.574\n",
      "   1% : 0.739\n",
      "Result: The series is not stationary\n",
      "ADF Statistic: -0.6611884906481107\n",
      "p-value: 0.8565481530480972\n",
      "num lags: 1\n",
      "Critial Values:\n",
      "   1% : -3.4870216863700767\n",
      "   5% : -2.8863625166643136\n",
      "   10% : -2.580009026141913\n",
      "Result: The series is not stationary\n",
      "KPSS Statistic: 0.07240057002216738\n",
      "p-value: 0.1\n",
      "num lags: 13\n",
      "Critial Values:\n",
      "   10% : 0.347\n",
      "   5% : 0.463\n",
      "   2.5% : 0.574\n",
      "   1% : 0.739\n",
      "Result: The series is stationary\n",
      "ADF Statistic: -5.31759978372413\n",
      "p-value: 5.034243261742464e-06\n",
      "num lags: 0\n",
      "Critial Values:\n",
      "   1% : -3.4870216863700767\n",
      "   5% : -2.8863625166643136\n",
      "   10% : -2.580009026141913\n",
      "Result: The series is stationary\n"
     ]
    },
    {
     "name": "stderr",
     "output_type": "stream",
     "text": [
      "C:\\Users\\Asus\\anaconda3\\lib\\site-packages\\statsmodels\\tsa\\stattools.py:1843: FutureWarning: The behavior of using nlags=None will change in release 0.13.Currently nlags=None is the same as nlags=\"legacy\", and so a sample-size lag length is used. After the next release, the default will change to be the same as nlags=\"auto\" which uses an automatic lag length selection method. To silence this warning, either use \"auto\" or \"legacy\"\n",
      "  warnings.warn(msg, FutureWarning)\n",
      "C:\\Users\\Asus\\anaconda3\\lib\\site-packages\\statsmodels\\tsa\\stattools.py:1874: InterpolationWarning: The test statistic is outside of the range of p-values available in the\n",
      "look-up table. The actual p-value is smaller than the p-value returned.\n",
      "\n",
      "  warnings.warn(warn_msg.format(direction=\"smaller\"), InterpolationWarning)\n",
      "C:\\Users\\Asus\\anaconda3\\lib\\site-packages\\statsmodels\\tsa\\stattools.py:1843: FutureWarning: The behavior of using nlags=None will change in release 0.13.Currently nlags=None is the same as nlags=\"legacy\", and so a sample-size lag length is used. After the next release, the default will change to be the same as nlags=\"auto\" which uses an automatic lag length selection method. To silence this warning, either use \"auto\" or \"legacy\"\n",
      "  warnings.warn(msg, FutureWarning)\n",
      "C:\\Users\\Asus\\anaconda3\\lib\\site-packages\\statsmodels\\tsa\\stattools.py:1876: InterpolationWarning: The test statistic is outside of the range of p-values available in the\n",
      "look-up table. The actual p-value is greater than the p-value returned.\n",
      "\n",
      "  warnings.warn(warn_msg.format(direction=\"greater\"), InterpolationWarning)\n"
     ]
    }
   ],
   "source": [
    "kpss_test(serie1)\n",
    "adf_test(serie1)\n",
    "\n",
    "serie2 = serie1 - serie1.shift()\n",
    "serie2.dropna(inplace=True)\n",
    "\n",
    "kpss_test(serie2)\n",
    "adf_test(serie2)"
   ]
  },
  {
   "cell_type": "markdown",
   "metadata": {},
   "source": [
    "La série temporelle de la formation aux Etats-Unis est stationnaire intégrée à l'ordre 1 selon les tests KPSS et AFD."
   ]
  },
  {
   "cell_type": "code",
   "execution_count": 63,
   "metadata": {},
   "outputs": [
    {
     "name": "stdout",
     "output_type": "stream",
     "text": [
      "KPSS Statistic: 0.9562502354679252\n",
      "p-value: 0.01\n",
      "num lags: 13\n",
      "Critial Values:\n",
      "   10% : 0.347\n",
      "   5% : 0.463\n",
      "   2.5% : 0.574\n",
      "   1% : 0.739\n",
      "Result: The series is not stationary\n",
      "ADF Statistic: -0.5539760704231023\n",
      "p-value: 0.8810461846151012\n",
      "num lags: 4\n",
      "Critial Values:\n",
      "   1% : -3.4885349695076844\n",
      "   5% : -2.887019521656941\n",
      "   10% : -2.5803597920604915\n",
      "Result: The series is not stationary\n",
      "KPSS Statistic: 0.10492181261084312\n",
      "p-value: 0.1\n",
      "num lags: 13\n",
      "Critial Values:\n",
      "   10% : 0.347\n",
      "   5% : 0.463\n",
      "   2.5% : 0.574\n",
      "   1% : 0.739\n",
      "Result: The series is stationary\n",
      "ADF Statistic: -3.5762462621917632\n",
      "p-value: 0.006231727614894671\n",
      "num lags: 3\n",
      "Critial Values:\n",
      "   1% : -3.4885349695076844\n",
      "   5% : -2.887019521656941\n",
      "   10% : -2.5803597920604915\n",
      "Result: The series is stationary\n"
     ]
    },
    {
     "name": "stderr",
     "output_type": "stream",
     "text": [
      "C:\\Users\\Asus\\anaconda3\\lib\\site-packages\\statsmodels\\tsa\\stattools.py:1843: FutureWarning: The behavior of using nlags=None will change in release 0.13.Currently nlags=None is the same as nlags=\"legacy\", and so a sample-size lag length is used. After the next release, the default will change to be the same as nlags=\"auto\" which uses an automatic lag length selection method. To silence this warning, either use \"auto\" or \"legacy\"\n",
      "  warnings.warn(msg, FutureWarning)\n",
      "C:\\Users\\Asus\\anaconda3\\lib\\site-packages\\statsmodels\\tsa\\stattools.py:1874: InterpolationWarning: The test statistic is outside of the range of p-values available in the\n",
      "look-up table. The actual p-value is smaller than the p-value returned.\n",
      "\n",
      "  warnings.warn(warn_msg.format(direction=\"smaller\"), InterpolationWarning)\n",
      "C:\\Users\\Asus\\anaconda3\\lib\\site-packages\\statsmodels\\tsa\\stattools.py:1843: FutureWarning: The behavior of using nlags=None will change in release 0.13.Currently nlags=None is the same as nlags=\"legacy\", and so a sample-size lag length is used. After the next release, the default will change to be the same as nlags=\"auto\" which uses an automatic lag length selection method. To silence this warning, either use \"auto\" or \"legacy\"\n",
      "  warnings.warn(msg, FutureWarning)\n",
      "C:\\Users\\Asus\\anaconda3\\lib\\site-packages\\statsmodels\\tsa\\stattools.py:1876: InterpolationWarning: The test statistic is outside of the range of p-values available in the\n",
      "look-up table. The actual p-value is greater than the p-value returned.\n",
      "\n",
      "  warnings.warn(warn_msg.format(direction=\"greater\"), InterpolationWarning)\n"
     ]
    }
   ],
   "source": [
    "serie1=tocde['United-States']['Conso']\n",
    "\n",
    "kpss_test(serie1)\n",
    "adf_test(serie1)\n",
    "\n",
    "serie2 = serie1 - serie1.shift()\n",
    "serie2.dropna(inplace=True)\n",
    "\n",
    "kpss_test(serie2)\n",
    "adf_test(serie2)"
   ]
  },
  {
   "cell_type": "code",
   "execution_count": 64,
   "metadata": {},
   "outputs": [
    {
     "name": "stdout",
     "output_type": "stream",
     "text": [
      "KPSS Statistic: 0.9535354665350328\n",
      "p-value: 0.01\n",
      "num lags: 13\n",
      "Critial Values:\n",
      "   10% : 0.347\n",
      "   5% : 0.463\n",
      "   2.5% : 0.574\n",
      "   1% : 0.739\n",
      "Result: The series is not stationary\n",
      "ADF Statistic: -0.4153590512020422\n",
      "p-value: 0.9075026091117948\n",
      "num lags: 1\n",
      "Critial Values:\n",
      "   1% : -3.4870216863700767\n",
      "   5% : -2.8863625166643136\n",
      "   10% : -2.580009026141913\n",
      "Result: The series is not stationary\n",
      "KPSS Statistic: 0.07461938064884595\n",
      "p-value: 0.1\n",
      "num lags: 13\n",
      "Critial Values:\n",
      "   10% : 0.347\n",
      "   5% : 0.463\n",
      "   2.5% : 0.574\n",
      "   1% : 0.739\n",
      "Result: The series is stationary\n",
      "ADF Statistic: -6.404710137541772\n",
      "p-value: 1.9561891822673754e-08\n",
      "num lags: 2\n",
      "Critial Values:\n",
      "   1% : -3.4880216384691867\n",
      "   5% : -2.8867966864160075\n",
      "   10% : -2.5802408234244947\n",
      "Result: The series is stationary\n"
     ]
    },
    {
     "name": "stderr",
     "output_type": "stream",
     "text": [
      "C:\\Users\\Asus\\anaconda3\\lib\\site-packages\\statsmodels\\tsa\\stattools.py:1843: FutureWarning: The behavior of using nlags=None will change in release 0.13.Currently nlags=None is the same as nlags=\"legacy\", and so a sample-size lag length is used. After the next release, the default will change to be the same as nlags=\"auto\" which uses an automatic lag length selection method. To silence this warning, either use \"auto\" or \"legacy\"\n",
      "  warnings.warn(msg, FutureWarning)\n",
      "C:\\Users\\Asus\\anaconda3\\lib\\site-packages\\statsmodels\\tsa\\stattools.py:1874: InterpolationWarning: The test statistic is outside of the range of p-values available in the\n",
      "look-up table. The actual p-value is smaller than the p-value returned.\n",
      "\n",
      "  warnings.warn(warn_msg.format(direction=\"smaller\"), InterpolationWarning)\n",
      "C:\\Users\\Asus\\anaconda3\\lib\\site-packages\\statsmodels\\tsa\\stattools.py:1843: FutureWarning: The behavior of using nlags=None will change in release 0.13.Currently nlags=None is the same as nlags=\"legacy\", and so a sample-size lag length is used. After the next release, the default will change to be the same as nlags=\"auto\" which uses an automatic lag length selection method. To silence this warning, either use \"auto\" or \"legacy\"\n",
      "  warnings.warn(msg, FutureWarning)\n",
      "C:\\Users\\Asus\\anaconda3\\lib\\site-packages\\statsmodels\\tsa\\stattools.py:1876: InterpolationWarning: The test statistic is outside of the range of p-values available in the\n",
      "look-up table. The actual p-value is greater than the p-value returned.\n",
      "\n",
      "  warnings.warn(warn_msg.format(direction=\"greater\"), InterpolationWarning)\n"
     ]
    }
   ],
   "source": [
    "serie1=tocde['United-States']['Exports']\n",
    "\n",
    "kpss_test(serie1)\n",
    "adf_test(serie1)\n",
    "\n",
    "serie2 = serie1 - serie1.shift()\n",
    "serie2.dropna(inplace=True)\n",
    "\n",
    "kpss_test(serie2)\n",
    "adf_test(serie2)"
   ]
  },
  {
   "cell_type": "markdown",
   "metadata": {},
   "source": [
    "Les séries des exportations et de la consommation aux Etat-Unis sont stationnaires d'ordre 1. "
   ]
  },
  {
   "cell_type": "code",
   "execution_count": 65,
   "metadata": {},
   "outputs": [
    {
     "name": "stdout",
     "output_type": "stream",
     "text": [
      "KPSS Statistic: 0.9463214923897139\n",
      "p-value: 0.01\n",
      "num lags: 13\n",
      "Critial Values:\n",
      "   10% : 0.347\n",
      "   5% : 0.463\n",
      "   2.5% : 0.574\n",
      "   1% : 0.739\n",
      "Result: The series is not stationary\n",
      "ADF Statistic: -0.5964925640167187\n",
      "p-value: 0.8717725957184033\n",
      "num lags: 4\n",
      "Critial Values:\n",
      "   1% : -3.4885349695076844\n",
      "   5% : -2.887019521656941\n",
      "   10% : -2.5803597920604915\n",
      "Result: The series is not stationary\n",
      "KPSS Statistic: 0.06908200146357098\n",
      "p-value: 0.1\n",
      "num lags: 13\n",
      "Critial Values:\n",
      "   10% : 0.347\n",
      "   5% : 0.463\n",
      "   2.5% : 0.574\n",
      "   1% : 0.739\n",
      "Result: The series is stationary\n",
      "ADF Statistic: -5.784852188149957\n",
      "p-value: 5.027080364504503e-07\n",
      "num lags: 3\n",
      "Critial Values:\n",
      "   1% : -3.4885349695076844\n",
      "   5% : -2.887019521656941\n",
      "   10% : -2.5803597920604915\n",
      "Result: The series is stationary\n"
     ]
    },
    {
     "name": "stderr",
     "output_type": "stream",
     "text": [
      "C:\\Users\\Asus\\anaconda3\\lib\\site-packages\\statsmodels\\tsa\\stattools.py:1843: FutureWarning: The behavior of using nlags=None will change in release 0.13.Currently nlags=None is the same as nlags=\"legacy\", and so a sample-size lag length is used. After the next release, the default will change to be the same as nlags=\"auto\" which uses an automatic lag length selection method. To silence this warning, either use \"auto\" or \"legacy\"\n",
      "  warnings.warn(msg, FutureWarning)\n",
      "C:\\Users\\Asus\\anaconda3\\lib\\site-packages\\statsmodels\\tsa\\stattools.py:1874: InterpolationWarning: The test statistic is outside of the range of p-values available in the\n",
      "look-up table. The actual p-value is smaller than the p-value returned.\n",
      "\n",
      "  warnings.warn(warn_msg.format(direction=\"smaller\"), InterpolationWarning)\n",
      "C:\\Users\\Asus\\anaconda3\\lib\\site-packages\\statsmodels\\tsa\\stattools.py:1843: FutureWarning: The behavior of using nlags=None will change in release 0.13.Currently nlags=None is the same as nlags=\"legacy\", and so a sample-size lag length is used. After the next release, the default will change to be the same as nlags=\"auto\" which uses an automatic lag length selection method. To silence this warning, either use \"auto\" or \"legacy\"\n",
      "  warnings.warn(msg, FutureWarning)\n",
      "C:\\Users\\Asus\\anaconda3\\lib\\site-packages\\statsmodels\\tsa\\stattools.py:1876: InterpolationWarning: The test statistic is outside of the range of p-values available in the\n",
      "look-up table. The actual p-value is greater than the p-value returned.\n",
      "\n",
      "  warnings.warn(warn_msg.format(direction=\"greater\"), InterpolationWarning)\n"
     ]
    }
   ],
   "source": [
    "serie1=tocde['France']['Exports']\n",
    "\n",
    "kpss_test(serie1)\n",
    "adf_test(serie1)\n",
    "\n",
    "serie2 = serie1 - serie1.shift()\n",
    "serie2.dropna(inplace=True)\n",
    "\n",
    "kpss_test(serie2)\n",
    "adf_test(serie2)"
   ]
  },
  {
   "cell_type": "code",
   "execution_count": 66,
   "metadata": {},
   "outputs": [
    {
     "name": "stdout",
     "output_type": "stream",
     "text": [
      "KPSS Statistic: 0.9463167146991861\n",
      "p-value: 0.01\n",
      "num lags: 13\n",
      "Critial Values:\n",
      "   10% : 0.347\n",
      "   5% : 0.463\n",
      "   2.5% : 0.574\n",
      "   1% : 0.739\n",
      "Result: The series is not stationary\n",
      "ADF Statistic: -0.7398047709641816\n",
      "p-value: 0.8361681058301751\n",
      "num lags: 3\n",
      "Critial Values:\n",
      "   1% : -3.4880216384691867\n",
      "   5% : -2.8867966864160075\n",
      "   10% : -2.5802408234244947\n",
      "Result: The series is not stationary\n",
      "KPSS Statistic: 0.10375421602102378\n",
      "p-value: 0.1\n",
      "num lags: 13\n",
      "Critial Values:\n",
      "   10% : 0.347\n",
      "   5% : 0.463\n",
      "   2.5% : 0.574\n",
      "   1% : 0.739\n",
      "Result: The series is stationary\n",
      "ADF Statistic: -4.585440042635904\n",
      "p-value: 0.00013739118891472726\n",
      "num lags: 2\n",
      "Critial Values:\n",
      "   1% : -3.4880216384691867\n",
      "   5% : -2.8867966864160075\n",
      "   10% : -2.5802408234244947\n",
      "Result: The series is stationary\n"
     ]
    },
    {
     "name": "stderr",
     "output_type": "stream",
     "text": [
      "C:\\Users\\Asus\\anaconda3\\lib\\site-packages\\statsmodels\\tsa\\stattools.py:1843: FutureWarning: The behavior of using nlags=None will change in release 0.13.Currently nlags=None is the same as nlags=\"legacy\", and so a sample-size lag length is used. After the next release, the default will change to be the same as nlags=\"auto\" which uses an automatic lag length selection method. To silence this warning, either use \"auto\" or \"legacy\"\n",
      "  warnings.warn(msg, FutureWarning)\n",
      "C:\\Users\\Asus\\anaconda3\\lib\\site-packages\\statsmodels\\tsa\\stattools.py:1874: InterpolationWarning: The test statistic is outside of the range of p-values available in the\n",
      "look-up table. The actual p-value is smaller than the p-value returned.\n",
      "\n",
      "  warnings.warn(warn_msg.format(direction=\"smaller\"), InterpolationWarning)\n",
      "C:\\Users\\Asus\\anaconda3\\lib\\site-packages\\statsmodels\\tsa\\stattools.py:1843: FutureWarning: The behavior of using nlags=None will change in release 0.13.Currently nlags=None is the same as nlags=\"legacy\", and so a sample-size lag length is used. After the next release, the default will change to be the same as nlags=\"auto\" which uses an automatic lag length selection method. To silence this warning, either use \"auto\" or \"legacy\"\n",
      "  warnings.warn(msg, FutureWarning)\n",
      "C:\\Users\\Asus\\anaconda3\\lib\\site-packages\\statsmodels\\tsa\\stattools.py:1876: InterpolationWarning: The test statistic is outside of the range of p-values available in the\n",
      "look-up table. The actual p-value is greater than the p-value returned.\n",
      "\n",
      "  warnings.warn(warn_msg.format(direction=\"greater\"), InterpolationWarning)\n"
     ]
    }
   ],
   "source": [
    "serie1=tocde['France']['PIB']\n",
    "\n",
    "kpss_test(serie1)\n",
    "adf_test(serie1)\n",
    "\n",
    "serie2 = serie1 - serie1.shift()\n",
    "serie2.dropna(inplace=True)\n",
    "\n",
    "kpss_test(serie2)\n",
    "adf_test(serie2)"
   ]
  },
  {
   "cell_type": "code",
   "execution_count": 67,
   "metadata": {},
   "outputs": [
    {
     "data": {
      "text/plain": [
       "date\n",
       "2003-01-01    7.93574\n",
       "2003-04-01    8.09662\n",
       "2003-07-01    8.01927\n",
       "2003-10-01    8.34581\n",
       "2004-01-01    8.52777\n",
       "               ...   \n",
       "2018-10-01    8.76056\n",
       "2019-01-01    8.75797\n",
       "2019-04-01    8.45035\n",
       "2019-07-01    8.43242\n",
       "2019-10-01    8.13304\n",
       "Name: Chomage, Length: 68, dtype: object"
      ]
     },
     "execution_count": 67,
     "metadata": {},
     "output_type": "execute_result"
    }
   ],
   "source": [
    "serie1 = tocde['France']['Chomage'].dropna()\n",
    "serie1"
   ]
  },
  {
   "cell_type": "code",
   "execution_count": 68,
   "metadata": {},
   "outputs": [
    {
     "name": "stdout",
     "output_type": "stream",
     "text": [
      "KPSS Statistic: 0.36416619219496654\n",
      "p-value: 0.09260077922630752\n",
      "num lags: 11\n",
      "Critial Values:\n",
      "   10% : 0.347\n",
      "   5% : 0.463\n",
      "   2.5% : 0.574\n",
      "   1% : 0.739\n",
      "Result: The series is stationary\n",
      "ADF Statistic: -1.844312301656592\n",
      "p-value: 0.3586941930018857\n",
      "num lags: 2\n",
      "Critial Values:\n",
      "   1% : -3.5352168748293127\n",
      "   5% : -2.9071540828402367\n",
      "   10% : -2.5911025443786984\n",
      "Result: The series is not stationary\n",
      "KPSS Statistic: 0.21697730844640392\n",
      "p-value: 0.1\n",
      "num lags: 11\n",
      "Critial Values:\n",
      "   10% : 0.347\n",
      "   5% : 0.463\n",
      "   2.5% : 0.574\n",
      "   1% : 0.739\n",
      "Result: The series is stationary\n",
      "ADF Statistic: -3.5439782521371233\n",
      "p-value: 0.006926916565178634\n",
      "num lags: 1\n",
      "Critial Values:\n",
      "   1% : -3.5352168748293127\n",
      "   5% : -2.9071540828402367\n",
      "   10% : -2.5911025443786984\n",
      "Result: The series is stationary\n"
     ]
    },
    {
     "name": "stderr",
     "output_type": "stream",
     "text": [
      "C:\\Users\\Asus\\anaconda3\\lib\\site-packages\\statsmodels\\tsa\\stattools.py:1843: FutureWarning: The behavior of using nlags=None will change in release 0.13.Currently nlags=None is the same as nlags=\"legacy\", and so a sample-size lag length is used. After the next release, the default will change to be the same as nlags=\"auto\" which uses an automatic lag length selection method. To silence this warning, either use \"auto\" or \"legacy\"\n",
      "  warnings.warn(msg, FutureWarning)\n",
      "C:\\Users\\Asus\\anaconda3\\lib\\site-packages\\statsmodels\\tsa\\stattools.py:1843: FutureWarning: The behavior of using nlags=None will change in release 0.13.Currently nlags=None is the same as nlags=\"legacy\", and so a sample-size lag length is used. After the next release, the default will change to be the same as nlags=\"auto\" which uses an automatic lag length selection method. To silence this warning, either use \"auto\" or \"legacy\"\n",
      "  warnings.warn(msg, FutureWarning)\n",
      "C:\\Users\\Asus\\anaconda3\\lib\\site-packages\\statsmodels\\tsa\\stattools.py:1876: InterpolationWarning: The test statistic is outside of the range of p-values available in the\n",
      "look-up table. The actual p-value is greater than the p-value returned.\n",
      "\n",
      "  warnings.warn(warn_msg.format(direction=\"greater\"), InterpolationWarning)\n"
     ]
    }
   ],
   "source": [
    "kpss_test(serie1)\n",
    "adf_test(serie1)\n",
    "\n",
    "serie2 = serie1 - serie1.shift()\n",
    "serie2.dropna(inplace=True)\n",
    "\n",
    "kpss_test(serie2)\n",
    "adf_test(serie2)"
   ]
  },
  {
   "cell_type": "markdown",
   "metadata": {},
   "source": [
    "Nous avons effectué un certain nombre de tests sur les séries. Parfois, les séries n'était stationnaires qu'à l'ordre 1. Dans ce cas la quelle série devons nous utiliser pour la méthode de contrôle synthétique? La série stationnarisée ou la série originale? "
   ]
  }
 ],
 "metadata": {
  "kernelspec": {
   "display_name": "Python 3",
   "language": "python",
   "name": "python3"
  },
  "language_info": {
   "codemirror_mode": {
    "name": "ipython",
    "version": 3
   },
   "file_extension": ".py",
   "mimetype": "text/x-python",
   "name": "python",
   "nbconvert_exporter": "python",
   "pygments_lexer": "ipython3",
   "version": "3.8.5"
  }
 },
 "nbformat": 4,
 "nbformat_minor": 4
}
