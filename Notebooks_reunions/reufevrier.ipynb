{
 "cells": [
  {
   "cell_type": "markdown",
   "metadata": {},
   "source": [
    "# Présentation de la base de données & Tests de stationnarité\n"
   ]
  },
  {
   "cell_type": "markdown",
   "metadata": {},
   "source": [
    "Nous avons exporté les données de l'OCDE dans une base de données que nous avons reformatée, afin d'avoir une indexation multiple au niveau des colonnes : un premier niveau pour les pays et ensuite pour chaque pays les différents indicateurs choisis. Nous avons aussi ajouté des indicateurs concernant les inégalités, à savoir le top 50% du revenu et le top 10% du revenu. Néanmoins nous nous posons quelques questions concernant ces indicateurrs. 1) Le coefficient de Gini est disponible mais le calcul n'est fait que par année (car il nous semble qu'il varie peu). Faut-il alors qu'on le calcule à la main pour chaque trimestre, l'utiliser tel quel (par annnée), ou ne pas l'utiliser du tout? 2) Est-il important de savoir si la part des revenus est bruts ou non, dans le mesure où l'on cherche à évaluer l'impact des politiques fiscales de Trump?"
   ]
  },
  {
   "cell_type": "markdown",
   "metadata": {},
   "source": [
    "# Partie 1 : Création d'une base de données synthétique pour l'OCDE"
   ]
  },
  {
   "cell_type": "code",
   "execution_count": 74,
   "metadata": {},
   "outputs": [],
   "source": [
    "import pandas as pd"
   ]
  },
  {
   "cell_type": "code",
   "execution_count": 75,
   "metadata": {},
   "outputs": [],
   "source": [
    "bottom_50 = pd.read_csv(\"bottom_50_income.csv\",\n",
    "                       header = 1,\n",
    "                       sep=';').sort_index(axis = 1)"
   ]
  },
  {
   "cell_type": "code",
   "execution_count": 76,
   "metadata": {},
   "outputs": [],
   "source": [
    "top_10 =pd.read_csv(r\"top_10_income.csv\",\n",
    "                   header = 1,\n",
    "                   sep=';').sort_index(axis = 1)"
   ]
  },
  {
   "cell_type": "code",
   "execution_count": 11,
   "metadata": {},
   "outputs": [
    {
     "ename": "KeyError",
     "evalue": "'Variables'",
     "output_type": "error",
     "traceback": [
      "\u001b[1;31m---------------------------------------------------------------------------\u001b[0m",
      "\u001b[1;31mKeyError\u001b[0m                                  Traceback (most recent call last)",
      "\u001b[1;32m~\\Anaconda3\\lib\\site-packages\\pandas\\core\\indexes\\base.py\u001b[0m in \u001b[0;36mget_loc\u001b[1;34m(self, key, method, tolerance)\u001b[0m\n\u001b[0;32m   2896\u001b[0m             \u001b[1;32mtry\u001b[0m\u001b[1;33m:\u001b[0m\u001b[1;33m\u001b[0m\u001b[1;33m\u001b[0m\u001b[0m\n\u001b[1;32m-> 2897\u001b[1;33m                 \u001b[1;32mreturn\u001b[0m \u001b[0mself\u001b[0m\u001b[1;33m.\u001b[0m\u001b[0m_engine\u001b[0m\u001b[1;33m.\u001b[0m\u001b[0mget_loc\u001b[0m\u001b[1;33m(\u001b[0m\u001b[0mkey\u001b[0m\u001b[1;33m)\u001b[0m\u001b[1;33m\u001b[0m\u001b[1;33m\u001b[0m\u001b[0m\n\u001b[0m\u001b[0;32m   2898\u001b[0m             \u001b[1;32mexcept\u001b[0m \u001b[0mKeyError\u001b[0m\u001b[1;33m:\u001b[0m\u001b[1;33m\u001b[0m\u001b[1;33m\u001b[0m\u001b[0m\n",
      "\u001b[1;32mpandas\\_libs\\index.pyx\u001b[0m in \u001b[0;36mpandas._libs.index.IndexEngine.get_loc\u001b[1;34m()\u001b[0m\n",
      "\u001b[1;32mpandas\\_libs\\index.pyx\u001b[0m in \u001b[0;36mpandas._libs.index.IndexEngine.get_loc\u001b[1;34m()\u001b[0m\n",
      "\u001b[1;32mpandas\\_libs\\hashtable_class_helper.pxi\u001b[0m in \u001b[0;36mpandas._libs.hashtable.PyObjectHashTable.get_item\u001b[1;34m()\u001b[0m\n",
      "\u001b[1;32mpandas\\_libs\\hashtable_class_helper.pxi\u001b[0m in \u001b[0;36mpandas._libs.hashtable.PyObjectHashTable.get_item\u001b[1;34m()\u001b[0m\n",
      "\u001b[1;31mKeyError\u001b[0m: 'Variables'",
      "\nDuring handling of the above exception, another exception occurred:\n",
      "\u001b[1;31mKeyError\u001b[0m                                  Traceback (most recent call last)",
      "\u001b[1;32m<ipython-input-11-8945f302de9e>\u001b[0m in \u001b[0;36m<module>\u001b[1;34m\u001b[0m\n\u001b[0;32m     12\u001b[0m \u001b[0mdf_ocde\u001b[0m\u001b[1;33m.\u001b[0m\u001b[0mrename\u001b[0m\u001b[1;33m(\u001b[0m\u001b[0mcolumns\u001b[0m\u001b[1;33m=\u001b[0m\u001b[1;33m{\u001b[0m\u001b[1;34m'Unnamed: 0'\u001b[0m\u001b[1;33m:\u001b[0m\u001b[1;34m'Variables'\u001b[0m\u001b[1;33m}\u001b[0m\u001b[1;33m,\u001b[0m \u001b[0minplace\u001b[0m\u001b[1;33m=\u001b[0m\u001b[1;32mTrue\u001b[0m\u001b[1;33m)\u001b[0m\u001b[1;33m\u001b[0m\u001b[1;33m\u001b[0m\u001b[0m\n\u001b[0;32m     13\u001b[0m \u001b[1;33m\u001b[0m\u001b[0m\n\u001b[1;32m---> 14\u001b[1;33m \u001b[0mind_tuple\u001b[0m \u001b[1;33m=\u001b[0m \u001b[0mlist\u001b[0m\u001b[1;33m(\u001b[0m\u001b[0mzip\u001b[0m\u001b[1;33m(\u001b[0m\u001b[0mdf_ocde\u001b[0m\u001b[1;33m[\u001b[0m\u001b[1;34m'Pays'\u001b[0m\u001b[1;33m]\u001b[0m\u001b[1;33m,\u001b[0m \u001b[0mdf_ocde\u001b[0m\u001b[1;33m[\u001b[0m\u001b[1;34m'Variables'\u001b[0m\u001b[1;33m]\u001b[0m\u001b[1;33m)\u001b[0m\u001b[1;33m)\u001b[0m\u001b[1;33m\u001b[0m\u001b[1;33m\u001b[0m\u001b[0m\n\u001b[0m\u001b[0;32m     15\u001b[0m \u001b[0mnew_index\u001b[0m \u001b[1;33m=\u001b[0m \u001b[0mpd\u001b[0m\u001b[1;33m.\u001b[0m\u001b[0mMultiIndex\u001b[0m\u001b[1;33m.\u001b[0m\u001b[0mfrom_tuples\u001b[0m\u001b[1;33m(\u001b[0m\u001b[0mind_tuple\u001b[0m\u001b[1;33m,\u001b[0m \u001b[0mnames\u001b[0m\u001b[1;33m=\u001b[0m\u001b[1;33m[\u001b[0m\u001b[1;34m\"Pays\"\u001b[0m\u001b[1;33m,\u001b[0m \u001b[1;34m\"Variables\"\u001b[0m\u001b[1;33m]\u001b[0m\u001b[1;33m)\u001b[0m\u001b[1;33m\u001b[0m\u001b[1;33m\u001b[0m\u001b[0m\n\u001b[0;32m     16\u001b[0m \u001b[1;33m\u001b[0m\u001b[0m\n",
      "\u001b[1;32m~\\Anaconda3\\lib\\site-packages\\pandas\\core\\frame.py\u001b[0m in \u001b[0;36m__getitem__\u001b[1;34m(self, key)\u001b[0m\n\u001b[0;32m   2978\u001b[0m             \u001b[1;32mif\u001b[0m \u001b[0mself\u001b[0m\u001b[1;33m.\u001b[0m\u001b[0mcolumns\u001b[0m\u001b[1;33m.\u001b[0m\u001b[0mnlevels\u001b[0m \u001b[1;33m>\u001b[0m \u001b[1;36m1\u001b[0m\u001b[1;33m:\u001b[0m\u001b[1;33m\u001b[0m\u001b[1;33m\u001b[0m\u001b[0m\n\u001b[0;32m   2979\u001b[0m                 \u001b[1;32mreturn\u001b[0m \u001b[0mself\u001b[0m\u001b[1;33m.\u001b[0m\u001b[0m_getitem_multilevel\u001b[0m\u001b[1;33m(\u001b[0m\u001b[0mkey\u001b[0m\u001b[1;33m)\u001b[0m\u001b[1;33m\u001b[0m\u001b[1;33m\u001b[0m\u001b[0m\n\u001b[1;32m-> 2980\u001b[1;33m             \u001b[0mindexer\u001b[0m \u001b[1;33m=\u001b[0m \u001b[0mself\u001b[0m\u001b[1;33m.\u001b[0m\u001b[0mcolumns\u001b[0m\u001b[1;33m.\u001b[0m\u001b[0mget_loc\u001b[0m\u001b[1;33m(\u001b[0m\u001b[0mkey\u001b[0m\u001b[1;33m)\u001b[0m\u001b[1;33m\u001b[0m\u001b[1;33m\u001b[0m\u001b[0m\n\u001b[0m\u001b[0;32m   2981\u001b[0m             \u001b[1;32mif\u001b[0m \u001b[0mis_integer\u001b[0m\u001b[1;33m(\u001b[0m\u001b[0mindexer\u001b[0m\u001b[1;33m)\u001b[0m\u001b[1;33m:\u001b[0m\u001b[1;33m\u001b[0m\u001b[1;33m\u001b[0m\u001b[0m\n\u001b[0;32m   2982\u001b[0m                 \u001b[0mindexer\u001b[0m \u001b[1;33m=\u001b[0m \u001b[1;33m[\u001b[0m\u001b[0mindexer\u001b[0m\u001b[1;33m]\u001b[0m\u001b[1;33m\u001b[0m\u001b[1;33m\u001b[0m\u001b[0m\n",
      "\u001b[1;32m~\\Anaconda3\\lib\\site-packages\\pandas\\core\\indexes\\base.py\u001b[0m in \u001b[0;36mget_loc\u001b[1;34m(self, key, method, tolerance)\u001b[0m\n\u001b[0;32m   2897\u001b[0m                 \u001b[1;32mreturn\u001b[0m \u001b[0mself\u001b[0m\u001b[1;33m.\u001b[0m\u001b[0m_engine\u001b[0m\u001b[1;33m.\u001b[0m\u001b[0mget_loc\u001b[0m\u001b[1;33m(\u001b[0m\u001b[0mkey\u001b[0m\u001b[1;33m)\u001b[0m\u001b[1;33m\u001b[0m\u001b[1;33m\u001b[0m\u001b[0m\n\u001b[0;32m   2898\u001b[0m             \u001b[1;32mexcept\u001b[0m \u001b[0mKeyError\u001b[0m\u001b[1;33m:\u001b[0m\u001b[1;33m\u001b[0m\u001b[1;33m\u001b[0m\u001b[0m\n\u001b[1;32m-> 2899\u001b[1;33m                 \u001b[1;32mreturn\u001b[0m \u001b[0mself\u001b[0m\u001b[1;33m.\u001b[0m\u001b[0m_engine\u001b[0m\u001b[1;33m.\u001b[0m\u001b[0mget_loc\u001b[0m\u001b[1;33m(\u001b[0m\u001b[0mself\u001b[0m\u001b[1;33m.\u001b[0m\u001b[0m_maybe_cast_indexer\u001b[0m\u001b[1;33m(\u001b[0m\u001b[0mkey\u001b[0m\u001b[1;33m)\u001b[0m\u001b[1;33m)\u001b[0m\u001b[1;33m\u001b[0m\u001b[1;33m\u001b[0m\u001b[0m\n\u001b[0m\u001b[0;32m   2900\u001b[0m         \u001b[0mindexer\u001b[0m \u001b[1;33m=\u001b[0m \u001b[0mself\u001b[0m\u001b[1;33m.\u001b[0m\u001b[0mget_indexer\u001b[0m\u001b[1;33m(\u001b[0m\u001b[1;33m[\u001b[0m\u001b[0mkey\u001b[0m\u001b[1;33m]\u001b[0m\u001b[1;33m,\u001b[0m \u001b[0mmethod\u001b[0m\u001b[1;33m=\u001b[0m\u001b[0mmethod\u001b[0m\u001b[1;33m,\u001b[0m \u001b[0mtolerance\u001b[0m\u001b[1;33m=\u001b[0m\u001b[0mtolerance\u001b[0m\u001b[1;33m)\u001b[0m\u001b[1;33m\u001b[0m\u001b[1;33m\u001b[0m\u001b[0m\n\u001b[0;32m   2901\u001b[0m         \u001b[1;32mif\u001b[0m \u001b[0mindexer\u001b[0m\u001b[1;33m.\u001b[0m\u001b[0mndim\u001b[0m \u001b[1;33m>\u001b[0m \u001b[1;36m1\u001b[0m \u001b[1;32mor\u001b[0m \u001b[0mindexer\u001b[0m\u001b[1;33m.\u001b[0m\u001b[0msize\u001b[0m \u001b[1;33m>\u001b[0m \u001b[1;36m1\u001b[0m\u001b[1;33m:\u001b[0m\u001b[1;33m\u001b[0m\u001b[1;33m\u001b[0m\u001b[0m\n",
      "\u001b[1;32mpandas\\_libs\\index.pyx\u001b[0m in \u001b[0;36mpandas._libs.index.IndexEngine.get_loc\u001b[1;34m()\u001b[0m\n",
      "\u001b[1;32mpandas\\_libs\\index.pyx\u001b[0m in \u001b[0;36mpandas._libs.index.IndexEngine.get_loc\u001b[1;34m()\u001b[0m\n",
      "\u001b[1;32mpandas\\_libs\\hashtable_class_helper.pxi\u001b[0m in \u001b[0;36mpandas._libs.hashtable.PyObjectHashTable.get_item\u001b[1;34m()\u001b[0m\n",
      "\u001b[1;32mpandas\\_libs\\hashtable_class_helper.pxi\u001b[0m in \u001b[0;36mpandas._libs.hashtable.PyObjectHashTable.get_item\u001b[1;34m()\u001b[0m\n",
      "\u001b[1;31mKeyError\u001b[0m: 'Variables'"
     ]
    }
   ],
   "source": [
    "#Note à nous mêmes : le ocde_df est maintenant à jour avec toutes les données (inégalités etc), donc \n",
    "#pas besoin refaire tourner ce code. il suffit de faire la commande table = pd.read_csv('ocde_df.csv',header = [1,2]) pour \n",
    "#avoir la table avec le double index (il faut simplement possiblement changer le path)\n",
    "\n",
    "pays_ocde = {'AT' :'Austria','AU':'Australia','BE':'Belgium','CA':'Canada','CH':'Switzerland','DE':'Germany','DK':'Denmark',\n",
    "             'ES':'Spain','FI':'Finland','FR':'France','GB':'United Kingdom','GR':'Greece','IE':'Ireland','IT':'Italy',\n",
    "             'JP':'Japan','LU':'Luxembourg','NL':'Netherlands','NO':'Norway','NZ':'New Zealand','PT':'Portugal','SE':'Sweden',\n",
    "             'TR':'Turkey','US':'United-States'}\n",
    "\n",
    "df_ocde = pd.read_csv(r\"ocde_df.csv\")\n",
    "\n",
    "df_ocde.rename(columns={'Unnamed: 0':'Variables'}, inplace=True)\n",
    "\n",
    "ind_tuple = list(zip(df_ocde['Pays'], df_ocde['Variables']))\n",
    "new_index = pd.MultiIndex.from_tuples(ind_tuple, names=[\"Pays\", \"Variables\"])\n",
    "\n",
    "# Mise en place du système de double indice\n",
    "\n",
    "tocde = df_ocde.T.copy()\n",
    "tocde.columns = new_index\n",
    "tocde.drop(['Variables', 'Pays'], inplace=True)\n",
    "\n",
    "# tocde = tocde.drop(['2020-Q1','2020-Q2','2020-Q3','2020-Q4','2021-Q1'])\n",
    "# On renomme les colonnes de bottom_50 et top_10\n",
    "\n",
    "bottom_50.columns = ['Variables', 'Year'] + list(pays_ocde[d] for d in sorted(pays_ocde.keys(), key=str))\n",
    "top_10.columns = ['Variables', 'Year'] + list(pays_ocde[d] for d in sorted(pays_ocde.keys(), key=str))\n",
    "\n",
    "# On prépare bottom_50 pour la fusion\n",
    "\n",
    "bottom_50 = bottom_50.drop('Variables', axis=1)\n",
    "for i in range (1,3) : \n",
    "    bottom_50 = pd.concat([bottom_50,bottom_50]) \n",
    "    \n",
    "annee = []\n",
    "for j in range (1,5):\n",
    "    for i in range (0,29):\n",
    "        annee.append(str(1991+i)+'-Q'+str(j))\n",
    "bottom_50['Year'] = annee\n",
    "\n",
    "# Mise en place double index pour bottom_50 \n",
    "\n",
    "bottom_50 = bottom_50.set_index('Year')\n",
    "\n",
    "bottom_50['Variables'] = 'income p0p50'\n",
    "\n",
    "ind_tuple = list(zip(bottom_50.columns, bottom_50['Variables']))\n",
    "new_index = pd.MultiIndex.from_tuples(ind_tuple, names=[\"Pays\", \"Variables\"])\n",
    "bottom_50.columns = new_index\n",
    "\n",
    "bottom_50 = bottom_50.drop(('Variables','income p0p50'), axis = 1)\n",
    "\n",
    "tocde = tocde.merge(right=bottom_50, how='outer',\n",
    "                    left_index=True,\n",
    "                    right_index=True).sort_index(axis = 0).sort_index(axis = 1)\n",
    "\n",
    "# On prépare top_10 pour la fusion\n",
    "\n",
    "top_10 = top_10.drop('Variables', axis = 1)\n",
    "for i in range (1,3) : \n",
    "    top_10 = pd.concat([top_10,top_10])    \n",
    "    \n",
    "annee = []\n",
    "for j in range (1,5):\n",
    "    for i in range (0,29):\n",
    "        annee.append(str(1991+i)+'-Q'+str(j))\n",
    "top_10['Year'] = annee\n",
    "\n",
    "# Mise en place double index pour top_10 :\n",
    "top_10 = top_10.set_index('Year')\n",
    "\n",
    "top_10['Variables'] = 'income p90p100'\n",
    "\n",
    "ind_tuple = list(zip(top_10.columns, top_10['Variables']))\n",
    "\n",
    "new_index = pd.MultiIndex.from_tuples(ind_tuple, names=[\"Pays\", \"Variables\"])\n",
    "\n",
    "top_10.columns = new_index\n",
    "\n",
    "top_10 = top_10.drop(('Variables','income p90p100'), axis=1)\n",
    "\n",
    "tocde = tocde.merge(right = top_10,\n",
    "                    how='outer',\n",
    "                    left_index=True,\n",
    "                    right_index=True).sort_index(axis = 0).sort_index(axis = 1)\n",
    "\n",
    "qs = tocde.index.str.replace(r'(Q\\d) (\\d+)', r'\\2-\\1')\n",
    "\n",
    "tocde['date'] = pd.PeriodIndex(qs, freq='Q').to_timestamp()\n",
    "\n",
    "\n",
    "tocde = tocde.reindex(index=tocde['date'])\n",
    "tocde = tocde.drop(\"date\", axis=1)\n",
    "#tocde.drop(list(pd.date_range('20200101', periods=5, freq='QS-JAN')), inplace=True)\n",
    "\n"
   ]
  },
  {
   "cell_type": "markdown",
   "metadata": {},
   "source": [
    "*QUESTION* : Que faut-il faire des valeurs manquantes indiquée par NaN? Les remplacer par 0 fausserait les résultalts"
   ]
  },
  {
   "cell_type": "markdown",
   "metadata": {},
   "source": [
    "Nous allons désormais effectuer des tests de stationnarité sur les différentes variables. Nous appliquons deux tests  : KPSS qui a pour hypothèse nulle H0:\"La série est stationnaire\" et le test AFD dont l'hypothèse nulle est H0 : \"La série est non stationnaire\". NB : nous n'avons pas désaisonnalisé les séries avant d'effectuer les tests car nous ne savions pas si cela éait nécessaire."
   ]
  },
  {
   "cell_type": "markdown",
   "metadata": {},
   "source": [
    "# Partie 2 : Tests de stationnarité sur différentes séries temporelles"
   ]
  },
  {
   "cell_type": "markdown",
   "metadata": {},
   "source": [
    "Dans un premier temps nous nous intéressons au PIB des Etats-Unis, puis aux autres séries issues du même pays. Nous nous intéresserons par la suite à quelques données issues d'autres pays de l'OCDE. \n",
    "\n",
    "Nous effectuons à chaque fois et alternativement deux tests : **KPSS** et **ADF** (Augmented Dickey-Fuller)"
   ]
  },
  {
   "cell_type": "code",
   "execution_count": 78,
   "metadata": {},
   "outputs": [],
   "source": [
    "from statsmodels.tsa.stattools import kpss\n",
    "from statsmodels.tsa.stattools import adfuller"
   ]
  },
  {
   "cell_type": "code",
   "execution_count": 79,
   "metadata": {},
   "outputs": [],
   "source": [
    "def kpss_test(series, **kw):    \n",
    "    statistic, p_value, n_lags, critical_values = kpss(series, **kw)\n",
    "    \n",
    "    # Format Output\n",
    "    print(f'KPSS Statistic: {statistic}')\n",
    "    print(f'p-value: {p_value}')\n",
    "    print(f'num lags: {n_lags}')\n",
    "    print('Critial Values:')\n",
    "    for key, value in critical_values.items():\n",
    "        print(f'   {key} : {value}')\n",
    "    print(f'Result: The series is {\"not \" if p_value < 0.05 else \"\"}stationary')\n",
    "    \n",
    "def adf_test(series, **kw):    \n",
    "    statistic, p_value, n_lags, nobs, critical_values, icbest = adfuller(series, **kw)\n",
    "    # Format Output\n",
    "    print(f'ADF Statistic: {statistic}')\n",
    "    print(f'p-value: {p_value}')\n",
    "    print(f'num lags: {n_lags}')\n",
    "    print('Critial Values:')\n",
    "    for key, value in critical_values.items():\n",
    "        print(f'   {key} : {value}')\n",
    "    print(f'Result: The series is {\"not \" if p_value > 0.05 else \"\"}stationary')"
   ]
  },
  {
   "cell_type": "code",
   "execution_count": 80,
   "metadata": {},
   "outputs": [
    {
     "name": "stdout",
     "output_type": "stream",
     "text": [
      "KPSS Statistic: 0.9556147530640225\n",
      "p-value: 0.01\n",
      "num lags: 13\n",
      "Critial Values:\n",
      "   10% : 0.347\n",
      "   5% : 0.463\n",
      "   2.5% : 0.574\n",
      "   1% : 0.739\n",
      "Result: The series is not stationary\n"
     ]
    },
    {
     "name": "stderr",
     "output_type": "stream",
     "text": [
      "C:\\Users\\SURFACE\\Anaconda3\\lib\\site-packages\\statsmodels\\tsa\\stattools.py:1850: FutureWarning: The behavior of using nlags=None will change in release 0.13.Currently nlags=None is the same as nlags=\"legacy\", and so a sample-size lag length is used. After the next release, the default will change to be the same as nlags=\"auto\" which uses an automatic lag length selection method. To silence this warning, either use \"auto\" or \"legacy\"\n",
      "  warnings.warn(msg, FutureWarning)\n",
      "C:\\Users\\SURFACE\\Anaconda3\\lib\\site-packages\\statsmodels\\tsa\\stattools.py:1882: InterpolationWarning: The test statistic is outside of the range of p-values available in the\n",
      "look-up table. The actual p-value is smaller than the p-value returned.\n",
      "\n",
      "  warn_msg.format(direction=\"smaller\"), InterpolationWarning\n"
     ]
    }
   ],
   "source": [
    "serie1=tocde['United-States']['PIB']\n",
    "kpss_test(serie1)"
   ]
  },
  {
   "cell_type": "markdown",
   "metadata": {},
   "source": [
    "La série n'est pas stationnaire au seuil de 5%, nous allons donc appliquer le test à la série intégrée à l'ordre 1."
   ]
  },
  {
   "cell_type": "code",
   "execution_count": 81,
   "metadata": {},
   "outputs": [
    {
     "name": "stdout",
     "output_type": "stream",
     "text": [
      "KPSS Statistic: 0.08667738001103942\n",
      "p-value: 0.1\n",
      "num lags: 13\n",
      "Critial Values:\n",
      "   10% : 0.347\n",
      "   5% : 0.463\n",
      "   2.5% : 0.574\n",
      "   1% : 0.739\n",
      "Result: The series is stationary\n"
     ]
    },
    {
     "name": "stderr",
     "output_type": "stream",
     "text": [
      "C:\\Users\\SURFACE\\Anaconda3\\lib\\site-packages\\statsmodels\\tsa\\stattools.py:1886: InterpolationWarning: The test statistic is outside of the range of p-values available in the\n",
      "look-up table. The actual p-value is greater than the p-value returned.\n",
      "\n",
      "  warn_msg.format(direction=\"greater\"), InterpolationWarning\n"
     ]
    }
   ],
   "source": [
    "serie2 = serie1 - serie1.shift()\n",
    "serie2.dropna(inplace=True)\n",
    "kpss_test(serie2)"
   ]
  },
  {
   "cell_type": "code",
   "execution_count": 82,
   "metadata": {},
   "outputs": [
    {
     "data": {
      "text/plain": [
       "<Figure size 1200x700 with 1 Axes>"
      ]
     },
     "metadata": {},
     "output_type": "display_data"
    }
   ],
   "source": [
    "import matplotlib.pyplot as plt \n",
    "\n",
    "fig = plt.figure(figsize=(12, 7))\n",
    "ax = fig.add_subplot(111)\n",
    "\n",
    "serie2.plot(linewidth=3)\n",
    "\n",
    "plt.title(\"Evolution stationnarisée du PIB Américain\")\n",
    "plt.show() "
   ]
  },
  {
   "cell_type": "markdown",
   "metadata": {},
   "source": [
    "La série intégrée à l'ordre 1 est stationnaire selon le test KPSS. Maintenant, effectuons le test ADF."
   ]
  },
  {
   "cell_type": "code",
   "execution_count": 83,
   "metadata": {},
   "outputs": [
    {
     "name": "stdout",
     "output_type": "stream",
     "text": [
      "ADF Statistic: -0.030660868751717637\n",
      "p-value: 0.955921802423386\n",
      "num lags: 2\n",
      "Critial Values:\n",
      "   1% : -3.487517288664615\n",
      "   5% : -2.8865777180380032\n",
      "   10% : -2.5801239192052012\n",
      "Result: The series is not stationary\n",
      "ADF Statistic: -5.015879029087155\n",
      "p-value: 2.06420289297421e-05\n",
      "num lags: 1\n",
      "Critial Values:\n",
      "   1% : -3.487517288664615\n",
      "   5% : -2.8865777180380032\n",
      "   10% : -2.5801239192052012\n",
      "Result: The series is stationary\n"
     ]
    }
   ],
   "source": [
    "adf_test(serie1)\n",
    "adf_test(serie2)"
   ]
  },
  {
   "cell_type": "markdown",
   "metadata": {},
   "source": [
    "Comme pour le test KPSS, la série intégrée à l'ordre 1 est stationnaire.\n",
    "Maintenant effectuons les tests sur le chômage"
   ]
  },
  {
   "cell_type": "code",
   "execution_count": 84,
   "metadata": {},
   "outputs": [],
   "source": [
    "serie1=tocde['United-States']['Chomage']"
   ]
  },
  {
   "cell_type": "code",
   "execution_count": 85,
   "metadata": {
    "scrolled": true
   },
   "outputs": [
    {
     "name": "stdout",
     "output_type": "stream",
     "text": [
      "KPSS Statistic: 0.09403467015765274\n",
      "p-value: 0.1\n",
      "num lags: 13\n",
      "Critial Values:\n",
      "   10% : 0.347\n",
      "   5% : 0.463\n",
      "   2.5% : 0.574\n",
      "   1% : 0.739\n",
      "Result: The series is stationary\n"
     ]
    },
    {
     "name": "stderr",
     "output_type": "stream",
     "text": [
      "C:\\Users\\SURFACE\\Anaconda3\\lib\\site-packages\\statsmodels\\tsa\\stattools.py:1850: FutureWarning: The behavior of using nlags=None will change in release 0.13.Currently nlags=None is the same as nlags=\"legacy\", and so a sample-size lag length is used. After the next release, the default will change to be the same as nlags=\"auto\" which uses an automatic lag length selection method. To silence this warning, either use \"auto\" or \"legacy\"\n",
      "  warnings.warn(msg, FutureWarning)\n",
      "C:\\Users\\SURFACE\\Anaconda3\\lib\\site-packages\\statsmodels\\tsa\\stattools.py:1886: InterpolationWarning: The test statistic is outside of the range of p-values available in the\n",
      "look-up table. The actual p-value is greater than the p-value returned.\n",
      "\n",
      "  warn_msg.format(direction=\"greater\"), InterpolationWarning\n"
     ]
    }
   ],
   "source": [
    "kpss_test(serie1)"
   ]
  },
  {
   "cell_type": "code",
   "execution_count": 86,
   "metadata": {},
   "outputs": [
    {
     "name": "stdout",
     "output_type": "stream",
     "text": [
      "ADF Statistic: -2.257662581670266\n",
      "p-value: 0.18598624704216382\n",
      "num lags: 9\n",
      "Critial Values:\n",
      "   1% : -3.4912451337340342\n",
      "   5% : -2.8881954545454547\n",
      "   10% : -2.5809876033057852\n",
      "Result: The series is not stationary\n"
     ]
    }
   ],
   "source": [
    "adf_test(serie1)"
   ]
  },
  {
   "cell_type": "code",
   "execution_count": 87,
   "metadata": {},
   "outputs": [],
   "source": [
    "serie2 = serie1 - serie1.shift()\n",
    "serie2.dropna(inplace=True)"
   ]
  },
  {
   "cell_type": "code",
   "execution_count": 88,
   "metadata": {},
   "outputs": [
    {
     "name": "stdout",
     "output_type": "stream",
     "text": [
      "ADF Statistic: -4.072134155061354\n",
      "p-value: 0.00107650059115743\n",
      "num lags: 7\n",
      "Critial Values:\n",
      "   1% : -3.490683082754047\n",
      "   5% : -2.8879516565798817\n",
      "   10% : -2.5808574442009578\n",
      "Result: The series is stationary\n"
     ]
    }
   ],
   "source": [
    "adf_test(serie2)"
   ]
  },
  {
   "cell_type": "markdown",
   "metadata": {},
   "source": [
    "La série du chomage des Etats-Unis est stationnaire d'après le test KPSS, nous n'avons pas besoin de l'intégrer à l'ordre 1. Cependant elle n'est pas stationnaire selon le test AFD. Elle est stationnaire selon le test AFD intégrée à l'ordre 1. Maintenant intéressons nous à l'emploi."
   ]
  },
  {
   "cell_type": "code",
   "execution_count": 89,
   "metadata": {},
   "outputs": [],
   "source": [
    "serie1=tocde['United-States']['Emplois']"
   ]
  },
  {
   "cell_type": "code",
   "execution_count": 90,
   "metadata": {},
   "outputs": [
    {
     "name": "stdout",
     "output_type": "stream",
     "text": [
      "KPSS Statistic: 0.562377817476475\n",
      "p-value: 0.027617608676469594\n",
      "num lags: 13\n",
      "Critial Values:\n",
      "   10% : 0.347\n",
      "   5% : 0.463\n",
      "   2.5% : 0.574\n",
      "   1% : 0.739\n",
      "Result: The series is not stationary\n"
     ]
    },
    {
     "name": "stderr",
     "output_type": "stream",
     "text": [
      "C:\\Users\\SURFACE\\Anaconda3\\lib\\site-packages\\statsmodels\\tsa\\stattools.py:1850: FutureWarning: The behavior of using nlags=None will change in release 0.13.Currently nlags=None is the same as nlags=\"legacy\", and so a sample-size lag length is used. After the next release, the default will change to be the same as nlags=\"auto\" which uses an automatic lag length selection method. To silence this warning, either use \"auto\" or \"legacy\"\n",
      "  warnings.warn(msg, FutureWarning)\n"
     ]
    }
   ],
   "source": [
    "kpss_test(serie1)"
   ]
  },
  {
   "cell_type": "code",
   "execution_count": 91,
   "metadata": {},
   "outputs": [
    {
     "name": "stdout",
     "output_type": "stream",
     "text": [
      "KPSS Statistic: 0.09286187886977079\n",
      "p-value: 0.1\n",
      "num lags: 13\n",
      "Critial Values:\n",
      "   10% : 0.347\n",
      "   5% : 0.463\n",
      "   2.5% : 0.574\n",
      "   1% : 0.739\n",
      "Result: The series is stationary\n"
     ]
    },
    {
     "name": "stderr",
     "output_type": "stream",
     "text": [
      "C:\\Users\\SURFACE\\Anaconda3\\lib\\site-packages\\statsmodels\\tsa\\stattools.py:1886: InterpolationWarning: The test statistic is outside of the range of p-values available in the\n",
      "look-up table. The actual p-value is greater than the p-value returned.\n",
      "\n",
      "  warn_msg.format(direction=\"greater\"), InterpolationWarning\n"
     ]
    }
   ],
   "source": [
    "serie2 = serie1 - serie1.shift()\n",
    "serie2.dropna(inplace=True)\n",
    "kpss_test(serie2)"
   ]
  },
  {
   "cell_type": "code",
   "execution_count": 92,
   "metadata": {},
   "outputs": [
    {
     "name": "stdout",
     "output_type": "stream",
     "text": [
      "ADF Statistic: -1.76780601924589\n",
      "p-value: 0.39655813857384226\n",
      "num lags: 3\n",
      "Critial Values:\n",
      "   1% : -3.4880216384691867\n",
      "   5% : -2.8867966864160075\n",
      "   10% : -2.5802408234244947\n",
      "Result: The series is not stationary\n"
     ]
    }
   ],
   "source": [
    "adf_test(serie1)"
   ]
  },
  {
   "cell_type": "code",
   "execution_count": 93,
   "metadata": {},
   "outputs": [
    {
     "name": "stdout",
     "output_type": "stream",
     "text": [
      "ADF Statistic: -3.332425645344991\n",
      "p-value: 0.013489819379772967\n",
      "num lags: 2\n",
      "Critial Values:\n",
      "   1% : -3.4880216384691867\n",
      "   5% : -2.8867966864160075\n",
      "   10% : -2.5802408234244947\n",
      "Result: The series is stationary\n"
     ]
    }
   ],
   "source": [
    "adf_test(serie2)"
   ]
  },
  {
   "cell_type": "markdown",
   "metadata": {},
   "source": [
    "La série temporelle de l'emploi aux Etats-Unis intégrée à l'ordre 1 est stationnaire selon les test KPSS et AFD."
   ]
  },
  {
   "cell_type": "code",
   "execution_count": 94,
   "metadata": {},
   "outputs": [],
   "source": [
    "serie1=tocde['United-States']['Actifs']"
   ]
  },
  {
   "cell_type": "code",
   "execution_count": 95,
   "metadata": {},
   "outputs": [
    {
     "name": "stderr",
     "output_type": "stream",
     "text": [
      "C:\\Users\\SURFACE\\Anaconda3\\lib\\site-packages\\statsmodels\\tsa\\stattools.py:1850: FutureWarning: The behavior of using nlags=None will change in release 0.13.Currently nlags=None is the same as nlags=\"legacy\", and so a sample-size lag length is used. After the next release, the default will change to be the same as nlags=\"auto\" which uses an automatic lag length selection method. To silence this warning, either use \"auto\" or \"legacy\"\n",
      "  warnings.warn(msg, FutureWarning)\n",
      "C:\\Users\\SURFACE\\Anaconda3\\lib\\site-packages\\statsmodels\\tsa\\stattools.py:1882: InterpolationWarning: The test statistic is outside of the range of p-values available in the\n",
      "look-up table. The actual p-value is smaller than the p-value returned.\n",
      "\n",
      "  warn_msg.format(direction=\"smaller\"), InterpolationWarning\n"
     ]
    },
    {
     "name": "stdout",
     "output_type": "stream",
     "text": [
      "KPSS Statistic: 0.7821858654012013\n",
      "p-value: 0.01\n",
      "num lags: 13\n",
      "Critial Values:\n",
      "   10% : 0.347\n",
      "   5% : 0.463\n",
      "   2.5% : 0.574\n",
      "   1% : 0.739\n",
      "Result: The series is not stationary\n",
      "ADF Statistic: -0.5665598786841473"
     ]
    },
    {
     "name": "stderr",
     "output_type": "stream",
     "text": [
      "C:\\Users\\SURFACE\\Anaconda3\\lib\\site-packages\\statsmodels\\tsa\\stattools.py:1850: FutureWarning: The behavior of using nlags=None will change in release 0.13.Currently nlags=None is the same as nlags=\"legacy\", and so a sample-size lag length is used. After the next release, the default will change to be the same as nlags=\"auto\" which uses an automatic lag length selection method. To silence this warning, either use \"auto\" or \"legacy\"\n",
      "  warnings.warn(msg, FutureWarning)\n",
      "C:\\Users\\SURFACE\\Anaconda3\\lib\\site-packages\\statsmodels\\tsa\\stattools.py:1886: InterpolationWarning: The test statistic is outside of the range of p-values available in the\n",
      "look-up table. The actual p-value is greater than the p-value returned.\n",
      "\n",
      "  warn_msg.format(direction=\"greater\"), InterpolationWarning\n"
     ]
    },
    {
     "name": "stdout",
     "output_type": "stream",
     "text": [
      "\n",
      "p-value: 0.8783605257395477\n",
      "num lags: 6\n",
      "Critial Values:\n",
      "   1% : -3.489589552580676\n",
      "   5% : -2.887477210140433\n",
      "   10% : -2.580604145195395\n",
      "Result: The series is not stationary\n",
      "KPSS Statistic: 0.17304322120821797\n",
      "p-value: 0.1\n",
      "num lags: 13\n",
      "Critial Values:\n",
      "   10% : 0.347\n",
      "   5% : 0.463\n",
      "   2.5% : 0.574\n",
      "   1% : 0.739\n",
      "Result: The series is stationary\n",
      "ADF Statistic: -2.6807845966594215\n",
      "p-value: 0.07742280406617864\n",
      "num lags: 5\n",
      "Critial Values:\n",
      "   1% : -3.489589552580676\n",
      "   5% : -2.887477210140433\n",
      "   10% : -2.580604145195395\n",
      "Result: The series is not stationary\n"
     ]
    }
   ],
   "source": [
    "kpss_test(serie1)\n",
    "adf_test(serie1)\n",
    "\n",
    "serie2 = serie1 - serie1.shift()\n",
    "serie2.dropna(inplace=True)\n",
    "\n",
    "kpss_test(serie2)\n",
    "adf_test(serie2)"
   ]
  },
  {
   "cell_type": "markdown",
   "metadata": {},
   "source": [
    "La série temporelle des actifs aux Etats-Unis est stationnaire intégrée à l'ordre 1 selon les tests KPSS et ADF."
   ]
  },
  {
   "cell_type": "code",
   "execution_count": 96,
   "metadata": {},
   "outputs": [],
   "source": [
    "serie1=tocde['United-States']['Formation']"
   ]
  },
  {
   "cell_type": "code",
   "execution_count": 97,
   "metadata": {},
   "outputs": [
    {
     "name": "stdout",
     "output_type": "stream",
     "text": [
      "KPSS Statistic: 0.8792935265198131\n",
      "p-value: 0.01\n",
      "num lags: 13\n",
      "Critial Values:\n",
      "   10% : 0.347\n",
      "   5% : 0.463\n",
      "   2.5% : 0.574\n",
      "   1% : 0.739\n",
      "Result: The series is not stationary\n",
      "ADF Statistic: -0.6611884906481112\n",
      "p-value: 0.856548153048097\n",
      "num lags: 1\n",
      "Critial Values:\n",
      "   1% : -3.4870216863700767\n",
      "   5% : -2.8863625166643136\n",
      "   10% : -2.580009026141913\n",
      "Result: The series is not stationary\n",
      "KPSS Statistic: 0.07240057002216738\n",
      "p-value: 0.1\n",
      "num lags: 13\n",
      "Critial Values:\n",
      "   10% : 0.347\n",
      "   5% : 0.463\n",
      "   2.5% : 0.574\n",
      "   1% : 0.739\n",
      "Result: The series is stationary\n"
     ]
    },
    {
     "name": "stderr",
     "output_type": "stream",
     "text": [
      "C:\\Users\\SURFACE\\Anaconda3\\lib\\site-packages\\statsmodels\\tsa\\stattools.py:1850: FutureWarning: The behavior of using nlags=None will change in release 0.13.Currently nlags=None is the same as nlags=\"legacy\", and so a sample-size lag length is used. After the next release, the default will change to be the same as nlags=\"auto\" which uses an automatic lag length selection method. To silence this warning, either use \"auto\" or \"legacy\"\n",
      "  warnings.warn(msg, FutureWarning)\n",
      "C:\\Users\\SURFACE\\Anaconda3\\lib\\site-packages\\statsmodels\\tsa\\stattools.py:1882: InterpolationWarning: The test statistic is outside of the range of p-values available in the\n",
      "look-up table. The actual p-value is smaller than the p-value returned.\n",
      "\n",
      "  warn_msg.format(direction=\"smaller\"), InterpolationWarning\n",
      "C:\\Users\\SURFACE\\Anaconda3\\lib\\site-packages\\statsmodels\\tsa\\stattools.py:1850: FutureWarning: The behavior of using nlags=None will change in release 0.13.Currently nlags=None is the same as nlags=\"legacy\", and so a sample-size lag length is used. After the next release, the default will change to be the same as nlags=\"auto\" which uses an automatic lag length selection method. To silence this warning, either use \"auto\" or \"legacy\"\n",
      "  warnings.warn(msg, FutureWarning)\n",
      "C:\\Users\\SURFACE\\Anaconda3\\lib\\site-packages\\statsmodels\\tsa\\stattools.py:1886: InterpolationWarning: The test statistic is outside of the range of p-values available in the\n",
      "look-up table. The actual p-value is greater than the p-value returned.\n",
      "\n",
      "  warn_msg.format(direction=\"greater\"), InterpolationWarning\n"
     ]
    },
    {
     "name": "stdout",
     "output_type": "stream",
     "text": [
      "ADF Statistic: -5.31759978372413\n",
      "p-value: 5.034243261742464e-06\n",
      "num lags: 0\n",
      "Critial Values:\n",
      "   1% : -3.4870216863700767\n",
      "   5% : -2.8863625166643136\n",
      "   10% : -2.580009026141913\n",
      "Result: The series is stationary\n"
     ]
    }
   ],
   "source": [
    "kpss_test(serie1)\n",
    "adf_test(serie1)\n",
    "\n",
    "serie2 = serie1 - serie1.shift()\n",
    "serie2.dropna(inplace=True)\n",
    "\n",
    "kpss_test(serie2)\n",
    "adf_test(serie2)"
   ]
  },
  {
   "cell_type": "markdown",
   "metadata": {},
   "source": [
    "La série temporelle de la formation aux Etats-Unis est stationnaire intégrée à l'ordre 1 selon les tests KPSS et AFD."
   ]
  },
  {
   "cell_type": "code",
   "execution_count": 98,
   "metadata": {},
   "outputs": [
    {
     "name": "stderr",
     "output_type": "stream",
     "text": [
      "C:\\Users\\SURFACE\\Anaconda3\\lib\\site-packages\\statsmodels\\tsa\\stattools.py:1850: FutureWarning: The behavior of using nlags=None will change in release 0.13.Currently nlags=None is the same as nlags=\"legacy\", and so a sample-size lag length is used. After the next release, the default will change to be the same as nlags=\"auto\" which uses an automatic lag length selection method. To silence this warning, either use \"auto\" or \"legacy\"\n",
      "  warnings.warn(msg, FutureWarning)\n"
     ]
    },
    {
     "name": "stdout",
     "output_type": "stream",
     "text": [
      "KPSS Statistic: 0.9562502354679252\n",
      "p-value: 0.01\n",
      "num lags: 13\n",
      "Critial Values:\n",
      "   10% : 0.347\n",
      "   5% : 0.463\n",
      "   2.5% : 0.574\n",
      "   1% : 0.739\n",
      "Result: The series is not stationary\n",
      "ADF Statistic: -0.5539760704231071\n",
      "p-value: 0.8810461846151003\n",
      "num lags: 4\n",
      "Critial Values:\n",
      "   1% : -3.4885349695076844\n",
      "   5% : -2.887019521656941\n",
      "   10% : -2.5803597920604915\n",
      "Result: The series is not stationary\n",
      "KPSS Statistic: 0.10492181261084312\n",
      "p-value: 0.1\n",
      "num lags: 13\n",
      "Critial Values:\n",
      "   10% : 0.347\n",
      "   5% : 0.463\n",
      "   2.5% : 0.574\n",
      "   1% : 0.739\n",
      "Result: The series is stationary\n",
      "ADF Statistic: -3.576246262191765\n",
      "p-value: 0.006231727614894642\n",
      "num lags: 3\n",
      "Critial Values:\n",
      "   1% : -3.4885349695076844\n",
      "   5% : -2.887019521656941\n",
      "   10% : -2.5803597920604915\n",
      "Result: The series is stationary\n"
     ]
    },
    {
     "name": "stderr",
     "output_type": "stream",
     "text": [
      "C:\\Users\\SURFACE\\Anaconda3\\lib\\site-packages\\statsmodels\\tsa\\stattools.py:1882: InterpolationWarning: The test statistic is outside of the range of p-values available in the\n",
      "look-up table. The actual p-value is smaller than the p-value returned.\n",
      "\n",
      "  warn_msg.format(direction=\"smaller\"), InterpolationWarning\n",
      "C:\\Users\\SURFACE\\Anaconda3\\lib\\site-packages\\statsmodels\\tsa\\stattools.py:1850: FutureWarning: The behavior of using nlags=None will change in release 0.13.Currently nlags=None is the same as nlags=\"legacy\", and so a sample-size lag length is used. After the next release, the default will change to be the same as nlags=\"auto\" which uses an automatic lag length selection method. To silence this warning, either use \"auto\" or \"legacy\"\n",
      "  warnings.warn(msg, FutureWarning)\n",
      "C:\\Users\\SURFACE\\Anaconda3\\lib\\site-packages\\statsmodels\\tsa\\stattools.py:1886: InterpolationWarning: The test statistic is outside of the range of p-values available in the\n",
      "look-up table. The actual p-value is greater than the p-value returned.\n",
      "\n",
      "  warn_msg.format(direction=\"greater\"), InterpolationWarning\n"
     ]
    }
   ],
   "source": [
    "serie1=tocde['United-States']['Conso']\n",
    "\n",
    "kpss_test(serie1)\n",
    "adf_test(serie1)\n",
    "\n",
    "serie2 = serie1 - serie1.shift()\n",
    "serie2.dropna(inplace=True)\n",
    "\n",
    "kpss_test(serie2)\n",
    "adf_test(serie2)"
   ]
  },
  {
   "cell_type": "code",
   "execution_count": 99,
   "metadata": {},
   "outputs": [
    {
     "name": "stdout",
     "output_type": "stream",
     "text": [
      "KPSS Statistic: 0.9535354665350331\n",
      "p-value: 0.01\n",
      "num lags: 13\n",
      "Critial Values:\n",
      "   10% : 0.347\n",
      "   5% : 0.463\n",
      "   2.5% : 0.574\n",
      "   1% : 0.739\n",
      "Result: The series is not stationary\n",
      "ADF Statistic: -0.41535905120204186\n",
      "p-value: 0.9075026091117948\n",
      "num lags: 1\n",
      "Critial Values:\n",
      "   1% : -3.4870216863700767\n",
      "   5% : -2.8863625166643136\n",
      "   10% : -2.580009026141913\n",
      "Result: The series is not stationary\n",
      "KPSS Statistic: 0.07461938064884595\n",
      "p-value: 0.1\n",
      "num lags: 13\n",
      "Critial Values:\n",
      "   10% : 0.347\n",
      "   5% : 0.463\n",
      "   2.5% : 0.574\n",
      "   1% : 0.739\n",
      "Result: The series is stationary\n",
      "ADF Statistic: -6.404710137541772"
     ]
    },
    {
     "name": "stderr",
     "output_type": "stream",
     "text": [
      "C:\\Users\\SURFACE\\Anaconda3\\lib\\site-packages\\statsmodels\\tsa\\stattools.py:1850: FutureWarning: The behavior of using nlags=None will change in release 0.13.Currently nlags=None is the same as nlags=\"legacy\", and so a sample-size lag length is used. After the next release, the default will change to be the same as nlags=\"auto\" which uses an automatic lag length selection method. To silence this warning, either use \"auto\" or \"legacy\"\n",
      "  warnings.warn(msg, FutureWarning)\n",
      "C:\\Users\\SURFACE\\Anaconda3\\lib\\site-packages\\statsmodels\\tsa\\stattools.py:1882: InterpolationWarning: The test statistic is outside of the range of p-values available in the\n",
      "look-up table. The actual p-value is smaller than the p-value returned.\n",
      "\n",
      "  warn_msg.format(direction=\"smaller\"), InterpolationWarning\n",
      "C:\\Users\\SURFACE\\Anaconda3\\lib\\site-packages\\statsmodels\\tsa\\stattools.py:1850: FutureWarning: The behavior of using nlags=None will change in release 0.13.Currently nlags=None is the same as nlags=\"legacy\", and so a sample-size lag length is used. After the next release, the default will change to be the same as nlags=\"auto\" which uses an automatic lag length selection method. To silence this warning, either use \"auto\" or \"legacy\"\n",
      "  warnings.warn(msg, FutureWarning)\n",
      "C:\\Users\\SURFACE\\Anaconda3\\lib\\site-packages\\statsmodels\\tsa\\stattools.py:1886: InterpolationWarning: The test statistic is outside of the range of p-values available in the\n",
      "look-up table. The actual p-value is greater than the p-value returned.\n",
      "\n",
      "  warn_msg.format(direction=\"greater\"), InterpolationWarning\n"
     ]
    },
    {
     "name": "stdout",
     "output_type": "stream",
     "text": [
      "\n",
      "p-value: 1.9561891822673754e-08\n",
      "num lags: 2\n",
      "Critial Values:\n",
      "   1% : -3.4880216384691867\n",
      "   5% : -2.8867966864160075\n",
      "   10% : -2.5802408234244947\n",
      "Result: The series is stationary\n"
     ]
    }
   ],
   "source": [
    "serie1=tocde['United-States']['Exports']\n",
    "\n",
    "kpss_test(serie1)\n",
    "adf_test(serie1)\n",
    "\n",
    "serie2 = serie1 - serie1.shift()\n",
    "serie2.dropna(inplace=True)\n",
    "\n",
    "kpss_test(serie2)\n",
    "adf_test(serie2)"
   ]
  },
  {
   "cell_type": "markdown",
   "metadata": {},
   "source": [
    "Les séries des exportations et de la consommation aux Etat-Unis sont stationnaires d'ordre 1. "
   ]
  },
  {
   "cell_type": "code",
   "execution_count": 100,
   "metadata": {},
   "outputs": [
    {
     "name": "stdout",
     "output_type": "stream",
     "text": [
      "KPSS Statistic: 0.9463216189808877\n",
      "p-value: 0.01\n",
      "num lags: 13\n",
      "Critial Values:\n",
      "   10% : 0.347\n",
      "   5% : 0.463\n",
      "   2.5% : 0.574\n",
      "   1% : 0.739\n",
      "Result: The series is not stationary\n",
      "ADF Statistic: -0.596628095004256\n",
      "p-value: 0.8717421203610168\n",
      "num lags: 4\n",
      "Critial Values:\n",
      "   1% : -3.4885349695076844\n",
      "   5% : -2.887019521656941\n",
      "   10% : -2.5803597920604915\n",
      "Result: The series is not stationary\n",
      "KPSS Statistic: 0.0691047423630225\n",
      "p-value: 0.1\n",
      "num lags: 13\n",
      "Critial Values:\n",
      "   10% : 0.347\n",
      "   5% : 0.463\n",
      "   2.5% : 0.574\n",
      "   1% : 0.739\n",
      "Result: The series is stationary\n",
      "ADF Statistic: -5.7762344942919235\n",
      "p-value: 5.251605272992117e-07\n",
      "num lags: 3\n",
      "Critial Values:\n",
      "   1% : -3.4885349695076844\n",
      "   5% : -2.887019521656941\n",
      "   10% : -2.5803597920604915\n",
      "Result: The series is stationary\n"
     ]
    },
    {
     "name": "stderr",
     "output_type": "stream",
     "text": [
      "C:\\Users\\SURFACE\\Anaconda3\\lib\\site-packages\\statsmodels\\tsa\\stattools.py:1850: FutureWarning: The behavior of using nlags=None will change in release 0.13.Currently nlags=None is the same as nlags=\"legacy\", and so a sample-size lag length is used. After the next release, the default will change to be the same as nlags=\"auto\" which uses an automatic lag length selection method. To silence this warning, either use \"auto\" or \"legacy\"\n",
      "  warnings.warn(msg, FutureWarning)\n",
      "C:\\Users\\SURFACE\\Anaconda3\\lib\\site-packages\\statsmodels\\tsa\\stattools.py:1882: InterpolationWarning: The test statistic is outside of the range of p-values available in the\n",
      "look-up table. The actual p-value is smaller than the p-value returned.\n",
      "\n",
      "  warn_msg.format(direction=\"smaller\"), InterpolationWarning\n",
      "C:\\Users\\SURFACE\\Anaconda3\\lib\\site-packages\\statsmodels\\tsa\\stattools.py:1850: FutureWarning: The behavior of using nlags=None will change in release 0.13.Currently nlags=None is the same as nlags=\"legacy\", and so a sample-size lag length is used. After the next release, the default will change to be the same as nlags=\"auto\" which uses an automatic lag length selection method. To silence this warning, either use \"auto\" or \"legacy\"\n",
      "  warnings.warn(msg, FutureWarning)\n",
      "C:\\Users\\SURFACE\\Anaconda3\\lib\\site-packages\\statsmodels\\tsa\\stattools.py:1886: InterpolationWarning: The test statistic is outside of the range of p-values available in the\n",
      "look-up table. The actual p-value is greater than the p-value returned.\n",
      "\n",
      "  warn_msg.format(direction=\"greater\"), InterpolationWarning\n"
     ]
    }
   ],
   "source": [
    "serie1=tocde['France']['Exports']\n",
    "\n",
    "kpss_test(serie1)\n",
    "adf_test(serie1)\n",
    "\n",
    "serie2 = serie1 - serie1.shift()\n",
    "serie2.dropna(inplace=True)\n",
    "\n",
    "kpss_test(serie2)\n",
    "adf_test(serie2)"
   ]
  },
  {
   "cell_type": "code",
   "execution_count": 101,
   "metadata": {},
   "outputs": [
    {
     "name": "stdout",
     "output_type": "stream",
     "text": [
      "KPSS Statistic: 0.9463203939048611\n",
      "p-value: 0.01\n",
      "num lags: 13\n",
      "Critial Values:\n",
      "   10% : 0.347\n",
      "   5% : 0.463\n",
      "   2.5% : 0.574\n",
      "   1% : 0.739\n",
      "Result: The series is not stationary\n",
      "ADF Statistic: -0.7408050180956267\n",
      "p-value: 0.8358951808506699\n",
      "num lags: 3\n",
      "Critial Values:\n",
      "   1% : -3.4880216384691867\n",
      "   5% : -2.8867966864160075\n",
      "   10% : -2.5802408234244947\n",
      "Result: The series is not stationary\n",
      "KPSS Statistic: 0.10384215499048713\n",
      "p-value: 0.1\n",
      "num lags: 13\n",
      "Critial Values:\n",
      "   10% : 0.347\n",
      "   5% : 0.463\n",
      "   2.5% : 0.574\n",
      "   1% : 0.739\n",
      "Result: The series is stationary\n",
      "ADF Statistic: -4.590291487315106\n",
      "p-value: 0.00013459780302248328\n",
      "num lags: 2\n",
      "Critial Values:\n",
      "   1% : -3.4880216384691867\n",
      "   5% : -2.8867966864160075\n",
      "   10% : -2.5802408234244947\n",
      "Result: The series is stationary\n"
     ]
    },
    {
     "name": "stderr",
     "output_type": "stream",
     "text": [
      "C:\\Users\\SURFACE\\Anaconda3\\lib\\site-packages\\statsmodels\\tsa\\stattools.py:1850: FutureWarning: The behavior of using nlags=None will change in release 0.13.Currently nlags=None is the same as nlags=\"legacy\", and so a sample-size lag length is used. After the next release, the default will change to be the same as nlags=\"auto\" which uses an automatic lag length selection method. To silence this warning, either use \"auto\" or \"legacy\"\n",
      "  warnings.warn(msg, FutureWarning)\n",
      "C:\\Users\\SURFACE\\Anaconda3\\lib\\site-packages\\statsmodels\\tsa\\stattools.py:1882: InterpolationWarning: The test statistic is outside of the range of p-values available in the\n",
      "look-up table. The actual p-value is smaller than the p-value returned.\n",
      "\n",
      "  warn_msg.format(direction=\"smaller\"), InterpolationWarning\n",
      "C:\\Users\\SURFACE\\Anaconda3\\lib\\site-packages\\statsmodels\\tsa\\stattools.py:1850: FutureWarning: The behavior of using nlags=None will change in release 0.13.Currently nlags=None is the same as nlags=\"legacy\", and so a sample-size lag length is used. After the next release, the default will change to be the same as nlags=\"auto\" which uses an automatic lag length selection method. To silence this warning, either use \"auto\" or \"legacy\"\n",
      "  warnings.warn(msg, FutureWarning)\n",
      "C:\\Users\\SURFACE\\Anaconda3\\lib\\site-packages\\statsmodels\\tsa\\stattools.py:1886: InterpolationWarning: The test statistic is outside of the range of p-values available in the\n",
      "look-up table. The actual p-value is greater than the p-value returned.\n",
      "\n",
      "  warn_msg.format(direction=\"greater\"), InterpolationWarning\n"
     ]
    }
   ],
   "source": [
    "serie1=tocde['France']['PIB']\n",
    "\n",
    "kpss_test(serie1)\n",
    "adf_test(serie1)\n",
    "\n",
    "serie2 = serie1 - serie1.shift()\n",
    "serie2.dropna(inplace=True)\n",
    "\n",
    "kpss_test(serie2)\n",
    "adf_test(serie2)"
   ]
  },
  {
   "cell_type": "code",
   "execution_count": 102,
   "metadata": {},
   "outputs": [
    {
     "data": {
      "text/plain": [
       "date\n",
       "2003-01-01    7.93574\n",
       "2003-04-01    8.09662\n",
       "2003-07-01    8.01927\n",
       "2003-10-01    8.34581\n",
       "2004-01-01    8.52777\n",
       "               ...   \n",
       "2018-10-01    8.76056\n",
       "2019-01-01    8.75797\n",
       "2019-04-01    8.45035\n",
       "2019-07-01    8.43242\n",
       "2019-10-01    8.13304\n",
       "Name: Chomage, Length: 68, dtype: object"
      ]
     },
     "execution_count": 102,
     "metadata": {},
     "output_type": "execute_result"
    }
   ],
   "source": [
    "serie1 = tocde['France']['Chomage'].dropna()\n",
    "serie1"
   ]
  },
  {
   "cell_type": "code",
   "execution_count": 103,
   "metadata": {},
   "outputs": [
    {
     "name": "stdout",
     "output_type": "stream",
     "text": [
      "KPSS Statistic: 0.36416619219496654\n",
      "p-value: 0.09260077922630752\n",
      "num lags: 11\n",
      "Critial Values:\n",
      "   10% : 0.347\n",
      "   5% : 0.463\n",
      "   2.5% : 0.574\n",
      "   1% : 0.739\n",
      "Result: The series is stationary\n",
      "ADF Statistic: -1.8443123016565899\n",
      "p-value: 0.3586941930018869\n",
      "num lags: 2\n",
      "Critial Values:\n",
      "   1% : -3.5352168748293127\n",
      "   5% : -2.9071540828402367\n",
      "   10% : -2.5911025443786984\n",
      "Result: The series is not stationary\n",
      "KPSS Statistic: 0.21697730844640392\n",
      "p-value: 0.1\n",
      "num lags: 11\n",
      "Critial Values:\n",
      "   10% : 0.347\n",
      "   5% : 0.463\n",
      "   2.5% : 0.574\n",
      "   1% : 0.739\n",
      "Result: The series is stationary\n",
      "ADF Statistic: -3.543978252137125\n",
      "p-value: 0.006926916565178599\n",
      "num lags: 1\n",
      "Critial Values:\n",
      "   1% : -3.5352168748293127\n",
      "   5% : -2.9071540828402367\n",
      "   10% : -2.5911025443786984\n",
      "Result: The series is stationary\n"
     ]
    },
    {
     "name": "stderr",
     "output_type": "stream",
     "text": [
      "C:\\Users\\SURFACE\\Anaconda3\\lib\\site-packages\\statsmodels\\tsa\\stattools.py:1850: FutureWarning: The behavior of using nlags=None will change in release 0.13.Currently nlags=None is the same as nlags=\"legacy\", and so a sample-size lag length is used. After the next release, the default will change to be the same as nlags=\"auto\" which uses an automatic lag length selection method. To silence this warning, either use \"auto\" or \"legacy\"\n",
      "  warnings.warn(msg, FutureWarning)\n",
      "C:\\Users\\SURFACE\\Anaconda3\\lib\\site-packages\\statsmodels\\tsa\\stattools.py:1850: FutureWarning: The behavior of using nlags=None will change in release 0.13.Currently nlags=None is the same as nlags=\"legacy\", and so a sample-size lag length is used. After the next release, the default will change to be the same as nlags=\"auto\" which uses an automatic lag length selection method. To silence this warning, either use \"auto\" or \"legacy\"\n",
      "  warnings.warn(msg, FutureWarning)\n",
      "C:\\Users\\SURFACE\\Anaconda3\\lib\\site-packages\\statsmodels\\tsa\\stattools.py:1886: InterpolationWarning: The test statistic is outside of the range of p-values available in the\n",
      "look-up table. The actual p-value is greater than the p-value returned.\n",
      "\n",
      "  warn_msg.format(direction=\"greater\"), InterpolationWarning\n"
     ]
    }
   ],
   "source": [
    "kpss_test(serie1)\n",
    "adf_test(serie1)\n",
    "\n",
    "serie2 = serie1 - serie1.shift()\n",
    "serie2.dropna(inplace=True)\n",
    "\n",
    "kpss_test(serie2)\n",
    "adf_test(serie2)"
   ]
  },
  {
   "cell_type": "markdown",
   "metadata": {},
   "source": [
    "Nous avons effectué un certain nombre de tests sur les séries. Parfois, les séries n'était stationnaires qu'à l'ordre 1. Dans ce cas la quelle série devons nous utiliser pour la méthode de contrôle synthétique? La série stationnarisée ou la série originale? "
   ]
  }
 ],
 "metadata": {
  "kernelspec": {
   "display_name": "Python 3",
   "language": "python",
   "name": "python3"
  },
  "language_info": {
   "codemirror_mode": {
    "name": "ipython",
    "version": 3
   },
   "file_extension": ".py",
   "mimetype": "text/x-python",
   "name": "python",
   "nbconvert_exporter": "python",
   "pygments_lexer": "ipython3",
   "version": "3.8.3"
  }
 },
 "nbformat": 4,
 "nbformat_minor": 4
}
